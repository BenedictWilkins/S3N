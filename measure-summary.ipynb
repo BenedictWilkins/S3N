{
 "cells": [
  {
   "cell_type": "code",
   "execution_count": 1,
   "metadata": {
    "scrolled": true
   },
   "outputs": [
    {
     "data": {
      "application/vnd.jupyter.widget-view+json": {
       "model_id": "05048846977f4ca0aaf6506c69996b6e",
       "version_major": 2,
       "version_minor": 0
      },
      "text/plain": [
       "FigureWidget({\n",
       "    'data': [{'mode': 'lines+markers',\n",
       "              'name': '1',\n",
       "              'type': 'scatte…"
      ]
     },
     "metadata": {},
     "output_type": "display_data"
    }
   ],
   "source": [
    "import pyworld.toolkit.tools.datautils.random as R\n",
    "import pyworld.toolkit.tools.visutils.jupyter as J\n",
    "\n",
    "import numpy as np\n",
    "\n",
    "d = 2\n",
    "n = 20\n",
    "\n",
    "z = R.walk(n, d)\n",
    "\n",
    "plot = J.plot(z[:,0],z[:,1], mode=J.line_mode.both)\n",
    "\n",
    "def displacement(z1, z2):\n",
    "    return ((z1 - z2)**2).sum()\n",
    "\n",
    "\n"
   ]
  },
  {
   "cell_type": "code",
   "execution_count": 2,
   "metadata": {},
   "outputs": [],
   "source": [
    "z1 = z[1]\n",
    "z2 = z[4]\n",
    "\n",
    "plot.trace([z1[0],z2[0]], [z1[1],z2[1]])\n",
    "\n",
    "\n",
    "\n"
   ]
  },
  {
   "cell_type": "code",
   "execution_count": null,
   "metadata": {},
   "outputs": [],
   "source": []
  }
 ],
 "metadata": {
  "kernelspec": {
   "display_name": "PhD",
   "language": "python",
   "name": "phd"
  },
  "language_info": {
   "codemirror_mode": {
    "name": "ipython",
    "version": 3
   },
   "file_extension": ".py",
   "mimetype": "text/x-python",
   "name": "python",
   "nbconvert_exporter": "python",
   "pygments_lexer": "ipython3",
   "version": "3.8.2"
  }
 },
 "nbformat": 4,
 "nbformat_minor": 4
}
