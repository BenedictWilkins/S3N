{
 "cells": [
  {
   "cell_type": "code",
   "execution_count": 10,
   "metadata": {},
   "outputs": [],
   "source": [
    "from types import SimpleNamespace\n",
    "from pprint import pprint\n",
    "import numpy as np\n",
    "\n",
    "import anomapy.train.sssn as sssn\n",
    "import datasets\n",
    "\n",
    "import pyworld.toolkit.tools.wbutils as wbu\n",
    "import pyworld.toolkit.tools.torchutils as tu\n",
    "import pyworld.toolkit.tools.visutils.jupyter as J\n",
    "import pyworld.toolkit.tools.visutils.transform as T\n",
    "import pyworld.toolkit.tools.visutils.plot as vplot\n",
    "\n",
    "num_episodes = 1\n",
    "\n",
    "envs = ['BeamRider','Breakout','Enduro','Pong','Qbert','Seaquest','SpaceInvaders']\n",
    "\n",
    "def load_data(env):\n",
    "    dataset = datasets.dataset('aad.anomaly.{0}'.format(env))\n",
    "    #dataset.state.transform.to_float().CHW().torch()\n",
    "    anoms, epis = zip(*[(a,e[0]) for a,e in dataset.meta.anomaly.items()])\n",
    "    \n",
    "    a_episodes = [d for d in dataset.state.load(files=[e for e in epis])]\n",
    "    a_episodes = SimpleNamespace(**{anoms[i]:a_episodes[i] for i in range(len(anoms))})\n",
    "    a_labels = [d for d in dataset.label.load(files=[e for e in epis])]\n",
    "    a_labels = SimpleNamespace(**{anoms[i]:a_labels[i] for i in range(len(anoms))})\n",
    "    \n",
    "    #a_tlabels = [np.logical_or(l[:-1], l[1:]).astype(np.uint8) for l in a_labels] #transition labels\n",
    "    return a_episodes, a_labels\n",
    "    \n"
   ]
  },
  {
   "cell_type": "code",
   "execution_count": 11,
   "metadata": {},
   "outputs": [
    {
     "name": "stdout",
     "output_type": "stream",
     "text": [
      "loading dataset aad.anomaly.BeamRider.state...\n"
     ]
    },
    {
     "data": {
      "application/vnd.jupyter.widget-view+json": {
       "model_id": "3bc8b499677343d6a0cfa3c86b81aa24",
       "version_major": 2,
       "version_minor": 0
      },
      "text/plain": [
       "IntProgress(value=0, max=7)"
      ]
     },
     "metadata": {},
     "output_type": "display_data"
    },
    {
     "name": "stdout",
     "output_type": "stream",
     "text": [
      "loading dataset aad.anomaly.BeamRider.label...\n"
     ]
    },
    {
     "data": {
      "application/vnd.jupyter.widget-view+json": {
       "model_id": "39a9a1042b624bba9886c4e1c57035b8",
       "version_major": 2,
       "version_minor": 0
      },
      "text/plain": [
       "IntProgress(value=0, max=7)"
      ]
     },
     "metadata": {},
     "output_type": "display_data"
    }
   ],
   "source": [
    "for env in envs:\n",
    "    x, y = load_data(env)\n",
    "    break"
   ]
  },
  {
   "cell_type": "code",
   "execution_count": 12,
   "metadata": {},
   "outputs": [
    {
     "name": "stdout",
     "output_type": "stream",
     "text": [
      "dict_keys(['fill', 'block', 'freeze', 'freeze_skip', 'split_horizontal', 'split_vertical', 'action'])\n"
     ]
    }
   ],
   "source": [
    "print(x.__dict__.keys())"
   ]
  },
  {
   "cell_type": "code",
   "execution_count": 24,
   "metadata": {},
   "outputs": [
    {
     "data": {
      "application/vnd.jupyter.widget-view+json": {
       "model_id": "93dca676b2ac4efaa6d853a7f90015b0",
       "version_major": 2,
       "version_minor": 0
      },
      "text/plain": [
       "interactive(children=(IntSlider(value=0, description='x', layout=Layout(width='99%'), max=5030), Output()), _d…"
      ]
     },
     "metadata": {},
     "output_type": "display_data"
    },
    {
     "data": {
      "application/vnd.jupyter.widget-view+json": {
       "model_id": "390bfb39d19e48c9812ca093eedea3b7",
       "version_major": 2,
       "version_minor": 0
      },
      "text/plain": [
       "Canvas(height=210, width=160)"
      ]
     },
     "metadata": {},
     "output_type": "display_data"
    },
    {
     "data": {
      "application/vnd.jupyter.widget-view+json": {
       "model_id": "5e24ac8dcea2426489513d0debf830e2",
       "version_major": 2,
       "version_minor": 0
      },
      "text/plain": [
       "HTML(value='0')"
      ]
     },
     "metadata": {},
     "output_type": "display_data"
    }
   ],
   "source": [
    "# transition labelling for flickering\n",
    "y.fill = y.fill.astype(np.int64)\n",
    "y.fill = np.abs(y.fill[:-1] - y.fill[1:])\n",
    "\n",
    "t = J.text(\"Test\")\n",
    "def slide(i):\n",
    "    t.value = str(yf[i])\n",
    "\n",
    "J.images(x.fill, on_interact=slide)\n",
    "\n",
    "display(t)"
   ]
  },
  {
   "cell_type": "code",
   "execution_count": 26,
   "metadata": {},
   "outputs": [
    {
     "data": {
      "application/vnd.jupyter.widget-view+json": {
       "model_id": "51a31991289746b7bdd52c4d47cfd606",
       "version_major": 2,
       "version_minor": 0
      },
      "text/plain": [
       "interactive(children=(IntSlider(value=0, description='x', layout=Layout(width='99%'), max=1445), Output()), _d…"
      ]
     },
     "metadata": {},
     "output_type": "display_data"
    },
    {
     "data": {
      "application/vnd.jupyter.widget-view+json": {
       "model_id": "6f60099e9f9c4b7f931ac461b09e3fc6",
       "version_major": 2,
       "version_minor": 0
      },
      "text/plain": [
       "Canvas(height=210, width=160)"
      ]
     },
     "metadata": {},
     "output_type": "display_data"
    },
    {
     "data": {
      "application/vnd.jupyter.widget-view+json": {
       "model_id": "dd3a35db3739426aae0e29ac477fbbeb",
       "version_major": 2,
       "version_minor": 0
      },
      "text/plain": [
       "HTML(value='0')"
      ]
     },
     "metadata": {},
     "output_type": "display_data"
    }
   ],
   "source": [
    "# transition labelling for flickering\n",
    "y.freeze_skip = y.freeze_skip.astype(np.int64)\n",
    "#y.fill = np.abs(y.fill[:-1] - y.fill[1:])\n",
    "\n",
    "t = J.text(\"Test\")\n",
    "def slide(i):\n",
    "    t.value = str(y.freeze_skip[i])\n",
    "\n",
    "J.images(x.freeze_skip, on_interact=slide)\n",
    "\n",
    "display(t)"
   ]
  },
  {
   "cell_type": "code",
   "execution_count": null,
   "metadata": {},
   "outputs": [],
   "source": [
    "\n",
    "\n"
   ]
  }
 ],
 "metadata": {
  "kernelspec": {
   "display_name": "PhD",
   "language": "python",
   "name": "phd"
  },
  "language_info": {
   "codemirror_mode": {
    "name": "ipython",
    "version": 3
   },
   "file_extension": ".py",
   "mimetype": "text/x-python",
   "name": "python",
   "nbconvert_exporter": "python",
   "pygments_lexer": "ipython3",
   "version": "3.8.2"
  }
 },
 "nbformat": 4,
 "nbformat_minor": 4
}
