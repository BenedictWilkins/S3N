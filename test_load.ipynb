{
 "cells": [
  {
   "cell_type": "code",
   "execution_count": 1,
   "metadata": {
    "scrolled": false
   },
   "outputs": [
    {
     "name": "stdout",
     "output_type": "stream",
     "text": [
      " -- found local run at /home/ben/Documents/repos/anomaly-detection/wandb/dryrun-20200423_204355-sssn-SpaceInvaders-20200423214354\n",
      " -- found config file: \n",
      "{'_wandb': {'desc': None,\n",
      "            'value': {'cli_version': '0.8.32',\n",
      "                      'framework': 'torch',\n",
      "                      'is_jupyter_run': True,\n",
      "                      'is_kaggle_kernel': False,\n",
      "                      'python_version': '3.8.2'}},\n",
      " 'action': {'desc': None, 'value': {'dtype': 'uint8', 'shape': [6]}},\n",
      " 'batch_size': {'desc': None, 'value': 64},\n",
      " 'device': {'desc': None, 'value': 'cuda'},\n",
      " 'epochs': {'desc': None, 'value': 10},\n",
      " 'latent_shape': {'desc': None, 'value': 2},\n",
      " 'model': {'desc': None, 'value': 'sssn'},\n",
      " 'name': {'desc': None, 'value': 'SpaceInvaders'},\n",
      " 'optim_k': {'desc': None, 'value': 16},\n",
      " 'optim_lr': {'desc': None, 'value': 0.0005},\n",
      " 'optim_margin': {'desc': None, 'value': 0.2},\n",
      " 'optim_mode': {'desc': None, 'value': 0},\n",
      " 'reward': {'desc': None, 'value': {'dtype': 'float64', 'shape': [1]}},\n",
      " 'state': {'desc': None,\n",
      "           'value': {'dtype': 'float32',\n",
      "                     'format': ['CHW', 'RGB'],\n",
      "                     'shape': [3, 210, 160]}},\n",
      " 'wandb_version': 1}\n",
      " -- found 1 model(s): \n",
      " ---- model.pt\n"
     ]
    }
   ],
   "source": [
    "from pprint import pprint\n",
    "\n",
    "import pyworld.toolkit.tools.wbutils as wbu\n",
    "\n",
    "#wbu.runs('benedict-wilkins/anomaly-detection')\n",
    "dryruns = wbu.dryruns()\n",
    "models, config = wbu.load(dryruns[1])"
   ]
  },
  {
   "cell_type": "code",
   "execution_count": 2,
   "metadata": {},
   "outputs": [
    {
     "name": "stdout",
     "output_type": "stream",
     "text": [
      "USING DEVICE: cuda\n",
      "{'_wandb': {'cli_version': '0.8.32',\n",
      "            'framework': 'torch',\n",
      "            'is_jupyter_run': True,\n",
      "            'is_kaggle_kernel': False,\n",
      "            'python_version': '3.8.2'},\n",
      " 'action': {'dtype': 'uint8', 'shape': [6]},\n",
      " 'batch_size': 64,\n",
      " 'device': 'cuda',\n",
      " 'epochs': 10,\n",
      " 'latent_shape': 2,\n",
      " 'model': 'sssn',\n",
      " 'name': 'SpaceInvaders',\n",
      " 'optim_k': 16,\n",
      " 'optim_lr': 0.0005,\n",
      " 'optim_margin': 0.2,\n",
      " 'optim_mode': 0,\n",
      " 'reward': {'dtype': 'float64', 'shape': [1]},\n",
      " 'state': {'dtype': 'float32',\n",
      "           'format': ['CHW', 'RGB'],\n",
      "           'shape': [3, 210, 160]},\n",
      " 'wandb_version': 1}\n"
     ]
    }
   ],
   "source": [
    "from anomapy.train import sssn\n",
    "pprint(config)\n",
    "model = models['model.pt']\n",
    "model.load(sssn.model(**config))"
   ]
  },
  {
   "cell_type": "code",
   "execution_count": null,
   "metadata": {},
   "outputs": [],
   "source": []
  },
  {
   "cell_type": "code",
   "execution_count": null,
   "metadata": {},
   "outputs": [],
   "source": []
  }
 ],
 "metadata": {
  "kernelspec": {
   "display_name": "PhD",
   "language": "python",
   "name": "phd"
  },
  "language_info": {
   "codemirror_mode": {
    "name": "ipython",
    "version": 3
   },
   "file_extension": ".py",
   "mimetype": "text/x-python",
   "name": "python",
   "nbconvert_exporter": "python",
   "pygments_lexer": "ipython3",
   "version": "3.8.2"
  }
 },
 "nbformat": 4,
 "nbformat_minor": 4
}
