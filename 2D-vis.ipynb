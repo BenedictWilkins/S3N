{
 "cells": [
  {
   "cell_type": "code",
   "execution_count": 1,
   "metadata": {},
   "outputs": [
    {
     "name": "stdout",
     "output_type": "stream",
     "text": [
      "USING DEVICE: cuda\n",
      " -- found local run at /home/ben/Documents/repos/anomaly-detection/wandb/benedict-wilkins/anomapy/sssn-Breakout-20200209131829\n",
      " -- found config file: \n",
      " -- found 1 model(s): \n",
      " ---- model.pt\n",
      "loading dataset state...\n"
     ]
    },
    {
     "data": {
      "application/vnd.jupyter.widget-view+json": {
       "model_id": "411f97d9765f4679a660b3f86b65e95f",
       "version_major": 2,
       "version_minor": 0
      },
      "text/plain": [
       "IntProgress(value=0, max=7)"
      ]
     },
     "metadata": {},
     "output_type": "display_data"
    },
    {
     "name": "stdout",
     "output_type": "stream",
     "text": [
      "loading dataset label...\n"
     ]
    },
    {
     "data": {
      "application/vnd.jupyter.widget-view+json": {
       "model_id": "924039f522704b7f8f2497150dd4086e",
       "version_major": 2,
       "version_minor": 0
      },
      "text/plain": [
       "IntProgress(value=0, max=7)"
      ]
     },
     "metadata": {},
     "output_type": "display_data"
    }
   ],
   "source": [
    "from pprint import pprint\n",
    "from types import SimpleNamespace\n",
    "import anomapy.train.sssn as sssn\n",
    "import pyworld.toolkit.tools.wbutils as wbu\n",
    "import datasets\n",
    "import numpy as np\n",
    "\n",
    "import anomapy.train.sssn as sssn\n",
    "import pyworld.toolkit.tools.visutils.transform as T\n",
    "import pyworld.toolkit.tools.visutils.jupyter as J\n",
    "import pyworld.toolkit.tools.torchutils as tu\n",
    "\n",
    "#load model\n",
    "env = \"Breakout\"\n",
    "run = \"benedict-wilkins/anomapy/sssn-Breakout-20200209131829\"\n",
    "models, config = wbu.load(run)\n",
    "config['state'] = dict(shape=config['state_shape'])\n",
    "model = models['model.pt'].load(sssn.model(**config))\n",
    "config = SimpleNamespace(**config)\n",
    "\n",
    "\n",
    "#load anomaly data\n",
    "import datasets\n",
    "import numpy as np\n",
    "dataset = datasets.dataset('aad.anomaly.{0}'.format(env))\n",
    "dataset.state.transform.to_float().CHW().torch()\n",
    "anoms = [(a,e[0]) for a,e in dataset.meta.anomaly.items()]\n",
    "a_episodes = [d for d in dataset.state.load_files(*[e[1] for e in anoms])]\n",
    "a_labels = [d for d in dataset.label.load_files(*[e[1] for e in anoms])]\n",
    "a_tlabels = [np.logical_or(l[:-1], l[1:]).astype(np.uint8) for l in a_labels] #transition labels\n",
    "\n"
   ]
  },
  {
   "cell_type": "markdown",
   "metadata": {},
   "source": [
    "# Traditional Visualisation"
   ]
  },
  {
   "cell_type": "code",
   "execution_count": 3,
   "metadata": {},
   "outputs": [
    {
     "data": {
      "application/vnd.jupyter.widget-view+json": {
       "model_id": "195ef85905af4d75b4e1a7ddc8cf7245",
       "version_major": 2,
       "version_minor": 0
      },
      "text/plain": [
       "FigureWidget({\n",
       "    'data': [{'line': {'color': '#b9d1fa'},\n",
       "              'marker': {'color': array(['blue', 'b…"
      ]
     },
     "metadata": {},
     "output_type": "display_data"
    }
   ],
   "source": [
    "#visualise\n",
    "\n",
    "\n",
    "a = 5\n",
    "episode = a_episodes[a]\n",
    "labels = a_labels[a].astype(np.uint8)\n",
    "\n",
    "def plot_latent(model, episode):\n",
    "    z = tu.to_numpy(sssn.encode(model, episode))\n",
    "    images = T.HWC(tu.to_numpy(episode))\n",
    "    return J.scatter_image(z[:,0], z[:,1], images, scatter_colour=np.array(['blue','red'])[labels], line_colour='#b9d1fa', scale=1.5)\n",
    "\n",
    "from ipywidgets import Image, Layout, VBox, HBox, interact, IntSlider, IntProgress, HTML, Output\n",
    "import ipywidgets as widgets\n",
    "\n",
    "fig, image = plot_latent(model, episode)\n",
    "\n",
    "fig.update_layout(width=600, height=500)\n",
    "#box_layout = widgets.Layout(display='flex',flex_flow='row',align_items='center',width='100%',height='100%')\n",
    "#display(HBox([fig], layout=box_layout))\n",
    "\n",
    "#box_layout = widgets.Layout(display='flex',flex_flow='row',align_items='center',width='100%',height='100%')\n",
    "#display(HBox([fig, image_widget], layout=box_layout)) #basically... this needs to be done in jupyter..?!]\n"
   ]
  },
  {
   "cell_type": "markdown",
   "metadata": {},
   "source": [
    "# Distance Vector Visualisation"
   ]
  },
  {
   "cell_type": "code",
   "execution_count": 2,
   "metadata": {
    "scrolled": false
   },
   "outputs": [
    {
     "name": "stdout",
     "output_type": "stream",
     "text": [
      "fill\n",
      "(2513, 2) (2513,)\n"
     ]
    },
    {
     "data": {
      "application/vnd.jupyter.widget-view+json": {
       "model_id": "0995e0777b12402f9b0cb75934ae3f85",
       "version_major": 2,
       "version_minor": 0
      },
      "text/plain": [
       "FigureWidget({\n",
       "    'data': [{'marker': {'color': array(['blue', 'blue', 'blue', ..., 'blue', 'blue', 'blue'], …"
      ]
     },
     "metadata": {},
     "output_type": "display_data"
    },
    {
     "name": "stdout",
     "output_type": "stream",
     "text": [
      "block\n",
      "(3009, 2) (3009,)\n"
     ]
    },
    {
     "data": {
      "application/vnd.jupyter.widget-view+json": {
       "model_id": "8d4a8413ff4a44b3a6fc3d24d102a4d0",
       "version_major": 2,
       "version_minor": 0
      },
      "text/plain": [
       "FigureWidget({\n",
       "    'data': [{'marker': {'color': array(['blue', 'blue', 'blue', ..., 'blue', 'blue', 'blue'], …"
      ]
     },
     "metadata": {},
     "output_type": "display_data"
    },
    {
     "name": "stdout",
     "output_type": "stream",
     "text": [
      "freeze\n",
      "(3570, 2) (3570,)\n"
     ]
    },
    {
     "data": {
      "application/vnd.jupyter.widget-view+json": {
       "model_id": "e80581abc9c84a1ca30f5ed63a73dc28",
       "version_major": 2,
       "version_minor": 0
      },
      "text/plain": [
       "FigureWidget({\n",
       "    'data': [{'marker': {'color': array(['blue', 'blue', 'red', ..., 'blue', 'blue', 'blue'], d…"
      ]
     },
     "metadata": {},
     "output_type": "display_data"
    },
    {
     "name": "stdout",
     "output_type": "stream",
     "text": [
      "freeze_skip\n",
      "(2199, 2) (2199,)\n"
     ]
    },
    {
     "data": {
      "application/vnd.jupyter.widget-view+json": {
       "model_id": "29b13d1593114fbe8b1d9f15c8a98a7e",
       "version_major": 2,
       "version_minor": 0
      },
      "text/plain": [
       "FigureWidget({\n",
       "    'data': [{'marker': {'color': array(['blue', 'blue', 'blue', ..., 'blue', 'blue', 'blue'], …"
      ]
     },
     "metadata": {},
     "output_type": "display_data"
    },
    {
     "name": "stdout",
     "output_type": "stream",
     "text": [
      "split_horizontal\n",
      "(3421, 2) (3421,)\n"
     ]
    },
    {
     "data": {
      "application/vnd.jupyter.widget-view+json": {
       "model_id": "98ca5eebe7244b6e908b4d86b796312e",
       "version_major": 2,
       "version_minor": 0
      },
      "text/plain": [
       "FigureWidget({\n",
       "    'data': [{'marker': {'color': array(['blue', 'blue', 'blue', ..., 'blue', 'blue', 'blue'], …"
      ]
     },
     "metadata": {},
     "output_type": "display_data"
    },
    {
     "name": "stdout",
     "output_type": "stream",
     "text": [
      "split_vertical\n",
      "(1766, 2) (1766,)\n"
     ]
    },
    {
     "data": {
      "application/vnd.jupyter.widget-view+json": {
       "model_id": "0c5527ea198740ac876885c5c531705f",
       "version_major": 2,
       "version_minor": 0
      },
      "text/plain": [
       "FigureWidget({\n",
       "    'data': [{'marker': {'color': array(['blue', 'blue', 'blue', ..., 'red', 'red', 'blue'], dt…"
      ]
     },
     "metadata": {},
     "output_type": "display_data"
    }
   ],
   "source": [
    "for a in range(len(anoms)-1):\n",
    "    print(anoms[a][0])\n",
    "    episode = a_episodes[a]\n",
    "    labels = a_tlabels[a].astype(np.uint8)\n",
    "\n",
    "    def plot_latent(model, episode):\n",
    "        z = tu.to_numpy(sssn.encode(model, episode))\n",
    "        images = T.HWC(tu.to_numpy(episode))\n",
    "        d = z[:-1] - z[1:]\n",
    "\n",
    "        print(d.shape, labels.shape)\n",
    "\n",
    "        return J.scatter_image(d[:,0], d[:,1], images, mode=J.line_mode.marker, scatter_colour=np.array(['blue','red'])[labels], line_colour=None, scale=1.5)\n",
    "\n",
    "    fig, image = plot_latent(model, episode)\n",
    "    display(fig)\n",
    "    path = \"wandb/{0}/media/{1}-dvec-visualise.png\".format(run,anoms[a][0])\n",
    "    fig.write_image(path)\n"
   ]
  },
  {
   "cell_type": "code",
   "execution_count": null,
   "metadata": {},
   "outputs": [],
   "source": []
  },
  {
   "cell_type": "code",
   "execution_count": null,
   "metadata": {},
   "outputs": [],
   "source": []
  },
  {
   "cell_type": "code",
   "execution_count": null,
   "metadata": {},
   "outputs": [],
   "source": []
  }
 ],
 "metadata": {
  "kernelspec": {
   "display_name": "PhD",
   "language": "python",
   "name": "phd"
  },
  "language_info": {
   "codemirror_mode": {
    "name": "ipython",
    "version": 3
   },
   "file_extension": ".py",
   "mimetype": "text/x-python",
   "name": "python",
   "nbconvert_exporter": "python",
   "pygments_lexer": "ipython3",
   "version": "3.8.2"
  }
 },
 "nbformat": 4,
 "nbformat_minor": 4
}
