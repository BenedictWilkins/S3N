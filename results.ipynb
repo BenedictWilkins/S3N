{
 "cells": [
  {
   "cell_type": "code",
   "execution_count": 1,
   "metadata": {},
   "outputs": [
    {
     "name": "stdout",
     "output_type": "stream",
     "text": [
      "USING DEVICE: cuda\n"
     ]
    }
   ],
   "source": [
    "from types import SimpleNamespace\n",
    "from pprint import pprint\n",
    "\n",
    "import numpy as np\n",
    "\n",
    "import anomapy.train.sssn as sssn\n",
    "import pyworld.toolkit.tools.wbutils as wbu\n",
    "import pyworld.toolkit.tools.torchutils as tu\n",
    "import pyworld.toolkit.tools.visutils.transform as T\n",
    "import pyworld.toolkit.tools.visutils.jupyter as J\n",
    "\n",
    "import datasets\n",
    "\n",
    "envs = ['BeamRider','Breakout','Enduro','Pong','Qbert','Seaquest','SpaceInvaders']\n",
    "envs = ['Breakout','Enduro','Pong','Qbert','Seaquest','SpaceInvaders']\n",
    "\n",
    "\n",
    "\n",
    "def load_anomaly(env):\n",
    "    dataset = datasets.dataset('aad.anomaly.{0}'.format(env))\n",
    "    dataset.state.transform.to_float().CHW().torch()\n",
    "    #anoms = [(a,e) for a,e in dataset.meta.anomaly.items()]\n",
    "    for a, files in dataset.meta.anomaly.items():\n",
    "        yield a, [d for d in dataset.load_files(*files, close=True)]\n",
    "\n",
    "def load_clean(env):\n",
    "    dataset = datasets.dataset('aad.clean.{0}'.format(env))\n",
    "    dataset.state.transform.to_float().CHW().torch()\n",
    "    files = dataset.files()\n",
    "    for i,d in enumerate(dataset.load_files(*files, close=True)):\n",
    "        #print(files[i])\n",
    "        yield d\n",
    "\n",
    "def distance(model, episode):\n",
    "    z, d = sssn.distance(model, episode)\n",
    "    return tu.to_numpy(z), tu.to_numpy(d)\n",
    "\n",
    "def encode(model, episode):\n",
    "    return tu.to_numpy(sssn.encode(model, episode))\n",
    "\n",
    "def load_model(env):\n",
    "    dryruns = sorted([r for r in wbu.dryruns() if env in r])\n",
    "    models, config = wbu.load(dryruns[-1]) #load the most recently trained model\n",
    "    model = models['model.pt'].load(sssn.model(**config))\n",
    "    config = SimpleNamespace(**config)\n",
    "    print(\" \\n------- INFO ------- \")\n",
    "    print(\" env: {0}, latent_shape: {1}, margin: {2}\".format(env, config.latent_shape, config.optim_margin))\n",
    "    return model, config"
   ]
  },
  {
   "cell_type": "markdown",
   "metadata": {},
   "source": [
    "# AUC"
   ]
  },
  {
   "cell_type": "code",
   "execution_count": 2,
   "metadata": {
    "scrolled": false
   },
   "outputs": [
    {
     "name": "stdout",
     "output_type": "stream",
     "text": [
      " -- found local run at /home/ben/Documents/repos/anomaly-detection/wandb/dryrun-20200512_131359-sssn-Breakout-256-20200512141356\n",
      " -- found config file: \n",
      " -- found 1 model(s): \n",
      " ---- model.pt\n",
      " \n",
      "------- INFO ------- \n",
      " env: Breakout, latent_shape: 256, margin: 0.2\n",
      "\n",
      "-------------- Breakout --------------\n",
      "loading dataset aad.anomaly.Breakout...\n"
     ]
    },
    {
     "data": {
      "application/vnd.jupyter.widget-view+json": {
       "model_id": "67ad3a2b1af141d4bc44c8750e6eda53",
       "version_major": 2,
       "version_minor": 0
      },
      "text/plain": [
       "IntProgress(value=0, max=17)"
      ]
     },
     "metadata": {},
     "output_type": "display_data"
    },
    {
     "name": "stdout",
     "output_type": "stream",
     "text": [
      "block: auc 0.9884270882835728\n",
      "{'block': 0.9884270882835728}\n",
      "loading dataset aad.anomaly.Breakout...\n"
     ]
    },
    {
     "data": {
      "application/vnd.jupyter.widget-view+json": {
       "model_id": "9cb88155def74dfead229bfded623dfb",
       "version_major": 2,
       "version_minor": 0
      },
      "text/plain": [
       "IntProgress(value=0, max=17)"
      ]
     },
     "metadata": {},
     "output_type": "display_data"
    },
    {
     "name": "stdout",
     "output_type": "stream",
     "text": [
      "flicker: auc 1.0\n",
      "{'block': 0.9884270882835728, 'flicker': 1.0}\n",
      "loading dataset aad.anomaly.Breakout...\n"
     ]
    },
    {
     "data": {
      "application/vnd.jupyter.widget-view+json": {
       "model_id": "40f22c8c26064eefa00a6914006ad80a",
       "version_major": 2,
       "version_minor": 0
      },
      "text/plain": [
       "IntProgress(value=0, max=17)"
      ]
     },
     "metadata": {},
     "output_type": "display_data"
    },
    {
     "name": "stdout",
     "output_type": "stream",
     "text": [
      "freeze: auc 0.0019053132305935593\n",
      "{'block': 0.9884270882835728, 'flicker': 1.0, 'freeze': 0.0019053132305935593}\n",
      "loading dataset aad.anomaly.Breakout...\n"
     ]
    },
    {
     "data": {
      "application/vnd.jupyter.widget-view+json": {
       "model_id": "6b5a817c7f6f48dd8d3211c9714e106a",
       "version_major": 2,
       "version_minor": 0
      },
      "text/plain": [
       "IntProgress(value=0, max=17)"
      ]
     },
     "metadata": {},
     "output_type": "display_data"
    },
    {
     "name": "stdout",
     "output_type": "stream",
     "text": [
      "freeze_skip: auc 0.9646884002356922\n",
      "{'block': 0.9884270882835728, 'flicker': 1.0, 'freeze': 0.0019053132305935593, 'freeze_skip': 0.9646884002356922}\n",
      "loading dataset aad.anomaly.Breakout...\n"
     ]
    },
    {
     "data": {
      "application/vnd.jupyter.widget-view+json": {
       "model_id": "bf4c500571554ae2863cc4314e49c16d",
       "version_major": 2,
       "version_minor": 0
      },
      "text/plain": [
       "IntProgress(value=0, max=17)"
      ]
     },
     "metadata": {},
     "output_type": "display_data"
    },
    {
     "name": "stdout",
     "output_type": "stream",
     "text": [
      "split_horizontal: auc 0.9791326165873362\n",
      "{'block': 0.9884270882835728, 'flicker': 1.0, 'freeze': 0.0019053132305935593, 'freeze_skip': 0.9646884002356922, 'split_horizontal': 0.9791326165873362}\n",
      "loading dataset aad.anomaly.Breakout...\n"
     ]
    },
    {
     "data": {
      "application/vnd.jupyter.widget-view+json": {
       "model_id": "948fd5db0641419390e7495d9cc14d5f",
       "version_major": 2,
       "version_minor": 0
      },
      "text/plain": [
       "IntProgress(value=0, max=17)"
      ]
     },
     "metadata": {},
     "output_type": "display_data"
    },
    {
     "name": "stdout",
     "output_type": "stream",
     "text": [
      "split_vertical: auc 0.9907644390307093\n",
      "{'block': 0.9884270882835728, 'flicker': 1.0, 'freeze': 0.0019053132305935593, 'freeze_skip': 0.9646884002356922, 'split_horizontal': 0.9791326165873362, 'split_vertical': 0.9907644390307093}\n",
      "{'block': 0.9884270882835728,\n",
      " 'flicker': 1.0,\n",
      " 'freeze': 0.0019053132305935593,\n",
      " 'freeze_skip': 0.9646884002356922,\n",
      " 'split_horizontal': 0.9791326165873362,\n",
      " 'split_vertical': 0.9907644390307093}\n",
      " -- found local run at /home/ben/Documents/repos/anomaly-detection/wandb/dryrun-20200504_153755-sssn-Enduro-256-20200504163751\n",
      " -- found config file: \n",
      " -- found 1 model(s): \n",
      " ---- model.pt\n",
      " \n",
      "------- INFO ------- \n",
      " env: Enduro, latent_shape: 256, margin: 0.2\n",
      "\n",
      "-------------- Enduro --------------\n",
      "loading dataset aad.anomaly.Enduro...\n"
     ]
    },
    {
     "data": {
      "application/vnd.jupyter.widget-view+json": {
       "model_id": "a78905125bb14910a9e1688c9cca7339",
       "version_major": 2,
       "version_minor": 0
      },
      "text/plain": [
       "IntProgress(value=0, max=5)"
      ]
     },
     "metadata": {},
     "output_type": "display_data"
    },
    {
     "name": "stdout",
     "output_type": "stream",
     "text": [
      "block: auc 0.8536652109555745\n",
      "{'block': 0.8536652109555745, 'flicker': 1.0, 'freeze': 0.0019053132305935593, 'freeze_skip': 0.9646884002356922, 'split_horizontal': 0.9791326165873362, 'split_vertical': 0.9907644390307093}\n",
      "loading dataset aad.anomaly.Enduro...\n"
     ]
    },
    {
     "data": {
      "application/vnd.jupyter.widget-view+json": {
       "model_id": "21c78b6916eb45e9b8467dc37bee8b94",
       "version_major": 2,
       "version_minor": 0
      },
      "text/plain": [
       "IntProgress(value=0, max=5)"
      ]
     },
     "metadata": {},
     "output_type": "display_data"
    },
    {
     "name": "stdout",
     "output_type": "stream",
     "text": [
      "flicker: auc 1.0\n",
      "{'block': 0.8536652109555745, 'flicker': 1.0, 'freeze': 0.0019053132305935593, 'freeze_skip': 0.9646884002356922, 'split_horizontal': 0.9791326165873362, 'split_vertical': 0.9907644390307093}\n",
      "loading dataset aad.anomaly.Enduro...\n"
     ]
    },
    {
     "data": {
      "application/vnd.jupyter.widget-view+json": {
       "model_id": "012b29fe8351422a8e7ae944c158711c",
       "version_major": 2,
       "version_minor": 0
      },
      "text/plain": [
       "IntProgress(value=0, max=5)"
      ]
     },
     "metadata": {},
     "output_type": "display_data"
    },
    {
     "name": "stdout",
     "output_type": "stream",
     "text": [
      "freeze: auc 9.033521987300225e-05\n",
      "{'block': 0.8536652109555745, 'flicker': 1.0, 'freeze': 9.033521987300225e-05, 'freeze_skip': 0.9646884002356922, 'split_horizontal': 0.9791326165873362, 'split_vertical': 0.9907644390307093}\n",
      "loading dataset aad.anomaly.Enduro...\n"
     ]
    },
    {
     "data": {
      "application/vnd.jupyter.widget-view+json": {
       "model_id": "6ceefef7cbbc409c8b4fe81900ddf06b",
       "version_major": 2,
       "version_minor": 0
      },
      "text/plain": [
       "IntProgress(value=0, max=5)"
      ]
     },
     "metadata": {},
     "output_type": "display_data"
    },
    {
     "name": "stdout",
     "output_type": "stream",
     "text": [
      "freeze_skip: auc 0.9986305961970208\n",
      "{'block': 0.8536652109555745, 'flicker': 1.0, 'freeze': 9.033521987300225e-05, 'freeze_skip': 0.9986305961970208, 'split_horizontal': 0.9791326165873362, 'split_vertical': 0.9907644390307093}\n",
      "loading dataset aad.anomaly.Enduro...\n"
     ]
    },
    {
     "data": {
      "application/vnd.jupyter.widget-view+json": {
       "model_id": "ede3f648b19243cbb63f32e97c91f603",
       "version_major": 2,
       "version_minor": 0
      },
      "text/plain": [
       "IntProgress(value=0, max=5)"
      ]
     },
     "metadata": {},
     "output_type": "display_data"
    },
    {
     "name": "stdout",
     "output_type": "stream",
     "text": [
      "split_horizontal: auc 0.9828059695012723\n",
      "{'block': 0.8536652109555745, 'flicker': 1.0, 'freeze': 9.033521987300225e-05, 'freeze_skip': 0.9986305961970208, 'split_horizontal': 0.9828059695012723, 'split_vertical': 0.9907644390307093}\n",
      "loading dataset aad.anomaly.Enduro...\n"
     ]
    },
    {
     "data": {
      "application/vnd.jupyter.widget-view+json": {
       "model_id": "1fc7e0e89d6b40688b8cd48ed98f04a6",
       "version_major": 2,
       "version_minor": 0
      },
      "text/plain": [
       "IntProgress(value=0, max=5)"
      ]
     },
     "metadata": {},
     "output_type": "display_data"
    },
    {
     "name": "stdout",
     "output_type": "stream",
     "text": [
      "split_vertical: auc 0.9826143164224351\n",
      "{'block': 0.8536652109555745, 'flicker': 1.0, 'freeze': 9.033521987300225e-05, 'freeze_skip': 0.9986305961970208, 'split_horizontal': 0.9828059695012723, 'split_vertical': 0.9826143164224351}\n",
      "{'block': 0.8536652109555745,\n",
      " 'flicker': 1.0,\n",
      " 'freeze': 9.033521987300225e-05,\n",
      " 'freeze_skip': 0.9986305961970208,\n",
      " 'split_horizontal': 0.9828059695012723,\n",
      " 'split_vertical': 0.9826143164224351}\n",
      " -- found local run at /home/ben/Documents/repos/anomaly-detection/wandb/dryrun-20200512_122614-sssn-Pong-256-20200512132611\n",
      " -- found config file: \n",
      " -- found 1 model(s): \n",
      " ---- model.pt\n",
      " \n",
      "------- INFO ------- \n",
      " env: Pong, latent_shape: 256, margin: 0.2\n",
      "\n",
      "-------------- Pong --------------\n",
      "loading dataset aad.anomaly.Pong...\n"
     ]
    },
    {
     "data": {
      "application/vnd.jupyter.widget-view+json": {
       "model_id": "45af5cc58f2640b0a73feebd79439db9",
       "version_major": 2,
       "version_minor": 0
      },
      "text/plain": [
       "IntProgress(value=0, max=6)"
      ]
     },
     "metadata": {},
     "output_type": "display_data"
    },
    {
     "name": "stdout",
     "output_type": "stream",
     "text": [
      "block: auc 0.9914347378564624\n",
      "{'block': 0.9914347378564624, 'flicker': 1.0, 'freeze': 9.033521987300225e-05, 'freeze_skip': 0.9986305961970208, 'split_horizontal': 0.9828059695012723, 'split_vertical': 0.9826143164224351}\n",
      "loading dataset aad.anomaly.Pong...\n"
     ]
    },
    {
     "data": {
      "application/vnd.jupyter.widget-view+json": {
       "model_id": "c2753b05ab9f495781c75bf40a33dd5c",
       "version_major": 2,
       "version_minor": 0
      },
      "text/plain": [
       "IntProgress(value=0, max=6)"
      ]
     },
     "metadata": {},
     "output_type": "display_data"
    },
    {
     "name": "stdout",
     "output_type": "stream",
     "text": [
      "flicker: auc 1.0\n",
      "{'block': 0.9914347378564624, 'flicker': 1.0, 'freeze': 9.033521987300225e-05, 'freeze_skip': 0.9986305961970208, 'split_horizontal': 0.9828059695012723, 'split_vertical': 0.9826143164224351}\n",
      "loading dataset aad.anomaly.Pong...\n"
     ]
    },
    {
     "data": {
      "application/vnd.jupyter.widget-view+json": {
       "model_id": "15e9f93ee15645dfbb4eff8b94338f38",
       "version_major": 2,
       "version_minor": 0
      },
      "text/plain": [
       "IntProgress(value=0, max=6)"
      ]
     },
     "metadata": {},
     "output_type": "display_data"
    },
    {
     "name": "stdout",
     "output_type": "stream",
     "text": [
      "freeze: auc 0.004387562430288742\n",
      "{'block': 0.9914347378564624, 'flicker': 1.0, 'freeze': 0.004387562430288742, 'freeze_skip': 0.9986305961970208, 'split_horizontal': 0.9828059695012723, 'split_vertical': 0.9826143164224351}\n",
      "loading dataset aad.anomaly.Pong...\n"
     ]
    },
    {
     "data": {
      "application/vnd.jupyter.widget-view+json": {
       "model_id": "4949d1d4b8b54b6b95a4d59036e823ca",
       "version_major": 2,
       "version_minor": 0
      },
      "text/plain": [
       "IntProgress(value=0, max=6)"
      ]
     },
     "metadata": {},
     "output_type": "display_data"
    },
    {
     "name": "stdout",
     "output_type": "stream",
     "text": [
      "freeze_skip: auc 0.9381244737345188\n",
      "{'block': 0.9914347378564624, 'flicker': 1.0, 'freeze': 0.004387562430288742, 'freeze_skip': 0.9381244737345188, 'split_horizontal': 0.9828059695012723, 'split_vertical': 0.9826143164224351}\n",
      "loading dataset aad.anomaly.Pong...\n"
     ]
    },
    {
     "data": {
      "application/vnd.jupyter.widget-view+json": {
       "model_id": "366aa5ac4bbd44829b225641cf1c1160",
       "version_major": 2,
       "version_minor": 0
      },
      "text/plain": [
       "IntProgress(value=0, max=6)"
      ]
     },
     "metadata": {},
     "output_type": "display_data"
    },
    {
     "name": "stdout",
     "output_type": "stream",
     "text": [
      "split_horizontal: auc 0.967066867595678\n",
      "{'block': 0.9914347378564624, 'flicker': 1.0, 'freeze': 0.004387562430288742, 'freeze_skip': 0.9381244737345188, 'split_horizontal': 0.967066867595678, 'split_vertical': 0.9826143164224351}\n",
      "loading dataset aad.anomaly.Pong...\n"
     ]
    },
    {
     "data": {
      "application/vnd.jupyter.widget-view+json": {
       "model_id": "ddcc0d31dc9348faaea3ca04e6366e63",
       "version_major": 2,
       "version_minor": 0
      },
      "text/plain": [
       "IntProgress(value=0, max=6)"
      ]
     },
     "metadata": {},
     "output_type": "display_data"
    },
    {
     "name": "stdout",
     "output_type": "stream",
     "text": [
      "split_vertical: auc 0.9697092877596257\n",
      "{'block': 0.9914347378564624, 'flicker': 1.0, 'freeze': 0.004387562430288742, 'freeze_skip': 0.9381244737345188, 'split_horizontal': 0.967066867595678, 'split_vertical': 0.9697092877596257}\n",
      "{'block': 0.9914347378564624,\n",
      " 'flicker': 1.0,\n",
      " 'freeze': 0.004387562430288742,\n",
      " 'freeze_skip': 0.9381244737345188,\n",
      " 'split_horizontal': 0.967066867595678,\n",
      " 'split_vertical': 0.9697092877596257}\n",
      " -- found local run at /home/ben/Documents/repos/anomaly-detection/wandb/dryrun-20200429_171611-sssn-Qbert-20200429181610\n",
      " -- found config file: \n",
      " -- found 1 model(s): \n",
      " ---- model.pt\n",
      " \n",
      "------- INFO ------- \n",
      " env: Qbert, latent_shape: 64, margin: 0.2\n",
      "\n",
      "-------------- Qbert --------------\n",
      "loading dataset aad.anomaly.Qbert...\n"
     ]
    },
    {
     "data": {
      "application/vnd.jupyter.widget-view+json": {
       "model_id": "1945c8c7229a411caa3f888a17f71854",
       "version_major": 2,
       "version_minor": 0
      },
      "text/plain": [
       "IntProgress(value=0, max=29)"
      ]
     },
     "metadata": {},
     "output_type": "display_data"
    },
    {
     "name": "stdout",
     "output_type": "stream",
     "text": [
      "block: auc 0.9313483070667725\n",
      "{'block': 0.9313483070667725, 'flicker': 1.0, 'freeze': 0.004387562430288742, 'freeze_skip': 0.9381244737345188, 'split_horizontal': 0.967066867595678, 'split_vertical': 0.9697092877596257}\n",
      "loading dataset aad.anomaly.Qbert...\n"
     ]
    },
    {
     "data": {
      "application/vnd.jupyter.widget-view+json": {
       "model_id": "82b846b497234d16b15279dc9ad57a5d",
       "version_major": 2,
       "version_minor": 0
      },
      "text/plain": [
       "IntProgress(value=0, max=29)"
      ]
     },
     "metadata": {},
     "output_type": "display_data"
    },
    {
     "name": "stdout",
     "output_type": "stream",
     "text": [
      "flicker: auc 0.9999761928158771\n",
      "{'block': 0.9313483070667725, 'flicker': 0.9999761928158771, 'freeze': 0.004387562430288742, 'freeze_skip': 0.9381244737345188, 'split_horizontal': 0.967066867595678, 'split_vertical': 0.9697092877596257}\n",
      "loading dataset aad.anomaly.Qbert...\n"
     ]
    },
    {
     "data": {
      "application/vnd.jupyter.widget-view+json": {
       "model_id": "59b47da4574c4cadbdad8d41ea072753",
       "version_major": 2,
       "version_minor": 0
      },
      "text/plain": [
       "IntProgress(value=0, max=29)"
      ]
     },
     "metadata": {},
     "output_type": "display_data"
    },
    {
     "name": "stdout",
     "output_type": "stream",
     "text": [
      "freeze: auc 0.004766654536971042\n",
      "{'block': 0.9313483070667725, 'flicker': 0.9999761928158771, 'freeze': 0.004766654536971042, 'freeze_skip': 0.9381244737345188, 'split_horizontal': 0.967066867595678, 'split_vertical': 0.9697092877596257}\n",
      "loading dataset aad.anomaly.Qbert...\n"
     ]
    },
    {
     "data": {
      "application/vnd.jupyter.widget-view+json": {
       "model_id": "25e2160d8d6646d6a51e944b6eea8f28",
       "version_major": 2,
       "version_minor": 0
      },
      "text/plain": [
       "IntProgress(value=0, max=29)"
      ]
     },
     "metadata": {},
     "output_type": "display_data"
    },
    {
     "name": "stdout",
     "output_type": "stream",
     "text": [
      "freeze_skip: auc 0.9847884228845487\n",
      "{'block': 0.9313483070667725, 'flicker': 0.9999761928158771, 'freeze': 0.004766654536971042, 'freeze_skip': 0.9847884228845487, 'split_horizontal': 0.967066867595678, 'split_vertical': 0.9697092877596257}\n",
      "loading dataset aad.anomaly.Qbert...\n"
     ]
    },
    {
     "data": {
      "application/vnd.jupyter.widget-view+json": {
       "model_id": "50f382e958af4471bb9a7415030ac3c9",
       "version_major": 2,
       "version_minor": 0
      },
      "text/plain": [
       "IntProgress(value=0, max=29)"
      ]
     },
     "metadata": {},
     "output_type": "display_data"
    },
    {
     "name": "stdout",
     "output_type": "stream",
     "text": [
      "split_horizontal: auc 0.9900019621221009\n",
      "{'block': 0.9313483070667725, 'flicker': 0.9999761928158771, 'freeze': 0.004766654536971042, 'freeze_skip': 0.9847884228845487, 'split_horizontal': 0.9900019621221009, 'split_vertical': 0.9697092877596257}\n",
      "loading dataset aad.anomaly.Qbert...\n"
     ]
    },
    {
     "data": {
      "application/vnd.jupyter.widget-view+json": {
       "model_id": "7be9876c3ef74851be23bbbafa3f5bc1",
       "version_major": 2,
       "version_minor": 0
      },
      "text/plain": [
       "IntProgress(value=0, max=29)"
      ]
     },
     "metadata": {},
     "output_type": "display_data"
    },
    {
     "name": "stdout",
     "output_type": "stream",
     "text": [
      "split_vertical: auc 0.981957648466138\n",
      "{'block': 0.9313483070667725, 'flicker': 0.9999761928158771, 'freeze': 0.004766654536971042, 'freeze_skip': 0.9847884228845487, 'split_horizontal': 0.9900019621221009, 'split_vertical': 0.981957648466138}\n",
      "{'block': 0.9313483070667725,\n",
      " 'flicker': 0.9999761928158771,\n",
      " 'freeze': 0.004766654536971042,\n",
      " 'freeze_skip': 0.9847884228845487,\n",
      " 'split_horizontal': 0.9900019621221009,\n",
      " 'split_vertical': 0.981957648466138}\n",
      " -- found local run at /home/ben/Documents/repos/anomaly-detection/wandb/dryrun-20200429_174221-sssn-Seaquest-20200429184220\n",
      " -- found config file: \n",
      " -- found 1 model(s): \n",
      " ---- model.pt\n",
      " \n",
      "------- INFO ------- \n",
      " env: Seaquest, latent_shape: 64, margin: 0.2\n",
      "\n",
      "-------------- Seaquest --------------\n",
      "loading dataset aad.anomaly.Seaquest...\n"
     ]
    },
    {
     "data": {
      "application/vnd.jupyter.widget-view+json": {
       "model_id": "e9e023b780ae406da8866ba9e4e2a66c",
       "version_major": 2,
       "version_minor": 0
      },
      "text/plain": [
       "IntProgress(value=0, max=10)"
      ]
     },
     "metadata": {},
     "output_type": "display_data"
    },
    {
     "name": "stdout",
     "output_type": "stream",
     "text": [
      "block: auc 0.9682516634889227\n",
      "{'block': 0.9682516634889227, 'flicker': 0.9999761928158771, 'freeze': 0.004766654536971042, 'freeze_skip': 0.9847884228845487, 'split_horizontal': 0.9900019621221009, 'split_vertical': 0.981957648466138}\n",
      "loading dataset aad.anomaly.Seaquest...\n"
     ]
    },
    {
     "data": {
      "application/vnd.jupyter.widget-view+json": {
       "model_id": "9d77c4b900684577ac2c874ca6e6716e",
       "version_major": 2,
       "version_minor": 0
      },
      "text/plain": [
       "IntProgress(value=0, max=10)"
      ]
     },
     "metadata": {},
     "output_type": "display_data"
    },
    {
     "name": "stdout",
     "output_type": "stream",
     "text": [
      "flicker: auc 1.0\n",
      "{'block': 0.9682516634889227, 'flicker': 1.0, 'freeze': 0.004766654536971042, 'freeze_skip': 0.9847884228845487, 'split_horizontal': 0.9900019621221009, 'split_vertical': 0.981957648466138}\n",
      "loading dataset aad.anomaly.Seaquest...\n"
     ]
    },
    {
     "data": {
      "application/vnd.jupyter.widget-view+json": {
       "model_id": "3be3c6453dcd401f8650dc7faa2935de",
       "version_major": 2,
       "version_minor": 0
      },
      "text/plain": [
       "IntProgress(value=0, max=10)"
      ]
     },
     "metadata": {},
     "output_type": "display_data"
    },
    {
     "name": "stdout",
     "output_type": "stream",
     "text": [
      "freeze: auc 0.0005194014878721607\n",
      "{'block': 0.9682516634889227, 'flicker': 1.0, 'freeze': 0.0005194014878721607, 'freeze_skip': 0.9847884228845487, 'split_horizontal': 0.9900019621221009, 'split_vertical': 0.981957648466138}\n",
      "loading dataset aad.anomaly.Seaquest...\n"
     ]
    },
    {
     "data": {
      "application/vnd.jupyter.widget-view+json": {
       "model_id": "02d20ced547a49f286faf64ec3db2318",
       "version_major": 2,
       "version_minor": 0
      },
      "text/plain": [
       "IntProgress(value=0, max=10)"
      ]
     },
     "metadata": {},
     "output_type": "display_data"
    },
    {
     "name": "stdout",
     "output_type": "stream",
     "text": [
      "freeze_skip: auc 0.9961548392087088\n",
      "{'block': 0.9682516634889227, 'flicker': 1.0, 'freeze': 0.0005194014878721607, 'freeze_skip': 0.9961548392087088, 'split_horizontal': 0.9900019621221009, 'split_vertical': 0.981957648466138}\n",
      "loading dataset aad.anomaly.Seaquest...\n"
     ]
    },
    {
     "data": {
      "application/vnd.jupyter.widget-view+json": {
       "model_id": "ead8ea2948a04812b57a0d6b1661fb51",
       "version_major": 2,
       "version_minor": 0
      },
      "text/plain": [
       "IntProgress(value=0, max=10)"
      ]
     },
     "metadata": {},
     "output_type": "display_data"
    },
    {
     "name": "stdout",
     "output_type": "stream",
     "text": [
      "split_horizontal: auc 0.9928991755116001\n",
      "{'block': 0.9682516634889227, 'flicker': 1.0, 'freeze': 0.0005194014878721607, 'freeze_skip': 0.9961548392087088, 'split_horizontal': 0.9928991755116001, 'split_vertical': 0.981957648466138}\n",
      "loading dataset aad.anomaly.Seaquest...\n"
     ]
    },
    {
     "data": {
      "application/vnd.jupyter.widget-view+json": {
       "model_id": "23488d42b96a4ef5809a8ad09d095c7a",
       "version_major": 2,
       "version_minor": 0
      },
      "text/plain": [
       "IntProgress(value=0, max=10)"
      ]
     },
     "metadata": {},
     "output_type": "display_data"
    },
    {
     "name": "stdout",
     "output_type": "stream",
     "text": [
      "split_vertical: auc 0.9949183888365146\n",
      "{'block': 0.9682516634889227, 'flicker': 1.0, 'freeze': 0.0005194014878721607, 'freeze_skip': 0.9961548392087088, 'split_horizontal': 0.9928991755116001, 'split_vertical': 0.9949183888365146}\n",
      "{'block': 0.9682516634889227,\n",
      " 'flicker': 1.0,\n",
      " 'freeze': 0.0005194014878721607,\n",
      " 'freeze_skip': 0.9961548392087088,\n",
      " 'split_horizontal': 0.9928991755116001,\n",
      " 'split_vertical': 0.9949183888365146}\n",
      " -- found local run at /home/ben/Documents/repos/anomaly-detection/wandb/dryrun-20200501_093836-sssn-SpaceInvaders-20200501103833\n",
      " -- found config file: \n",
      " -- found 1 model(s): \n",
      " ---- model.pt\n",
      " \n",
      "------- INFO ------- \n",
      " env: SpaceInvaders, latent_shape: 64, margin: 0.2\n",
      "\n",
      "-------------- SpaceInvaders --------------\n",
      "loading dataset aad.anomaly.SpaceInvaders...\n"
     ]
    },
    {
     "data": {
      "application/vnd.jupyter.widget-view+json": {
       "model_id": "58149dd23cd34d92800488f08c258e2f",
       "version_major": 2,
       "version_minor": 0
      },
      "text/plain": [
       "IntProgress(value=0, max=17)"
      ]
     },
     "metadata": {},
     "output_type": "display_data"
    },
    {
     "name": "stdout",
     "output_type": "stream",
     "text": [
      "block: auc 0.9834330422596319\n",
      "{'block': 0.9834330422596319, 'flicker': 1.0, 'freeze': 0.0005194014878721607, 'freeze_skip': 0.9961548392087088, 'split_horizontal': 0.9928991755116001, 'split_vertical': 0.9949183888365146}\n",
      "loading dataset aad.anomaly.SpaceInvaders...\n"
     ]
    },
    {
     "data": {
      "application/vnd.jupyter.widget-view+json": {
       "model_id": "9263b10c802242bea437cbe18dbda118",
       "version_major": 2,
       "version_minor": 0
      },
      "text/plain": [
       "IntProgress(value=0, max=17)"
      ]
     },
     "metadata": {},
     "output_type": "display_data"
    },
    {
     "name": "stdout",
     "output_type": "stream",
     "text": [
      "flicker: auc 1.0\n",
      "{'block': 0.9834330422596319, 'flicker': 1.0, 'freeze': 0.0005194014878721607, 'freeze_skip': 0.9961548392087088, 'split_horizontal': 0.9928991755116001, 'split_vertical': 0.9949183888365146}\n",
      "loading dataset aad.anomaly.SpaceInvaders...\n"
     ]
    },
    {
     "data": {
      "application/vnd.jupyter.widget-view+json": {
       "model_id": "9b54c5a94f0e44f9869acbc5a07421d0",
       "version_major": 2,
       "version_minor": 0
      },
      "text/plain": [
       "IntProgress(value=0, max=17)"
      ]
     },
     "metadata": {},
     "output_type": "display_data"
    },
    {
     "name": "stdout",
     "output_type": "stream",
     "text": [
      "freeze: auc 0.017912028700705917\n",
      "{'block': 0.9834330422596319, 'flicker': 1.0, 'freeze': 0.017912028700705917, 'freeze_skip': 0.9961548392087088, 'split_horizontal': 0.9928991755116001, 'split_vertical': 0.9949183888365146}\n",
      "loading dataset aad.anomaly.SpaceInvaders...\n"
     ]
    },
    {
     "data": {
      "application/vnd.jupyter.widget-view+json": {
       "model_id": "63bdef8bb9c241c69e675e3e6c2107e5",
       "version_major": 2,
       "version_minor": 0
      },
      "text/plain": [
       "IntProgress(value=0, max=17)"
      ]
     },
     "metadata": {},
     "output_type": "display_data"
    },
    {
     "name": "stdout",
     "output_type": "stream",
     "text": [
      "freeze_skip: auc 0.974968887435008\n",
      "{'block': 0.9834330422596319, 'flicker': 1.0, 'freeze': 0.017912028700705917, 'freeze_skip': 0.974968887435008, 'split_horizontal': 0.9928991755116001, 'split_vertical': 0.9949183888365146}\n",
      "loading dataset aad.anomaly.SpaceInvaders...\n"
     ]
    },
    {
     "data": {
      "application/vnd.jupyter.widget-view+json": {
       "model_id": "e6f275f39ba443d8a50e38d548eabbad",
       "version_major": 2,
       "version_minor": 0
      },
      "text/plain": [
       "IntProgress(value=0, max=17)"
      ]
     },
     "metadata": {},
     "output_type": "display_data"
    },
    {
     "name": "stdout",
     "output_type": "stream",
     "text": [
      "split_horizontal: auc 0.9949124105997612\n",
      "{'block': 0.9834330422596319, 'flicker': 1.0, 'freeze': 0.017912028700705917, 'freeze_skip': 0.974968887435008, 'split_horizontal': 0.9949124105997612, 'split_vertical': 0.9949183888365146}\n",
      "loading dataset aad.anomaly.SpaceInvaders...\n"
     ]
    },
    {
     "data": {
      "application/vnd.jupyter.widget-view+json": {
       "model_id": "da6c5b69114c40988ae34d5fcf40de58",
       "version_major": 2,
       "version_minor": 0
      },
      "text/plain": [
       "IntProgress(value=0, max=17)"
      ]
     },
     "metadata": {},
     "output_type": "display_data"
    },
    {
     "name": "stdout",
     "output_type": "stream",
     "text": [
      "split_vertical: auc 0.9950918768872543\n",
      "{'block': 0.9834330422596319, 'flicker': 1.0, 'freeze': 0.017912028700705917, 'freeze_skip': 0.974968887435008, 'split_horizontal': 0.9949124105997612, 'split_vertical': 0.9950918768872543}\n",
      "{'block': 0.9834330422596319,\n",
      " 'flicker': 1.0,\n",
      " 'freeze': 0.017912028700705917,\n",
      " 'freeze_skip': 0.974968887435008,\n",
      " 'split_horizontal': 0.9949124105997612,\n",
      " 'split_vertical': 0.9950918768872543}\n"
     ]
    }
   ],
   "source": [
    "from sklearn.metrics import roc_curve\n",
    "from sklearn.metrics import auc\n",
    "\n",
    "ENV_AUCS = {}\n",
    "AUCS = {}\n",
    "FT = {}\n",
    "\n",
    "for env in envs:\n",
    "    model, config = load_model(env)\n",
    "    print(\"\\n-------------- {0} --------------\".format(env))\n",
    "    for a, episodes in load_anomaly(env):\n",
    "        fprs, tprs, aucs = [], [], []\n",
    "        for episode in episodes:\n",
    "            _, score = distance(model, episode.state)\n",
    "            fpr, tpr, _ = roc_curve(episode.tlabel, score)\n",
    "            #fprs.append(fpr)\n",
    "            #tprs.append(tpr)\n",
    "            aucs.append(auc(fpr, tpr))\n",
    "        #FT[a] = (fprs, tprs)\n",
    "        AUCS[a] = np.mean(aucs)\n",
    "        print(\"{0}: auc {1}\".format(a, np.mean(aucs)))\n",
    "        print(AUCS)\n",
    "    pprint(AUCS)\n",
    "    ENV_AUCS = {env:AUCS}\n",
    "\n",
    "        \n",
    "        \n",
    "        \n",
    "        "
   ]
  },
  {
   "cell_type": "code",
   "execution_count": 4,
   "metadata": {},
   "outputs": [
    {
     "name": "stdout",
     "output_type": "stream",
     "text": [
      "{'SpaceInvaders': {'block': 0.9834330422596319,\n",
      "                   'flicker': 1.0,\n",
      "                   'freeze': 0.017912028700705917,\n",
      "                   'freeze_skip': 0.974968887435008,\n",
      "                   'split_horizontal': 0.9949124105997612,\n",
      "                   'split_vertical': 0.9950918768872543}}\n"
     ]
    },
    {
     "data": {
      "text/plain": [
       "{'block': 0.9884270882835728,\n",
       " 'flicker': 1.0,\n",
       " 'freeze': 0.0019053132305935593,\n",
       " 'freeze_skip': 0.9646884002356922,\n",
       " 'split_horizontal': 0.9791326165873362,\n",
       " 'split_vertical': 0.9907644390307093}"
      ]
     },
     "execution_count": 4,
     "metadata": {},
     "output_type": "execute_result"
    }
   ],
   "source": [
    "pprint(ENV_AUCS)\n",
    "\n",
    "# AUC RESULTS\n",
    "# BEAM RIDER\n",
    "{'block': 0.9346528465961829,\n",
    " 'flicker': 0.9996786591135681,\n",
    " 'freeze': 0.004777733739095263,\n",
    " 'freeze_skip': 0.9877708653393901,\n",
    " 'split_horizontal': 0.9904982172081528,\n",
    " 'split_vertical': 0.992672783259697}\n",
    "\n",
    "#BREAKOUT\n",
    "{'block': 0.9884270882835728,\n",
    " 'flicker': 1.0,\n",
    " 'freeze': 0.0019053132305935593,\n",
    " 'freeze_skip': 0.9646884002356922,\n",
    " 'split_horizontal': 0.9791326165873362,\n",
    " 'split_vertical': 0.9907644390307093}\n",
    "\n",
    "#ENDURO\n",
    "{'block': 0.8536652109555745,\n",
    " 'flicker': 1.0,\n",
    " 'freeze': 9.033521987300225e-05,\n",
    " 'freeze_skip': 0.9986305961970208,\n",
    " 'split_horizontal': 0.9828059695012723,\n",
    " 'split_vertical': 0.9826143164224351}\n",
    "\n",
    "#PONG\n",
    "{'block': 0.9914347378564624,\n",
    " 'flicker': 1.0,\n",
    " 'freeze': 0.004387562430288742,\n",
    " 'freeze_skip': 0.9381244737345188,\n",
    " 'split_horizontal': 0.967066867595678,\n",
    " 'split_vertical': 0.9697092877596257}\n",
    "\n",
    "#QBERT\n",
    "{'block': 0.9313483070667725,\n",
    " 'flicker': 0.9999761928158771,\n",
    " 'freeze': 0.004766654536971042,\n",
    " 'freeze_skip': 0.9847884228845487,\n",
    " 'split_horizontal': 0.9900019621221009,\n",
    " 'split_vertical': 0.981957648466138}\n",
    "\n",
    "#SEAQUEST\n",
    "{'block': 0.9682516634889227,\n",
    " 'flicker': 1.0,\n",
    " 'freeze': 0.0005194014878721607,\n",
    " 'freeze_skip': 0.9961548392087088,\n",
    " 'split_horizontal': 0.9928991755116001,\n",
    " 'split_vertical': 0.9949183888365146}\n",
    "\n",
    "#SPACE INVADERS\n",
    "{'block': 0.9834330422596319,\n",
    " 'flicker': 1.0,\n",
    " 'freeze': 0.017912028700705917,\n",
    " 'freeze_skip': 0.974968887435008,\n",
    " 'split_horizontal': 0.9949124105997612,\n",
    " 'split_vertical': 0.9950918768872543}\n"
   ]
  },
  {
   "cell_type": "code",
   "execution_count": 5,
   "metadata": {
    "scrolled": false
   },
   "outputs": [
    {
     "name": "stdout",
     "output_type": "stream",
     "text": [
      " -- found local run at /home/ben/Documents/repos/anomaly-detection/wandb/dryrun-20200512_131359-sssn-Breakout-256-20200512141356\n",
      " -- found config file: \n",
      " -- found 1 model(s): \n",
      " ---- model.pt\n",
      " \n",
      "------- INFO ------- \n",
      " env: Breakout, latent_shape: 256, margin: 0.2\n",
      "\n",
      "-------------- Breakout --------------\n",
      "loading dataset aad.clean.Breakout...\n"
     ]
    },
    {
     "data": {
      "application/vnd.jupyter.widget-view+json": {
       "model_id": "4fbb032cae924c82aad506291c722c5b",
       "version_major": 2,
       "version_minor": 0
      },
      "text/plain": [
       "IntProgress(value=0, max=102)"
      ]
     },
     "metadata": {},
     "output_type": "display_data"
    },
    {
     "name": "stdout",
     "output_type": "stream",
     "text": [
      "(604, 604)\n",
      "0.0019173236806003205\n",
      " -- found local run at /home/ben/Documents/repos/anomaly-detection/wandb/dryrun-20200504_153755-sssn-Enduro-256-20200504163751\n",
      " -- found config file: \n",
      " -- found 1 model(s): \n",
      " ---- model.pt\n",
      " \n",
      "------- INFO ------- \n",
      " env: Enduro, latent_shape: 256, margin: 0.2\n",
      "\n",
      "-------------- Enduro --------------\n",
      "loading dataset aad.clean.Enduro...\n"
     ]
    },
    {
     "data": {
      "application/vnd.jupyter.widget-view+json": {
       "model_id": "e1228e48c71f4357baf119a319de1640",
       "version_major": 2,
       "version_minor": 0
      },
      "text/plain": [
       "IntProgress(value=0, max=30)"
      ]
     },
     "metadata": {},
     "output_type": "display_data"
    },
    {
     "name": "stdout",
     "output_type": "stream",
     "text": [
      "(3326, 3326)\n",
      "0.0001074889389538829\n",
      " -- found local run at /home/ben/Documents/repos/anomaly-detection/wandb/dryrun-20200512_122614-sssn-Pong-256-20200512132611\n",
      " -- found config file: \n",
      " -- found 1 model(s): \n",
      " ---- model.pt\n",
      " \n",
      "------- INFO ------- \n",
      " env: Pong, latent_shape: 256, margin: 0.2\n",
      "\n",
      "-------------- Pong --------------\n",
      "loading dataset aad.clean.Pong...\n"
     ]
    },
    {
     "data": {
      "application/vnd.jupyter.widget-view+json": {
       "model_id": "52b88ca0b9b24aec9bb8904b380d3f19",
       "version_major": 2,
       "version_minor": 0
      },
      "text/plain": [
       "IntProgress(value=0, max=38)"
      ]
     },
     "metadata": {},
     "output_type": "display_data"
    },
    {
     "name": "stdout",
     "output_type": "stream",
     "text": [
      "(2662, 2662)\n",
      "0.004190577910390407\n",
      " -- found local run at /home/ben/Documents/repos/anomaly-detection/wandb/dryrun-20200429_171611-sssn-Qbert-20200429181610\n",
      " -- found config file: \n",
      " -- found 1 model(s): \n",
      " ---- model.pt\n",
      " \n",
      "------- INFO ------- \n",
      " env: Qbert, latent_shape: 64, margin: 0.2\n",
      "\n",
      "-------------- Qbert --------------\n",
      "loading dataset aad.clean.Qbert...\n"
     ]
    },
    {
     "data": {
      "application/vnd.jupyter.widget-view+json": {
       "model_id": "7d524354197f4e3597b3b8309382fbcf",
       "version_major": 2,
       "version_minor": 0
      },
      "text/plain": [
       "IntProgress(value=0, max=174)"
      ]
     },
     "metadata": {},
     "output_type": "display_data"
    },
    {
     "name": "stdout",
     "output_type": "stream",
     "text": [
      "(1081, 1081)\n",
      "0.0002540074829231456\n",
      " -- found local run at /home/ben/Documents/repos/anomaly-detection/wandb/dryrun-20200429_174221-sssn-Seaquest-20200429184220\n",
      " -- found config file: \n",
      " -- found 1 model(s): \n",
      " ---- model.pt\n",
      " \n",
      "------- INFO ------- \n",
      " env: Seaquest, latent_shape: 64, margin: 0.2\n",
      "\n",
      "-------------- Seaquest --------------\n",
      "loading dataset aad.clean.Seaquest...\n"
     ]
    },
    {
     "data": {
      "application/vnd.jupyter.widget-view+json": {
       "model_id": "67f06bf18edd489d8f048c95f09f0ec2",
       "version_major": 2,
       "version_minor": 0
      },
      "text/plain": [
       "IntProgress(value=0, max=61)"
      ]
     },
     "metadata": {},
     "output_type": "display_data"
    },
    {
     "name": "stdout",
     "output_type": "stream",
     "text": [
      "(1357, 1357)\n",
      "8.816902328315319e-05\n",
      " -- found local run at /home/ben/Documents/repos/anomaly-detection/wandb/dryrun-20200501_093836-sssn-SpaceInvaders-20200501103833\n",
      " -- found config file: \n",
      " -- found 1 model(s): \n",
      " ---- model.pt\n",
      " \n",
      "------- INFO ------- \n",
      " env: SpaceInvaders, latent_shape: 64, margin: 0.2\n",
      "\n",
      "-------------- SpaceInvaders --------------\n",
      "loading dataset aad.clean.SpaceInvaders...\n"
     ]
    },
    {
     "data": {
      "application/vnd.jupyter.widget-view+json": {
       "model_id": "6ae7e263863b4f78b8956453f8e7f877",
       "version_major": 2,
       "version_minor": 0
      },
      "text/plain": [
       "IntProgress(value=0, max=104)"
      ]
     },
     "metadata": {},
     "output_type": "display_data"
    },
    {
     "name": "stdout",
     "output_type": "stream",
     "text": [
      "(1353, 1353)\n",
      "0.0005726636854576272\n"
     ]
    }
   ],
   "source": [
    "def displacement_summary(z): # TODO complexity can be cut in half... \n",
    "    # count of D^t_t+1 >= D^t_j j > 1\n",
    "    z = z[...,np.newaxis]  \n",
    "    d = ((z.T - z)**2).sum(1)\n",
    "    print(d.shape)\n",
    "    s1 = np.diagonal(d,offset=1)[:,np.newaxis]\n",
    "    sj = d[:-1,1:]\n",
    "    d = np.triu(np.greater(s1, sj).astype(np.uint8), k=1)\n",
    "    ds = d.sum(1) # number of non-conforming distances for each state\n",
    "    return ds, ds.sum() * (2 / ((z.shape[0]-1)*(z.shape[0]-2))) #statistic\n",
    "\n",
    "def real_displacement_summary(z):\n",
    "    z = z[...,np.newaxis]  \n",
    "    d = ((z.T - z)**2).sum(1)\n",
    "    print(d.shape)\n",
    "    s1 = np.diagonal(d,offset=1)[:,np.newaxis]\n",
    "    sj = d[:-1,1:]\n",
    "    d = np.triu(np.maximum(s1 - sj, 0), k=1)\n",
    "    \n",
    "    # mean displacement\n",
    "    dmu = d.sum(1)\n",
    "    dmu[:-1] = dmu[:-1] / np.arange(dmu.size-1,0,-1) \n",
    "    #max displacment\n",
    "    dmax = np.max(d, axis=1)\n",
    "    #min displacement\n",
    "    dmin = np.min(d, axis=1)\n",
    "    \n",
    "    return dmu, dmax, dmin\n",
    "\n",
    "\n",
    "for env in envs:\n",
    "    model, config = load_model(env)\n",
    "    print(\"\\n-------------- {0} --------------\".format(env))\n",
    "    for data in load_clean(env):\n",
    "        z = encode(model, data.state)\n",
    "        NDS = displacement_summary(z)\n",
    "        print(NDS[1])\n",
    "        break\n",
    "\n"
   ]
  },
  {
   "cell_type": "markdown",
   "metadata": {},
   "source": [
    "## Uniform Distance Statistic"
   ]
  },
  {
   "cell_type": "code",
   "execution_count": null,
   "metadata": {
    "scrolled": false
   },
   "outputs": [],
   "source": [
    "global i\n",
    "i = 0\n",
    "\n",
    "def stats(x):\n",
    "    _min, _max, _mean, _var = np.min(x), np.max(x), np.mean(x), np.var(x)\n",
    "    global i\n",
    "    print(i, \"min: {0:8.5f}, max: {1:8.5f}, mean: {2:8.5f}, var: {3:8.5f}\".format(_min, _max, _mean, _var))\n",
    "    i += 1\n",
    "    return _min, _max, _mean, _var\n",
    "\n",
    "UDS = {env:[] for env in envs}\n",
    "\n",
    "for env in envs:\n",
    "    model, config = load_model(env)\n",
    "    print(\"\\n-------------- {0} --------------\".format(env))\n",
    "    for data in load_clean(env):\n",
    "        _, d = distance(model, data.state) #data.state[:1] for pong - there is a problem with the dataset\n",
    "        rd = np.maximum(d - config.optim_margin, 0)\n",
    "        _, _, _, var = stats(rd)\n",
    "        UDS[env].append(var)\n",
    "        \n",
    "_UDS = {k:np.mean(v) for k,v in UDS.items()}\n",
    "pprint(_UDS)"
   ]
  },
  {
   "cell_type": "code",
   "execution_count": null,
   "metadata": {},
   "outputs": [],
   "source": [
    "env = \"Pong\"\n",
    "model, config = load_model(env)\n",
    "print(\"\\n-------------- {0} --------------\".format(env))\n",
    "for data in load_clean(env):\n",
    "    _, d = distance(model, data.state)\n",
    "    J.plot(np.arange(0,d.shape[0]), d)\n",
    "    break\n",
    "\n"
   ]
  },
  {
   "cell_type": "code",
   "execution_count": null,
   "metadata": {},
   "outputs": [],
   "source": [
    "\n",
    "#UDS results\n",
    "{'BeamRider(64)': 0.0038250058,\n",
    " 'Breakout(256)': 10.5363865,\n",
    " 'Enduro(256)': 0.00034870935,\n",
    " 'Pong(256)': 0.0020768184,\n",
    " 'Qbert(64)': 0.0039075827,\n",
    " 'Seaquest(64)': 0.0019275966,\n",
    " 'SpaceInvaders(64)': 0.00080786174}\n"
   ]
  },
  {
   "cell_type": "code",
   "execution_count": null,
   "metadata": {},
   "outputs": [],
   "source": []
  },
  {
   "cell_type": "code",
   "execution_count": null,
   "metadata": {},
   "outputs": [],
   "source": []
  },
  {
   "cell_type": "code",
   "execution_count": null,
   "metadata": {},
   "outputs": [],
   "source": []
  },
  {
   "cell_type": "code",
   "execution_count": null,
   "metadata": {},
   "outputs": [],
   "source": []
  },
  {
   "cell_type": "code",
   "execution_count": null,
   "metadata": {},
   "outputs": [],
   "source": []
  },
  {
   "cell_type": "code",
   "execution_count": null,
   "metadata": {},
   "outputs": [],
   "source": [
    "#FIX PONG FIRST STATE\n",
    "\n",
    "\n",
    "import pyworld.toolkit.tools.fileutils as fu\n",
    "import pyworld.toolkit.tools.visutils.transform as T\n",
    "import pyworld.toolkit.tools.visutils.jupyter as J\n",
    "import pyworld.toolkit.tools.torchutils as tu\n",
    "import numpy as np\n",
    "import datasets\n",
    "import os\n",
    "\n",
    "env = \"Pong\"\n",
    "dataset = datasets.dataset('aad.clean.{0}'.format(env))\n",
    "files = dataset.files()\n",
    "print(files)\n",
    "files = [files[12],files[29]]\n",
    "\n",
    "\n",
    "from types import SimpleNamespace\n",
    "import anomapy.train.sssn as sssn\n",
    "import pyworld.toolkit.tools.wbutils as wbu\n",
    "\n",
    "\n",
    "def distance(model, episode):\n",
    "    z, d = sssn.distance(model, episode)\n",
    "    return tu.to_numpy(z), tu.to_numpy(d)\n",
    "\n",
    "dryruns = sorted([r for r in wbu.dryruns() if env in r])\n",
    "print(dryruns[-1])\n",
    "\n",
    "models, config = wbu.load(dryruns[-1]) #load the most recently trained model\n",
    "model = models['model.pt'].load(sssn.model(**config))\n",
    "config = SimpleNamespace(**config)\n",
    "\n",
    "def plot_distance(model, episode):\n",
    "    z, d = distance(model, episode)\n",
    "    images = T.HWC(tu.to_numpy(episode))\n",
    "\n",
    "    plot = J.SimplePlot(np.arange(len(d)), d)\n",
    "    image1 = J.SimpleImage(images[0])\n",
    "    image2 = J.SimpleImage(images[1])\n",
    "\n",
    "    def on_hover(trace, points, state):\n",
    "        i = points.point_inds[0]\n",
    "        image1.set_image(images[i])\n",
    "        image2.set_image(images[i+1])\n",
    "\n",
    "    plot.on_hover(on_hover)\n",
    "    d_images = J.layout_horizontal(image1.fig, image2.fig)\n",
    "    d_plot = J.layout_horizontal(plot.fig)\n",
    "    J.display(J.layout_vertical(d_plot, d_images))\n",
    "\n",
    "env = \"Pong\"\n",
    "dataset = datasets.dataset('aad.clean.{0}'.format(env))\n",
    "#dataset.state.transform.to_float().CHW().torch()\n",
    "episodes = [x for x in dataset.load_files(*files)]\n",
    "for i, episode in enumerate(episodes):\n",
    "    #print(episode.state.dtype, episode.state.shape)\n",
    "    file = os.path.join(dataset.path, \"raw/\" + files[i])\n",
    "    #print(episode.state.shape[0])\n",
    "    #episode.state = episode.state[1:]\n",
    "    print(episode.action.shape[0])\n",
    "    episode.action = episode.action[1:]\n",
    "    \n",
    "    print(episode.action.shape[0], episode.state.shape[0])\n",
    "    #print(episode.state.shape[0])\n",
    "    fu.save(file, episode.__dict__, overwrite=True)\n",
    "    \n",
    "    #plot_distance(model, episode.state)\n"
   ]
  },
  {
   "cell_type": "code",
   "execution_count": null,
   "metadata": {},
   "outputs": [],
   "source": [
    "\n",
    "\n"
   ]
  }
 ],
 "metadata": {
  "kernelspec": {
   "display_name": "PhD",
   "language": "python",
   "name": "phd"
  },
  "language_info": {
   "codemirror_mode": {
    "name": "ipython",
    "version": 3
   },
   "file_extension": ".py",
   "mimetype": "text/x-python",
   "name": "python",
   "nbconvert_exporter": "python",
   "pygments_lexer": "ipython3",
   "version": "3.8.2"
  }
 },
 "nbformat": 4,
 "nbformat_minor": 4
}
