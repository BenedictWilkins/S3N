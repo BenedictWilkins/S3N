{
 "cells": [
  {
   "cell_type": "code",
   "execution_count": 1,
   "metadata": {
    "scrolled": false
   },
   "outputs": [
    {
     "data": {
      "application/vnd.jupyter.widget-view+json": {
       "model_id": "9eacb758789941e58e722196ee6e2353",
       "version_major": 2,
       "version_minor": 0
      },
      "text/plain": [
       "FigureWidget({\n",
       "    'data': [{'mode': 'lines',\n",
       "              'name': '1',\n",
       "              'type': 'scatter',\n",
       "    …"
      ]
     },
     "metadata": {},
     "output_type": "display_data"
    },
    {
     "data": {
      "text/plain": [
       "<pyworld.toolkit.tools.visutils.jupyter.SimplePlot at 0x7fae5c472f70>"
      ]
     },
     "execution_count": 1,
     "metadata": {},
     "output_type": "execute_result"
    }
   ],
   "source": [
    "import pyworld.toolkit.tools.datautils.random as R\n",
    "import pyworld.toolkit.tools.visutils.jupyter as J\n",
    "\n",
    "import numpy as np\n",
    "\n",
    "d = 2\n",
    "n = 10000\n",
    "\n",
    "z = R.walk(n, d)\n",
    "J.plot(z[:,0],z[:,1])"
   ]
  },
  {
   "cell_type": "code",
   "execution_count": 2,
   "metadata": {
    "scrolled": false
   },
   "outputs": [
    {
     "data": {
      "application/vnd.jupyter.widget-view+json": {
       "model_id": "eb83362048854bc8b73e5cd849c5e2a1",
       "version_major": 2,
       "version_minor": 0
      },
      "text/plain": [
       "FigureWidget({\n",
       "    'data': [{'mode': 'lines',\n",
       "              'name': 'mean',\n",
       "              'type': 'scatter',\n",
       " …"
      ]
     },
     "metadata": {},
     "output_type": "display_data"
    },
    {
     "data": {
      "application/vnd.jupyter.widget-view+json": {
       "model_id": "b60123ce7c70417da0d48f842231869e",
       "version_major": 2,
       "version_minor": 0
      },
      "text/plain": [
       "FigureWidget({\n",
       "    'data': [{'mode': 'lines',\n",
       "              'name': 'variance',\n",
       "              'type': 'scatter…"
      ]
     },
     "metadata": {},
     "output_type": "display_data"
    }
   ],
   "source": [
    "def skip_distance(z, i):\n",
    "    return ((z[:-i] - z[i:]) ** 2).sum(1)\n",
    "\n",
    "def stat(z, i):\n",
    "    d = skip_distance(z, i)\n",
    "    return np.mean(d), np.min(d), np.max(d), np.var(d), i\n",
    "\n",
    "max_skip = int(z.shape[0]*.8)\n",
    "\n",
    "mu, _min, _max, sig, x = zip(*[stat(z, i) for i in range(1,max_skip)])\n",
    "mu, _min, _max, sig, x = np.array(mu), np.array(_min), np.array(_max), np.array(sig), np.array(x)\n",
    "plot = J.plot([x,x,x], [mu,_min,_max], legend=['mean','min','max'])\n",
    "\n",
    "plot = J.plot(x, sig, legend=['variance'])"
   ]
  },
  {
   "cell_type": "code",
   "execution_count": null,
   "metadata": {},
   "outputs": [],
   "source": []
  },
  {
   "cell_type": "code",
   "execution_count": null,
   "metadata": {},
   "outputs": [],
   "source": []
  }
 ],
 "metadata": {
  "kernelspec": {
   "display_name": "PhD",
   "language": "python",
   "name": "phd"
  },
  "language_info": {
   "codemirror_mode": {
    "name": "ipython",
    "version": 3
   },
   "file_extension": ".py",
   "mimetype": "text/x-python",
   "name": "python",
   "nbconvert_exporter": "python",
   "pygments_lexer": "ipython3",
   "version": "3.8.2"
  }
 },
 "nbformat": 4,
 "nbformat_minor": 4
}
