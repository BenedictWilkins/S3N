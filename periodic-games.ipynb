{
 "cells": [
  {
   "cell_type": "code",
   "execution_count": 3,
   "metadata": {},
   "outputs": [],
   "source": [
    "from types import SimpleNamespace\n",
    "from pprint import pprint\n",
    "import numpy as np\n",
    "\n",
    "import anomapy.train.sssn as sssn\n",
    "import datasets\n",
    "\n",
    "import pyworld.toolkit.tools.wbutils as wbu\n",
    "import pyworld.toolkit.tools.torchutils as tu\n",
    "import pyworld.toolkit.tools.visutils.jupyter as J\n",
    "import pyworld.toolkit.tools.visutils.transform as T\n",
    "import pyworld.toolkit.tools.visutils.plot as vplot\n",
    "import pyworld.toolkit.tools.datautils.timeseries as TS\n",
    "\n",
    "from scipy import fftpack\n",
    "\n",
    "num_episodes = 1\n",
    "\n",
    "envs = ['BeamRider','Breakout','Enduro','Pong','Qbert','Seaquest','SpaceInvaders']\n",
    "\n",
    "def load_model(run):\n",
    "    models, config = wbu.load(run) #load the most recently trained model\n",
    "    model = models['model.pt'].load(sssn.model(**config))\n",
    "    config = SimpleNamespace(**config)\n",
    "    return model, config\n",
    "\n",
    "def load_data(num_episodes):\n",
    "    dataset = datasets.dataset('aad.clean.{0}'.format(env))\n",
    "    dataset.state.transform.to_float().CHW().torch()\n",
    "    return [d for d in dataset.state.load(num_episodes)]\n",
    "\n",
    "def distance(z1, z2):\n",
    "    return ((z1 - z2) ** 2).sum(1)\n",
    "\n",
    "def spectrum(x, y):\n",
    "    yf = fftpack.fft(y, x.size)\n",
    "    amp = np.abs(yf) # get amplitude spectrum \n",
    "    freq = fftpack.fftfreq(x.size, max(x)/x.size)\n",
    "    return freq[0:freq.size//2], (2/amp.size)*amp[0:amp.size//2]\n"
   ]
  },
  {
   "cell_type": "code",
   "execution_count": 4,
   "metadata": {
    "scrolled": false
   },
   "outputs": [
    {
     "name": "stdout",
     "output_type": "stream",
     "text": [
      " -- found local run at /home/ben/Documents/repos/anomaly-detection/wandb/dryrun-20200429_171611-sssn-Qbert-20200429181610\n",
      " -- found config file: \n",
      " -- found 1 model(s): \n",
      " ---- model.pt\n",
      "loading dataset aad.clean.Qbert.state...\n"
     ]
    },
    {
     "data": {
      "application/vnd.jupyter.widget-view+json": {
       "model_id": "c90f4945381849bf99ebd794135a9b05",
       "version_major": 2,
       "version_minor": 0
      },
      "text/plain": [
       "IntProgress(value=0, max=1)"
      ]
     },
     "metadata": {},
     "output_type": "display_data"
    },
    {
     "data": {
      "application/vnd.jupyter.widget-view+json": {
       "model_id": "688d12ac92d1402ea16cb92e8fb820c8",
       "version_major": 2,
       "version_minor": 0
      },
      "text/plain": [
       "FigureWidget({\n",
       "    'data': [{'mode': 'lines',\n",
       "              'name': 'mean',\n",
       "              'type': 'scatter',\n",
       " …"
      ]
     },
     "metadata": {},
     "output_type": "display_data"
    },
    {
     "data": {
      "application/vnd.jupyter.widget-view+json": {
       "model_id": "062a72fbfeae43d08ea2c4aafec539af",
       "version_major": 2,
       "version_minor": 0
      },
      "text/plain": [
       "FigureWidget({\n",
       "    'data': [{'mode': 'lines',\n",
       "              'name': '1',\n",
       "              'type': 'scatter',\n",
       "    …"
      ]
     },
     "metadata": {},
     "output_type": "display_data"
    },
    {
     "name": "stderr",
     "output_type": "stream",
     "text": [
      "<ipython-input-4-d5c69cf5700b>:27: RuntimeWarning:\n",
      "\n",
      "divide by zero encountered in true_divide\n",
      "\n"
     ]
    },
    {
     "data": {
      "application/vnd.jupyter.widget-view+json": {
       "model_id": "9a0e287d837244ea956dffcc358a9168",
       "version_major": 2,
       "version_minor": 0
      },
      "text/plain": [
       "FigureWidget({\n",
       "    'data': [{'mode': 'lines',\n",
       "              'name': '1',\n",
       "              'type': 'scatter',\n",
       "    …"
      ]
     },
     "metadata": {},
     "output_type": "display_data"
    }
   ],
   "source": [
    "\n",
    "num_episodes = 1\n",
    "env = envs[4]\n",
    "\n",
    "dryruns = sorted([r for r in wbu.dryruns() if env in r])\n",
    "run = dryruns[0]\n",
    "plot_path = \"wandb/{0}/media/normal_hist-{1}.png\".format(run, env)\n",
    "model, config = load_model(run)\n",
    "episodes = load_data(num_episodes)\n",
    "episode = episodes[-1]\n",
    "\n",
    "z = tu.to_numpy(sssn.encode(model, episode))\n",
    "\n",
    "max_skip = int(z.shape[0]*.8)\n",
    "def stat(i):\n",
    "    d = distance(z[:-i], z[i:])\n",
    "    return np.mean(d), np.min(d), np.max(d), np.var(d), i\n",
    "mu, _min, _max, sig, x = zip(*[stat(i) for i in range(1,max_skip)])\n",
    "mu, _min, _max, sig, x = np.array(mu), np.array(_min), np.array(_max), np.array(sig), np.array(x)\n",
    "plot = J.plot([x,x,x], [mu,_min,_max], legend=['mean','min','max'])\n",
    "plot.fig.update_layout(margin=dict(t=10,l=10,r=10,b=10), autosize=False, height=300, width=800, showlegend=False)\n",
    "#plot.fig.write_image(\"wandb/{0}/media/skip_distance-{1}.png\".format(run, env))\n",
    "#J.plot(x, sig, legend=['var'])\n",
    "\n",
    "x, dmu = TS.detrend(x, mu)\n",
    "J.plot(x, dmu)\n",
    "freq, amp = TS.spectrum(dmu)\n",
    "wav = 1 / freq\n",
    "\n",
    "J.plot(wav, amp)\n",
    "w = int(wav[np.argmax(amp)]) #~ wave length of the signal\n",
    "\n"
   ]
  },
  {
   "cell_type": "code",
   "execution_count": 5,
   "metadata": {
    "scrolled": false
   },
   "outputs": [
    {
     "name": "stdout",
     "output_type": "stream",
     "text": [
      "(210, 160, 3)\n"
     ]
    },
    {
     "data": {
      "application/vnd.jupyter.widget-view+json": {
       "model_id": "85763e0a17114558b25e61103c2e84b1",
       "version_major": 2,
       "version_minor": 0
      },
      "text/plain": [
       "interactive(children=(IntSlider(value=0, description='x', layout=Layout(width='99%'), max=1019), Output()), _d…"
      ]
     },
     "metadata": {},
     "output_type": "display_data"
    },
    {
     "data": {
      "application/vnd.jupyter.widget-view+json": {
       "model_id": "c43aa92616a24d1abda90072c1a5c839",
       "version_major": 2,
       "version_minor": 0
      },
      "text/plain": [
       "Canvas(height=210, width=160)"
      ]
     },
     "metadata": {},
     "output_type": "display_data"
    },
    {
     "name": "stdout",
     "output_type": "stream",
     "text": [
      "(210, 160, 3)\n"
     ]
    },
    {
     "data": {
      "application/vnd.jupyter.widget-view+json": {
       "model_id": "3c1d4446c8064d47b7b61513da4faef5",
       "version_major": 2,
       "version_minor": 0
      },
      "text/plain": [
       "interactive(children=(IntSlider(value=0, description='x', layout=Layout(width='99%'), max=1079), Output()), _d…"
      ]
     },
     "metadata": {},
     "output_type": "display_data"
    },
    {
     "data": {
      "application/vnd.jupyter.widget-view+json": {
       "model_id": "ca7a5749c0594e6c8307f1f706195262",
       "version_major": 2,
       "version_minor": 0
      },
      "text/plain": [
       "Canvas(height=210, width=160)"
      ]
     },
     "metadata": {},
     "output_type": "display_data"
    },
    {
     "data": {
      "text/plain": [
       "<pyworld.toolkit.tools.visutils.jupyter.SimpleImage at 0x7f4730b38100>"
      ]
     },
     "execution_count": 5,
     "metadata": {},
     "output_type": "execute_result"
    }
   ],
   "source": [
    "episode = T.HWC(tu.to_numpy(episodes[-1]))\n",
    "\n",
    "de = episode[:-w] - episode[w:]\n",
    "J.images(de)\n",
    "\n",
    "\n",
    "de = episode[:-1] - episode[1:]\n",
    "J.images(de)\n",
    "\n",
    "    "
   ]
  },
  {
   "cell_type": "code",
   "execution_count": 7,
   "metadata": {
    "scrolled": false
   },
   "outputs": [
    {
     "name": "stdout",
     "output_type": "stream",
     "text": [
      " -- found local run at /home/ben/Documents/repos/anomaly-detection/wandb/dryrun-20200429_141220-sssn-BeamRider-20200429151217\n",
      " -- found config file: \n",
      " -- found 1 model(s): \n",
      " ---- model.pt\n",
      "loading dataset aad.clean.BeamRider.state...\n"
     ]
    },
    {
     "data": {
      "application/vnd.jupyter.widget-view+json": {
       "model_id": "d0ec18dc1618443091b6a9a1eb7422ee",
       "version_major": 2,
       "version_minor": 0
      },
      "text/plain": [
       "IntProgress(value=0, max=1)"
      ]
     },
     "metadata": {},
     "output_type": "display_data"
    },
    {
     "name": "stdout",
     "output_type": "stream",
     "text": [
      "BeamRider\n"
     ]
    },
    {
     "data": {
      "application/vnd.jupyter.widget-view+json": {
       "model_id": "b1fa54833930453d83624d164d37cb73",
       "version_major": 2,
       "version_minor": 0
      },
      "text/plain": [
       "FigureWidget({\n",
       "    'data': [{'mode': 'lines',\n",
       "              'name': 'mean',\n",
       "              'type': 'scatter',\n",
       " …"
      ]
     },
     "metadata": {},
     "output_type": "display_data"
    },
    {
     "name": "stdout",
     "output_type": "stream",
     "text": [
      " -- found local run at /home/ben/Documents/repos/anomaly-detection/wandb/dryrun-20200429_150221-sssn-Breakout-20200429160219\n",
      " -- found config file: \n",
      " -- found 1 model(s): \n",
      " ---- model.pt\n",
      "loading dataset aad.clean.Breakout.state...\n"
     ]
    },
    {
     "data": {
      "application/vnd.jupyter.widget-view+json": {
       "model_id": "1c26b00b538343e69d27393ee0d507cd",
       "version_major": 2,
       "version_minor": 0
      },
      "text/plain": [
       "IntProgress(value=0, max=1)"
      ]
     },
     "metadata": {},
     "output_type": "display_data"
    },
    {
     "name": "stdout",
     "output_type": "stream",
     "text": [
      "Breakout\n"
     ]
    },
    {
     "data": {
      "application/vnd.jupyter.widget-view+json": {
       "model_id": "12d67dd81ecd4437b764eaa15cccbc7d",
       "version_major": 2,
       "version_minor": 0
      },
      "text/plain": [
       "FigureWidget({\n",
       "    'data': [{'mode': 'lines',\n",
       "              'name': 'mean',\n",
       "              'type': 'scatter',\n",
       " …"
      ]
     },
     "metadata": {},
     "output_type": "display_data"
    },
    {
     "name": "stdout",
     "output_type": "stream",
     "text": [
      " -- found local run at /home/ben/Documents/repos/anomaly-detection/wandb/dryrun-20200429_153330-sssn-Enduro-64-20200429163327\n",
      " -- found config file: \n",
      " -- found 1 model(s): \n",
      " ---- model.pt\n",
      "loading dataset aad.clean.Enduro.state...\n"
     ]
    },
    {
     "data": {
      "application/vnd.jupyter.widget-view+json": {
       "model_id": "e8c307ad44ff4ceb9181ccdcabe2d091",
       "version_major": 2,
       "version_minor": 0
      },
      "text/plain": [
       "IntProgress(value=0, max=1)"
      ]
     },
     "metadata": {},
     "output_type": "display_data"
    },
    {
     "name": "stdout",
     "output_type": "stream",
     "text": [
      "Enduro\n"
     ]
    },
    {
     "data": {
      "application/vnd.jupyter.widget-view+json": {
       "model_id": "a2340906666d45d0813db05a7d2c09e0",
       "version_major": 2,
       "version_minor": 0
      },
      "text/plain": [
       "FigureWidget({\n",
       "    'data': [{'mode': 'lines',\n",
       "              'name': 'mean',\n",
       "              'type': 'scatter',\n",
       " …"
      ]
     },
     "metadata": {},
     "output_type": "display_data"
    },
    {
     "name": "stdout",
     "output_type": "stream",
     "text": [
      " -- found local run at /home/ben/Documents/repos/anomaly-detection/wandb/dryrun-20200429_144007-sssn-Pong-20200429154006\n",
      " -- found config file: \n",
      " -- found 1 model(s): \n",
      " ---- model.pt\n",
      "loading dataset aad.clean.Pong.state...\n"
     ]
    },
    {
     "data": {
      "application/vnd.jupyter.widget-view+json": {
       "model_id": "53b3e8c1c4c747648d11c3b9f5666db6",
       "version_major": 2,
       "version_minor": 0
      },
      "text/plain": [
       "IntProgress(value=0, max=1)"
      ]
     },
     "metadata": {},
     "output_type": "display_data"
    },
    {
     "name": "stdout",
     "output_type": "stream",
     "text": [
      "Pong\n"
     ]
    },
    {
     "data": {
      "application/vnd.jupyter.widget-view+json": {
       "model_id": "36e0ba0333094ba8b428c3cab84d8821",
       "version_major": 2,
       "version_minor": 0
      },
      "text/plain": [
       "FigureWidget({\n",
       "    'data': [{'mode': 'lines',\n",
       "              'name': 'mean',\n",
       "              'type': 'scatter',\n",
       " …"
      ]
     },
     "metadata": {},
     "output_type": "display_data"
    },
    {
     "name": "stdout",
     "output_type": "stream",
     "text": [
      " -- found local run at /home/ben/Documents/repos/anomaly-detection/wandb/dryrun-20200429_171611-sssn-Qbert-20200429181610\n",
      " -- found config file: \n",
      " -- found 1 model(s): \n",
      " ---- model.pt\n",
      "loading dataset aad.clean.Qbert.state...\n"
     ]
    },
    {
     "data": {
      "application/vnd.jupyter.widget-view+json": {
       "model_id": "2dba5883bf41491786bc37cea827f16c",
       "version_major": 2,
       "version_minor": 0
      },
      "text/plain": [
       "IntProgress(value=0, max=1)"
      ]
     },
     "metadata": {},
     "output_type": "display_data"
    },
    {
     "name": "stdout",
     "output_type": "stream",
     "text": [
      "Qbert\n"
     ]
    },
    {
     "data": {
      "application/vnd.jupyter.widget-view+json": {
       "model_id": "8490e2cdcb634bf7a86d689349c925ec",
       "version_major": 2,
       "version_minor": 0
      },
      "text/plain": [
       "FigureWidget({\n",
       "    'data': [{'mode': 'lines',\n",
       "              'name': 'mean',\n",
       "              'type': 'scatter',\n",
       " …"
      ]
     },
     "metadata": {},
     "output_type": "display_data"
    },
    {
     "name": "stdout",
     "output_type": "stream",
     "text": [
      " -- found local run at /home/ben/Documents/repos/anomaly-detection/wandb/dryrun-20200429_174221-sssn-Seaquest-20200429184220\n",
      " -- found config file: \n",
      " -- found 1 model(s): \n",
      " ---- model.pt\n",
      "loading dataset aad.clean.Seaquest.state...\n"
     ]
    },
    {
     "data": {
      "application/vnd.jupyter.widget-view+json": {
       "model_id": "5787d3a1bdb44a629490aec82f1b7976",
       "version_major": 2,
       "version_minor": 0
      },
      "text/plain": [
       "IntProgress(value=0, max=1)"
      ]
     },
     "metadata": {},
     "output_type": "display_data"
    },
    {
     "name": "stdout",
     "output_type": "stream",
     "text": [
      "Seaquest\n"
     ]
    },
    {
     "data": {
      "application/vnd.jupyter.widget-view+json": {
       "model_id": "3b9b1ba068d4420bac0c5fcb3e666f40",
       "version_major": 2,
       "version_minor": 0
      },
      "text/plain": [
       "FigureWidget({\n",
       "    'data': [{'mode': 'lines',\n",
       "              'name': 'mean',\n",
       "              'type': 'scatter',\n",
       " …"
      ]
     },
     "metadata": {},
     "output_type": "display_data"
    },
    {
     "name": "stdout",
     "output_type": "stream",
     "text": [
      " -- found local run at /home/ben/Documents/repos/anomaly-detection/wandb/dryrun-20200501_093836-sssn-SpaceInvaders-20200501103833\n",
      " -- found config file: \n",
      " -- found 1 model(s): \n",
      " ---- model.pt\n",
      "loading dataset aad.clean.SpaceInvaders.state...\n"
     ]
    },
    {
     "data": {
      "application/vnd.jupyter.widget-view+json": {
       "model_id": "179b412cb10f4d628801e65a180e6768",
       "version_major": 2,
       "version_minor": 0
      },
      "text/plain": [
       "IntProgress(value=0, max=1)"
      ]
     },
     "metadata": {},
     "output_type": "display_data"
    },
    {
     "name": "stdout",
     "output_type": "stream",
     "text": [
      "SpaceInvaders\n"
     ]
    },
    {
     "data": {
      "application/vnd.jupyter.widget-view+json": {
       "model_id": "263f5123bbf74f97a23ab0bae3680a87",
       "version_major": 2,
       "version_minor": 0
      },
      "text/plain": [
       "FigureWidget({\n",
       "    'data': [{'mode': 'lines',\n",
       "              'name': 'mean',\n",
       "              'type': 'scatter',\n",
       " …"
      ]
     },
     "metadata": {},
     "output_type": "display_data"
    }
   ],
   "source": [
    "# PATH DISPLACEMENT IN PIXEL SPACE\n",
    "\n",
    "num_episodes = 1\n",
    "\n",
    "\n",
    "for env in envs:\n",
    "    dryruns = sorted([r for r in wbu.dryruns() if env in r])\n",
    "    run = dryruns[0]\n",
    "    model, config = load_model(run)\n",
    "    episodes = load_data(num_episodes)\n",
    "    episode = episodes[-1]\n",
    "    print(env)\n",
    "    z = tu.to_numpy(episode).reshape(episode.shape[0],-1)\n",
    "    max_skip = int(z.shape[0]*.8)\n",
    "    def stat(i):\n",
    "        #if not i % 200:\n",
    "        #    print(\"---\", i)\n",
    "        d = distance(z[:-i], z[i:])\n",
    "        return np.mean(d), np.min(d), np.max(d), np.var(d), i\n",
    "    mu, _min, _max, sig, x = zip(*[stat(i) for i in range(1,max_skip)])\n",
    "    mu, _min, _max, sig, x = np.array(mu), np.array(_min), np.array(_max), np.array(sig), np.array(x)\n",
    "    plot = J.plot([x,x,x], [mu,_min,_max], legend=['mean','min','max'])\n",
    "    plot.fig.update_layout(margin=dict(t=10,l=10,r=10,b=10), autosize=False, height=300, width=800, showlegend=False)\n",
    "    plot.fig.write_image(\"wandb/{0}/media/pixel-displacement-{1}.png\".format(run, env))\n",
    "    \n",
    "#J.plot(x, sig, legend=['var'])"
   ]
  },
  {
   "cell_type": "markdown",
   "metadata": {},
   "source": [
    "# Spectrum Example"
   ]
  },
  {
   "cell_type": "code",
   "execution_count": null,
   "metadata": {},
   "outputs": [],
   "source": [
    "#Import the necessary packages\n",
    "from scipy import fftpack\n",
    "import matplotlib.pyplot as plt\n",
    "import numpy as np\n",
    "    \n",
    "# sampling freq in herts 20Hz, and 40Hz\n",
    "freq_sampling1 = 10\n",
    "freq_sampling2 = 20\n",
    "amplitude1 = 2 # amplitude of first sine wave\n",
    "amplitude2 = 4 # amplitude of second sine wave\n",
    "time = np.linspace(0, 6, 500, endpoint=True) # time range with total samples of 500 from 0 to 6 with time interval equals 6/500\n",
    "y = amplitude1*np.sin(2*np.pi*freq_sampling1*time) + amplitude2*np.sin(2*np.pi*freq_sampling2*time)\n",
    "y += np.linspace(0.1,10,y.size) ** 2\n",
    "\n",
    "y = y[1:] - y[:-1] # remove trend via differencing\n",
    "time = time[1:]\n",
    "\n",
    "plt.figure(figsize=(10, 4))\n",
    "plt.plot(time,y, 'k', lw=0.8)\n",
    "plt.xlim(0,6)\n",
    "plt.show()\n",
    "\n",
    "freq, amp = spectrum(time, y)\n",
    "\n",
    "plt.figure(figsize=(10,6))\n",
    "plt.plot(freq, amp)\n",
    "plt.show()\n",
    "\n",
    "#https://stackoverflow.com/questions/52730753/how-to-get-frequency-axis-from-an-fft-function"
   ]
  },
  {
   "cell_type": "code",
   "execution_count": 33,
   "metadata": {},
   "outputs": [
    {
     "name": "stdout",
     "output_type": "stream",
     "text": [
      "(5000,) (5000,)\n"
     ]
    },
    {
     "data": {
      "application/vnd.jupyter.widget-view+json": {
       "model_id": "4a3e4ac4210346148a577d4da88102bd",
       "version_major": 2,
       "version_minor": 0
      },
      "text/plain": [
       "FigureWidget({\n",
       "    'data': [{'mode': 'lines',\n",
       "              'name': '1',\n",
       "              'type': 'scatter',\n",
       "    …"
      ]
     },
     "metadata": {},
     "output_type": "display_data"
    },
    {
     "data": {
      "application/vnd.jupyter.widget-view+json": {
       "model_id": "9588bf161c194078ae1100a4cdde934c",
       "version_major": 2,
       "version_minor": 0
      },
      "text/plain": [
       "FigureWidget({\n",
       "    'data': [{'mode': 'lines',\n",
       "              'name': 'mean',\n",
       "              'type': 'scatter',\n",
       " …"
      ]
     },
     "metadata": {},
     "output_type": "display_data"
    }
   ],
   "source": [
    "import numpy as np\n",
    "\n",
    "x = np.linspace(0,50*np.pi,10000)\n",
    "\n",
    "y1 = np.linspace(-2,2,x.size-5000)**2 + np.sin(x[:-5000])\n",
    "y2 = np.linspace(-2,2,5000)\n",
    "print(y1.shape, y2.shape)\n",
    "y1 = np.concatenate((y1,y2))\n",
    "#y2 = np.sin(x)\n",
    "y = y1\n",
    "\n",
    "\n",
    "def plot_skip_distance(z):\n",
    "    max_skip = int(z.shape[0]*.8)\n",
    "    def stat(i):\n",
    "        d = distance(z[:-i], z[i:])\n",
    "        return np.mean(d), np.min(d), np.max(d), np.var(d), i\n",
    "    mu, _min, _max, sig, x = zip(*[stat(i) for i in range(1,max_skip)])\n",
    "    mu, _min, _max, sig, x = np.array(mu), np.array(_min), np.array(_max), np.array(sig), np.array(x)\n",
    "    J.plot([x,x,x], [mu,_min,_max], legend=['mean','min','max'])\n",
    "    \n",
    "#J.plot([x,x,x],[y1,y2,y])\n",
    "J.plot(x,y)\n",
    "plot_skip_distance(y[:,np.newaxis])"
   ]
  },
  {
   "cell_type": "code",
   "execution_count": null,
   "metadata": {},
   "outputs": [],
   "source": []
  }
 ],
 "metadata": {
  "kernelspec": {
   "display_name": "PhD",
   "language": "python",
   "name": "phd"
  },
  "language_info": {
   "codemirror_mode": {
    "name": "ipython",
    "version": 3
   },
   "file_extension": ".py",
   "mimetype": "text/x-python",
   "name": "python",
   "nbconvert_exporter": "python",
   "pygments_lexer": "ipython3",
   "version": "3.8.2"
  }
 },
 "nbformat": 4,
 "nbformat_minor": 4
}
