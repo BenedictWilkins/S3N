{
 "cells": [
  {
   "cell_type": "code",
   "execution_count": 1,
   "metadata": {},
   "outputs": [
    {
     "name": "stdout",
     "output_type": "stream",
     "text": [
      "loading dataset aad.raw.Pong.state...\n"
     ]
    },
    {
     "data": {
      "application/vnd.jupyter.widget-view+json": {
       "model_id": "57d7b4d50ae44515880d3782426a89fa",
       "version_major": 2,
       "version_minor": 0
      },
      "text/plain": [
       "IntProgress(value=0, max=1)"
      ]
     },
     "metadata": {},
     "output_type": "display_data"
    },
    {
     "name": "stdout",
     "output_type": "stream",
     "text": [
      "loading dataset aad.raw.Pong.action...\n"
     ]
    },
    {
     "data": {
      "application/vnd.jupyter.widget-view+json": {
       "model_id": "4a2856d8e9f648b784c25557658c1e6c",
       "version_major": 2,
       "version_minor": 0
      },
      "text/plain": [
       "IntProgress(value=0, max=1)"
      ]
     },
     "metadata": {},
     "output_type": "display_data"
    },
    {
     "name": "stdout",
     "output_type": "stream",
     "text": [
      "(1625,) 6\n",
      "torch.Size([1625, 3, 210, 160])\n",
      "torch.Size([1625, 6])\n"
     ]
    }
   ],
   "source": [
    "import pyworld.toolkit.tools.datautils as du\n",
    "\n",
    "import datasets\n",
    "import numpy as np\n",
    "\n",
    "env = \"Pong\"\n",
    "num_episodes = 1\n",
    "\n",
    "dataset = datasets.dataset('aad.raw.{0}'.format(env))\n",
    "\n",
    "state_shape = dataset.state.meta['shape']\n",
    "action_shape = dataset.action.meta['shape']\n",
    "\n",
    "dataset.state.transform.to_float().CHW().torch()\n",
    "dataset.action.transform.onehot(*action_shape).torch()\n",
    "\n",
    "states = [x for x in dataset.state.load(num_episodes)]\n",
    "actions = [x for x in dataset.action.load(num_episodes)]\n",
    "print(states[0].shape)\n",
    "print(actions[0].shape)"
   ]
  },
  {
   "cell_type": "code",
   "execution_count": null,
   "metadata": {},
   "outputs": [],
   "source": []
  }
 ],
 "metadata": {
  "kernelspec": {
   "display_name": "PhD",
   "language": "python",
   "name": "phd"
  },
  "language_info": {
   "codemirror_mode": {
    "name": "ipython",
    "version": 3
   },
   "file_extension": ".py",
   "mimetype": "text/x-python",
   "name": "python",
   "nbconvert_exporter": "python",
   "pygments_lexer": "ipython3",
   "version": "3.8.2"
  }
 },
 "nbformat": 4,
 "nbformat_minor": 4
}
