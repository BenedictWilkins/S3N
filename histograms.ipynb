{
 "cells": [
  {
   "cell_type": "markdown",
   "metadata": {},
   "source": [
    "# ALL"
   ]
  },
  {
   "cell_type": "code",
   "execution_count": 1,
   "metadata": {
    "scrolled": false
   },
   "outputs": [
    {
     "name": "stdout",
     "output_type": "stream",
     "text": [
      "USING DEVICE: cuda\n"
     ]
    }
   ],
   "source": [
    "from types import SimpleNamespace\n",
    "from pprint import pprint\n",
    "import numpy as np\n",
    "\n",
    "import anomapy.train.sssn as sssn\n",
    "import datasets\n",
    "\n",
    "import pyworld.toolkit.tools.wbutils as wbu\n",
    "import pyworld.toolkit.tools.torchutils as tu\n",
    "import pyworld.toolkit.tools.visutils.jupyter as J\n",
    "import pyworld.toolkit.tools.visutils.transform as T\n",
    "import pyworld.toolkit.tools.visutils.plot as vplot\n",
    "\n",
    "num_episodes = 1\n",
    "\n",
    "\n",
    "envs = ['BeamRider','Breakout','Enduro','Pong','Qbert','Seaquest','SpaceInvaders']\n",
    "\n",
    "def load_model(run):\n",
    "    models, config = wbu.load(run) #load the most recently trained model\n",
    "    model = models['model.pt'].load(sssn.model(**config))\n",
    "    config = SimpleNamespace(**config)\n",
    "    return model, config\n",
    "\n",
    "def load_data(num_episodes):\n",
    "    dataset = datasets.dataset('aad.clean.{0}'.format(env))\n",
    "    dataset.state.transform.to_float().CHW().torch()\n",
    "    return [d for d in dataset.state.load(num_episodes)]\n",
    "\n",
    "def distance(z1, z2):\n",
    "    return ((z1 - z2) ** 2).sum(1)"
   ]
  },
  {
   "cell_type": "code",
   "execution_count": 2,
   "metadata": {
    "scrolled": false
   },
   "outputs": [
    {
     "name": "stdout",
     "output_type": "stream",
     "text": [
      " -- found local run at /home/ben/Documents/repos/anomaly-detection/wandb/dryrun-20200429_141220-sssn-BeamRider-20200429151217\n",
      " -- found config file: \n",
      " -- found 1 model(s): \n",
      " ---- model.pt\n",
      "loading dataset aad.clean.BeamRider.state...\n"
     ]
    },
    {
     "data": {
      "application/vnd.jupyter.widget-view+json": {
       "model_id": "d8546b01916b4efeb2088d5d66cb2704",
       "version_major": 2,
       "version_minor": 0
      },
      "text/plain": [
       "IntProgress(value=0, max=1)"
      ]
     },
     "metadata": {},
     "output_type": "display_data"
    },
    {
     "name": "stdout",
     "output_type": "stream",
     "text": [
      "torch.Size([2571, 3, 210, 160])\n"
     ]
    },
    {
     "data": {
      "application/vnd.jupyter.widget-view+json": {
       "model_id": "35ee62e122114236be1ce599074595c2",
       "version_major": 2,
       "version_minor": 0
      },
      "text/plain": [
       "FigureWidget({\n",
       "    'data': [{'name': '1',\n",
       "              'type': 'histogram',\n",
       "              'uid': '335cd56e-93…"
      ]
     },
     "metadata": {},
     "output_type": "display_data"
    }
   ],
   "source": [
    "#HISTOGRAMS\n",
    "ds = [1, 2, 5, 10, 50, 100]\n",
    "#ds = [2**i for i in range(8)]\n",
    "#ds = [i for i in range(1,100)]\n",
    "\n",
    "for env in envs:\n",
    "    dryruns = sorted([r for r in wbu.dryruns() if env in r])\n",
    "    run = dryruns[-1]\n",
    "    plot_path = \"wandb/{0}/media/normal_hist-{1}.png\".format(run, env)\n",
    "    model, config = load_model(run)\n",
    "    episodes = load_data(num_episodes)\n",
    "    \n",
    "    episode = episodes[0]\n",
    "    print(episode.shape)\n",
    "    \n",
    "    z = tu.to_numpy(sssn.encode(model, episode))\n",
    "    distances = [np.log(1 + distance(z[:-i], z[i:])) for i in ds]\n",
    "    fig = J.histogram(distances, bins=30, log_scale=True, legend=[str(i) for i in ds])\n",
    "    fig.update_layout(margin=dict(t=10,l=10,r=10,b=10), autosize=False, height=200, width=800, showlegend=False)\n",
    "    \n",
    "    #fig.write_image(plot_path)\n",
    "    break"
   ]
  },
  {
   "cell_type": "code",
   "execution_count": null,
   "metadata": {},
   "outputs": [],
   "source": [
    "#Summary statistic\n",
    "from sklearn.metrics import roc_curve\n",
    "from sklearn.metrics import auc\n",
    "\n",
    "def encode(env):\n",
    "    dryruns = sorted([r for r in wbu.dryruns() if env in r])\n",
    "    run = dryruns[-1]\n",
    "    plot_path = \"wandb/{0}/media/normal_hist-{1}.png\".format(run, env)\n",
    "    model, config = load_model(run)\n",
    "    episodes = load_data(num_episodes)\n",
    "    episode = episodes[0]\n",
    "    return tu.to_numpy(sssn.encode(model, episode))\n",
    "\n",
    "def displacement(z1, z2):\n",
    "    return ((z1 - z2) ** 2).sum(1)\n",
    "\n",
    "def displacement(z1, z2):\n",
    "    return ((z1 - z2) ** 2).sum(1)\n",
    "\n",
    "\n",
    "for env in envs:\n",
    "    z = encode(env)\n",
    "    step1 = distance(z[:-1], z[1:])\n",
    "    for i in range(0, max_step)\n",
    "    \n",
    "    \n",
    "    fig = J.histogram(distances, bins=30, log_scale=True, legend=[str(i) for i in ds])\n",
    "    fig.update_layout(margin=dict(t=10,l=10,r=10,b=10), autosize=False, height=200, width=800, showlegend=False)\n",
    "    #fig.write_image(plot_path)\n",
    "    break"
   ]
  },
  {
   "cell_type": "code",
   "execution_count": null,
   "metadata": {
    "scrolled": true
   },
   "outputs": [],
   "source": [
    "# SKIP PLOTS\n",
    "num_episodes = 1\n",
    "ds = [1, 2, 5, 10, 50, 100]\n",
    "\n",
    "for env in envs:\n",
    "    dryruns = sorted([r for r in wbu.dryruns() if env in r])\n",
    "    run = dryruns[-1]\n",
    "    plot_path = \"wandb/{0}/media/normal_hist-{1}.png\".format(run, env)\n",
    "    model, config = load_model(run)\n",
    "    episodes = load_data(num_episodes)\n",
    "    episode = episodes[-1]\n",
    "    \n",
    "    z = tu.to_numpy(sssn.encode(model, episode))\n",
    "\n",
    "    y = [distance(z[:-i], z[i:]) for i in ds]\n",
    "    x = np.arange(0,y[0].shape[0])\n",
    "    x = [x]*len(y)\n",
    "    J.plot(x,y, legend=ds)"
   ]
  },
  {
   "cell_type": "code",
   "execution_count": null,
   "metadata": {
    "scrolled": false
   },
   "outputs": [],
   "source": [
    "num_episodes = 1\n",
    "\n",
    "#envs = [envs[4]]\n",
    "\n",
    "for env in envs:\n",
    "    dryruns = sorted([r for r in wbu.dryruns() if env in r])\n",
    "    run = dryruns[0]\n",
    "    plot_path = \"wandb/{0}/media/normal_hist-{1}.png\".format(run, env)\n",
    "    model, config = load_model(run)\n",
    "    episodes = load_data(num_episodes)\n",
    "    episode = episodes[-1]\n",
    "    \n",
    "    def plot_skip_distance(z):\n",
    "        max_skip = int(z.shape[0]*.8)\n",
    "        def stat(i):\n",
    "            d = distance(z[:-i], z[i:])\n",
    "            return np.mean(d), np.min(d), np.max(d), np.var(d), i\n",
    "        mu, _min, _max, sig, x = zip(*[stat(i) for i in range(1,max_skip)])\n",
    "        mu, _min, _max, sig, x = np.array(mu), np.array(_min), np.array(_max), np.array(sig), np.array(x)\n",
    "        plot = J.plot([x,x,x], [mu,_min,_max], legend=['mean','min','max'])\n",
    "        plot.fig.update_layout(margin=dict(t=10,l=10,r=10,b=10), autosize=False, height=300, width=800, showlegend=False)\n",
    "        #plot.fig.write_image(\"wandb/{0}/media/skip_distance-{1}.png\".format(run, env))\n",
    "        #J.plot(x, sig, legend=['var'])\n",
    "        \n",
    "\n",
    "    z = tu.to_numpy(sssn.encode(model, episode))\n",
    "    plot_skip_distance(z)\n",
    "    \n",
    "  \n",
    "\n",
    "    #print(episode.shape)\n",
    "    #print(episode[:,0,...].shape)\n",
    "    #print(.shape)\n",
    "    #mages = tu.to_numpy(episode)\n",
    "    # = images[:,0].reshape(images.shape[0],-1)\n",
    "    # = images[:,1].reshape(images.shape[0],-1)\n",
    "    # = images[:,2].reshape(images.shape[0],-1)\n",
    "    break\n",
    "  \n",
    "    "
   ]
  },
  {
   "cell_type": "code",
   "execution_count": 8,
   "metadata": {
    "scrolled": false
   },
   "outputs": [
    {
     "name": "stdout",
     "output_type": "stream",
     "text": [
      " -- found local run at /home/ben/Documents/repos/anomaly-detection/wandb/dryrun-20200429_141220-sssn-BeamRider-20200429151217\n",
      " -- found config file: \n",
      " -- found 1 model(s): \n",
      " ---- model.pt\n",
      "loading dataset aad.clean.BeamRider.state...\n"
     ]
    },
    {
     "data": {
      "application/vnd.jupyter.widget-view+json": {
       "model_id": "406dc9f4844b42b9af16f953e44a6cae",
       "version_major": 2,
       "version_minor": 0
      },
      "text/plain": [
       "IntProgress(value=0, max=1)"
      ]
     },
     "metadata": {},
     "output_type": "display_data"
    },
    {
     "data": {
      "application/vnd.jupyter.widget-view+json": {
       "model_id": "e4709c3482434f2e9e954ef690641f51",
       "version_major": 2,
       "version_minor": 0
      },
      "text/plain": [
       "FigureWidget({\n",
       "    'data': [{'mode': 'lines',\n",
       "              'name': 'mean',\n",
       "              'type': 'scatter',\n",
       " …"
      ]
     },
     "metadata": {},
     "output_type": "display_data"
    },
    {
     "name": "stdout",
     "output_type": "stream",
     "text": [
      " -- found local run at /home/ben/Documents/repos/anomaly-detection/wandb/dryrun-20200429_150221-sssn-Breakout-20200429160219\n",
      " -- found config file: \n",
      " -- found 1 model(s): \n",
      " ---- model.pt\n",
      "loading dataset aad.clean.Breakout.state...\n"
     ]
    },
    {
     "data": {
      "application/vnd.jupyter.widget-view+json": {
       "model_id": "1fab46c6ce2d4cbca92fde8e5217d2fc",
       "version_major": 2,
       "version_minor": 0
      },
      "text/plain": [
       "IntProgress(value=0, max=1)"
      ]
     },
     "metadata": {},
     "output_type": "display_data"
    },
    {
     "data": {
      "application/vnd.jupyter.widget-view+json": {
       "model_id": "524b3c6b144844efa39455ffe773f105",
       "version_major": 2,
       "version_minor": 0
      },
      "text/plain": [
       "FigureWidget({\n",
       "    'data': [{'mode': 'lines',\n",
       "              'name': 'mean',\n",
       "              'type': 'scatter',\n",
       " …"
      ]
     },
     "metadata": {},
     "output_type": "display_data"
    },
    {
     "name": "stdout",
     "output_type": "stream",
     "text": [
      " -- found local run at /home/ben/Documents/repos/anomaly-detection/wandb/dryrun-20200429_153330-sssn-Enduro-64-20200429163327\n",
      " -- found config file: \n",
      " -- found 1 model(s): \n",
      " ---- model.pt\n",
      "loading dataset aad.clean.Enduro.state...\n"
     ]
    },
    {
     "data": {
      "application/vnd.jupyter.widget-view+json": {
       "model_id": "0c1469c9ccc944eb96c71538d5ebdcc5",
       "version_major": 2,
       "version_minor": 0
      },
      "text/plain": [
       "IntProgress(value=0, max=1)"
      ]
     },
     "metadata": {},
     "output_type": "display_data"
    },
    {
     "data": {
      "application/vnd.jupyter.widget-view+json": {
       "model_id": "02f79d9a24464c7f86eec27b6db6fb0e",
       "version_major": 2,
       "version_minor": 0
      },
      "text/plain": [
       "FigureWidget({\n",
       "    'data': [{'mode': 'lines',\n",
       "              'name': 'mean',\n",
       "              'type': 'scatter',\n",
       " …"
      ]
     },
     "metadata": {},
     "output_type": "display_data"
    },
    {
     "name": "stdout",
     "output_type": "stream",
     "text": [
      " -- found local run at /home/ben/Documents/repos/anomaly-detection/wandb/dryrun-20200429_144007-sssn-Pong-20200429154006\n",
      " -- found config file: \n",
      " -- found 1 model(s): \n",
      " ---- model.pt\n",
      "loading dataset aad.clean.Pong.state...\n"
     ]
    },
    {
     "data": {
      "application/vnd.jupyter.widget-view+json": {
       "model_id": "8b5b543a41304f79bee9ade13266c2fd",
       "version_major": 2,
       "version_minor": 0
      },
      "text/plain": [
       "IntProgress(value=0, max=1)"
      ]
     },
     "metadata": {},
     "output_type": "display_data"
    },
    {
     "data": {
      "application/vnd.jupyter.widget-view+json": {
       "model_id": "e27c051d3d4e41719e0efc6632d40ded",
       "version_major": 2,
       "version_minor": 0
      },
      "text/plain": [
       "FigureWidget({\n",
       "    'data': [{'mode': 'lines',\n",
       "              'name': 'mean',\n",
       "              'type': 'scatter',\n",
       " …"
      ]
     },
     "metadata": {},
     "output_type": "display_data"
    },
    {
     "name": "stdout",
     "output_type": "stream",
     "text": [
      " -- found local run at /home/ben/Documents/repos/anomaly-detection/wandb/dryrun-20200429_171611-sssn-Qbert-20200429181610\n",
      " -- found config file: \n",
      " -- found 1 model(s): \n",
      " ---- model.pt\n",
      "loading dataset aad.clean.Qbert.state...\n"
     ]
    },
    {
     "data": {
      "application/vnd.jupyter.widget-view+json": {
       "model_id": "71eadc83f4bb49f89e95d55934929f44",
       "version_major": 2,
       "version_minor": 0
      },
      "text/plain": [
       "IntProgress(value=0, max=1)"
      ]
     },
     "metadata": {},
     "output_type": "display_data"
    },
    {
     "data": {
      "application/vnd.jupyter.widget-view+json": {
       "model_id": "8f25accd5a8c47fc814f151c51840b1d",
       "version_major": 2,
       "version_minor": 0
      },
      "text/plain": [
       "FigureWidget({\n",
       "    'data': [{'mode': 'lines',\n",
       "              'name': 'mean',\n",
       "              'type': 'scatter',\n",
       " …"
      ]
     },
     "metadata": {},
     "output_type": "display_data"
    },
    {
     "name": "stdout",
     "output_type": "stream",
     "text": [
      " -- found local run at /home/ben/Documents/repos/anomaly-detection/wandb/dryrun-20200429_174221-sssn-Seaquest-20200429184220\n",
      " -- found config file: \n",
      " -- found 1 model(s): \n",
      " ---- model.pt\n",
      "loading dataset aad.clean.Seaquest.state...\n"
     ]
    },
    {
     "data": {
      "application/vnd.jupyter.widget-view+json": {
       "model_id": "5cca43bab3a04b16897bf1a0cb1ad219",
       "version_major": 2,
       "version_minor": 0
      },
      "text/plain": [
       "IntProgress(value=0, max=1)"
      ]
     },
     "metadata": {},
     "output_type": "display_data"
    },
    {
     "data": {
      "application/vnd.jupyter.widget-view+json": {
       "model_id": "2e0696f9b7ef498383fa5195ba5f25f3",
       "version_major": 2,
       "version_minor": 0
      },
      "text/plain": [
       "FigureWidget({\n",
       "    'data': [{'mode': 'lines',\n",
       "              'name': 'mean',\n",
       "              'type': 'scatter',\n",
       " …"
      ]
     },
     "metadata": {},
     "output_type": "display_data"
    },
    {
     "name": "stdout",
     "output_type": "stream",
     "text": [
      " -- found local run at /home/ben/Documents/repos/anomaly-detection/wandb/dryrun-20200501_093836-sssn-SpaceInvaders-20200501103833\n",
      " -- found config file: \n",
      " -- found 1 model(s): \n",
      " ---- model.pt\n",
      "loading dataset aad.clean.SpaceInvaders.state...\n"
     ]
    },
    {
     "data": {
      "application/vnd.jupyter.widget-view+json": {
       "model_id": "994f45d7566743349d76be42d4ebfafa",
       "version_major": 2,
       "version_minor": 0
      },
      "text/plain": [
       "IntProgress(value=0, max=1)"
      ]
     },
     "metadata": {},
     "output_type": "display_data"
    },
    {
     "data": {
      "application/vnd.jupyter.widget-view+json": {
       "model_id": "4223b852fa554939a54427383cc57763",
       "version_major": 2,
       "version_minor": 0
      },
      "text/plain": [
       "FigureWidget({\n",
       "    'data': [{'mode': 'lines',\n",
       "              'name': 'mean',\n",
       "              'type': 'scatter',\n",
       " …"
      ]
     },
     "metadata": {},
     "output_type": "display_data"
    }
   ],
   "source": [
    "#path distance plot\n",
    "\n",
    "\n",
    "def path_distance(z, i): #sum(|| s_t - s_t+j ||) for all j in {t,...,t+i}\n",
    "    d = distance(z[:-1], z[1:])\n",
    "    shape = (d.size - i + 1, i)\n",
    "    strides = (d.itemsize, d.itemsize)\n",
    "    return np.lib.stride_tricks.as_strided(d, shape=shape, strides=strides).sum(1)\n",
    "\n",
    "num_episodes = 1\n",
    "\n",
    "for env in envs:\n",
    "    dryruns = sorted([r for r in wbu.dryruns() if env in r])\n",
    "    run = dryruns[0]\n",
    "    plot_path = \"wandb/{0}/media/normal_hist-{1}.png\".format(run, env)\n",
    "    model, config = load_model(run)\n",
    "    episodes = load_data(num_episodes)\n",
    "    episode = episodes[-1]\n",
    "    \n",
    "    def plot_path_distance(z):\n",
    "        max_skip = int(z.shape[0]*.8)\n",
    "        def stat(i):\n",
    "            d = path_distance(z, i)\n",
    "            return np.mean(d), np.min(d), np.max(d), np.var(d), i\n",
    "        \n",
    "        mu, _min, _max, sig, x = zip(*[stat(i) for i in range(1,max_skip)])\n",
    "        mu, _min, _max, sig, x = np.array(mu), np.array(_min), np.array(_max), np.array(sig), np.array(x)\n",
    "        plot = J.plot([x,x,x], [mu,_min,_max], legend=['mean','min','max'])\n",
    "        plot.fig.update_layout(margin=dict(t=10,l=10,r=10,b=10), autosize=False, height=300, width=800, showlegend=False)\n",
    "        #plot.fig.write_image(\"wandb/{0}/media/skip_distance-{1}.png\".format(run, env))\n",
    "        #J.plot(x, sig, legend=['var'])\n",
    "        \n",
    "\n",
    "    z = tu.to_numpy(sssn.encode(model, episode))\n",
    "    plot_path_distance(z)\n"
   ]
  },
  {
   "cell_type": "code",
   "execution_count": 7,
   "metadata": {
    "scrolled": false
   },
   "outputs": [
    {
     "name": "stdout",
     "output_type": "stream",
     "text": [
      " -- found local run at /home/ben/Documents/repos/anomaly-detection/wandb/dryrun-20200429_141220-sssn-BeamRider-20200429151217\n",
      " -- found config file: \n",
      " -- found 1 model(s): \n",
      " ---- model.pt\n",
      "loading dataset aad.clean.BeamRider.state...\n"
     ]
    },
    {
     "data": {
      "application/vnd.jupyter.widget-view+json": {
       "model_id": "56d01616e3ef42348bd405fbe21347c6",
       "version_major": 2,
       "version_minor": 0
      },
      "text/plain": [
       "IntProgress(value=0, max=1)"
      ]
     },
     "metadata": {},
     "output_type": "display_data"
    },
    {
     "name": "stdout",
     "output_type": "stream",
     "text": [
      "torch.Size([2571, 3, 210, 160])\n"
     ]
    },
    {
     "data": {
      "application/vnd.jupyter.widget-view+json": {
       "model_id": "2514ca9abc4e4da4b275e05969c7e346",
       "version_major": 2,
       "version_minor": 0
      },
      "text/plain": [
       "FigureWidget({\n",
       "    'data': [{'name': '1',\n",
       "              'type': 'histogram',\n",
       "              'uid': '8d606c80-48…"
      ]
     },
     "metadata": {},
     "output_type": "display_data"
    },
    {
     "name": "stdout",
     "output_type": "stream",
     "text": [
      " -- found local run at /home/ben/Documents/repos/anomaly-detection/wandb/dryrun-20200429_150221-sssn-Breakout-20200429160219\n",
      " -- found config file: \n",
      " -- found 1 model(s): \n",
      " ---- model.pt\n",
      "loading dataset aad.clean.Breakout.state...\n"
     ]
    },
    {
     "data": {
      "application/vnd.jupyter.widget-view+json": {
       "model_id": "99f7e3e36865487babb3593e636e0d1e",
       "version_major": 2,
       "version_minor": 0
      },
      "text/plain": [
       "IntProgress(value=0, max=1)"
      ]
     },
     "metadata": {},
     "output_type": "display_data"
    },
    {
     "name": "stdout",
     "output_type": "stream",
     "text": [
      "torch.Size([604, 3, 210, 160])\n"
     ]
    },
    {
     "data": {
      "application/vnd.jupyter.widget-view+json": {
       "model_id": "84917baea0904788895161bd2721ef62",
       "version_major": 2,
       "version_minor": 0
      },
      "text/plain": [
       "FigureWidget({\n",
       "    'data': [{'name': '1',\n",
       "              'type': 'histogram',\n",
       "              'uid': 'b7adafec-07…"
      ]
     },
     "metadata": {},
     "output_type": "display_data"
    },
    {
     "name": "stdout",
     "output_type": "stream",
     "text": [
      " -- found local run at /home/ben/Documents/repos/anomaly-detection/wandb/dryrun-20200504_153755-sssn-Enduro-20200504163751\n",
      " -- found config file: \n",
      " -- found 1 model(s): \n",
      " ---- model.pt\n",
      "loading dataset aad.clean.Enduro.state...\n"
     ]
    },
    {
     "data": {
      "application/vnd.jupyter.widget-view+json": {
       "model_id": "16308cecf83a420499df7e93130f57c2",
       "version_major": 2,
       "version_minor": 0
      },
      "text/plain": [
       "IntProgress(value=0, max=1)"
      ]
     },
     "metadata": {},
     "output_type": "display_data"
    },
    {
     "name": "stdout",
     "output_type": "stream",
     "text": [
      "torch.Size([3326, 3, 210, 160])\n"
     ]
    },
    {
     "data": {
      "application/vnd.jupyter.widget-view+json": {
       "model_id": "d8fdbfd04e2b4415946832657f5fc335",
       "version_major": 2,
       "version_minor": 0
      },
      "text/plain": [
       "FigureWidget({\n",
       "    'data': [{'name': '1',\n",
       "              'type': 'histogram',\n",
       "              'uid': '16704a4d-8f…"
      ]
     },
     "metadata": {},
     "output_type": "display_data"
    },
    {
     "name": "stdout",
     "output_type": "stream",
     "text": [
      " -- found local run at /home/ben/Documents/repos/anomaly-detection/wandb/dryrun-20200429_144007-sssn-Pong-20200429154006\n",
      " -- found config file: \n",
      " -- found 1 model(s): \n",
      " ---- model.pt\n",
      "loading dataset aad.clean.Pong.state...\n"
     ]
    },
    {
     "data": {
      "application/vnd.jupyter.widget-view+json": {
       "model_id": "eac0afad2435418aa7cf86487322afd7",
       "version_major": 2,
       "version_minor": 0
      },
      "text/plain": [
       "IntProgress(value=0, max=1)"
      ]
     },
     "metadata": {},
     "output_type": "display_data"
    },
    {
     "name": "stdout",
     "output_type": "stream",
     "text": [
      "torch.Size([2662, 3, 210, 160])\n"
     ]
    },
    {
     "data": {
      "application/vnd.jupyter.widget-view+json": {
       "model_id": "1c9348164d1044fda6c1471ae5de2848",
       "version_major": 2,
       "version_minor": 0
      },
      "text/plain": [
       "FigureWidget({\n",
       "    'data': [{'name': '1',\n",
       "              'type': 'histogram',\n",
       "              'uid': 'b24fc5e2-06…"
      ]
     },
     "metadata": {},
     "output_type": "display_data"
    },
    {
     "name": "stdout",
     "output_type": "stream",
     "text": [
      " -- found local run at /home/ben/Documents/repos/anomaly-detection/wandb/dryrun-20200429_171611-sssn-Qbert-20200429181610\n",
      " -- found config file: \n",
      " -- found 1 model(s): \n",
      " ---- model.pt\n",
      "loading dataset aad.clean.Qbert.state...\n"
     ]
    },
    {
     "data": {
      "application/vnd.jupyter.widget-view+json": {
       "model_id": "69d430c2cd944fd6a3b92bb085261524",
       "version_major": 2,
       "version_minor": 0
      },
      "text/plain": [
       "IntProgress(value=0, max=1)"
      ]
     },
     "metadata": {},
     "output_type": "display_data"
    },
    {
     "name": "stdout",
     "output_type": "stream",
     "text": [
      "torch.Size([1081, 3, 210, 160])\n"
     ]
    },
    {
     "data": {
      "application/vnd.jupyter.widget-view+json": {
       "model_id": "4a1aa69352424d6d93e71e0d6fe56437",
       "version_major": 2,
       "version_minor": 0
      },
      "text/plain": [
       "FigureWidget({\n",
       "    'data': [{'name': '1',\n",
       "              'type': 'histogram',\n",
       "              'uid': '304ef054-92…"
      ]
     },
     "metadata": {},
     "output_type": "display_data"
    },
    {
     "name": "stdout",
     "output_type": "stream",
     "text": [
      " -- found local run at /home/ben/Documents/repos/anomaly-detection/wandb/dryrun-20200429_174221-sssn-Seaquest-20200429184220\n",
      " -- found config file: \n",
      " -- found 1 model(s): \n",
      " ---- model.pt\n",
      "loading dataset aad.clean.Seaquest.state...\n"
     ]
    },
    {
     "data": {
      "application/vnd.jupyter.widget-view+json": {
       "model_id": "9b3595d956544dfaba36f5af008a4c10",
       "version_major": 2,
       "version_minor": 0
      },
      "text/plain": [
       "IntProgress(value=0, max=1)"
      ]
     },
     "metadata": {},
     "output_type": "display_data"
    },
    {
     "name": "stdout",
     "output_type": "stream",
     "text": [
      "torch.Size([1357, 3, 210, 160])\n"
     ]
    },
    {
     "data": {
      "application/vnd.jupyter.widget-view+json": {
       "model_id": "b1fc7c074a9a4da089cf288fa0109027",
       "version_major": 2,
       "version_minor": 0
      },
      "text/plain": [
       "FigureWidget({\n",
       "    'data': [{'name': '1',\n",
       "              'type': 'histogram',\n",
       "              'uid': '7988ddba-37…"
      ]
     },
     "metadata": {},
     "output_type": "display_data"
    },
    {
     "name": "stdout",
     "output_type": "stream",
     "text": [
      " -- found local run at /home/ben/Documents/repos/anomaly-detection/wandb/dryrun-20200501_093836-sssn-SpaceInvaders-20200501103833\n",
      " -- found config file: \n",
      " -- found 1 model(s): \n",
      " ---- model.pt\n",
      "loading dataset aad.clean.SpaceInvaders.state...\n"
     ]
    },
    {
     "data": {
      "application/vnd.jupyter.widget-view+json": {
       "model_id": "399af48b86da4ba6bcd52954896b9c6d",
       "version_major": 2,
       "version_minor": 0
      },
      "text/plain": [
       "IntProgress(value=0, max=1)"
      ]
     },
     "metadata": {},
     "output_type": "display_data"
    },
    {
     "name": "stdout",
     "output_type": "stream",
     "text": [
      "torch.Size([1353, 3, 210, 160])\n"
     ]
    },
    {
     "data": {
      "application/vnd.jupyter.widget-view+json": {
       "model_id": "f837351d65054abaa2cf5fbd749e53bb",
       "version_major": 2,
       "version_minor": 0
      },
      "text/plain": [
       "FigureWidget({\n",
       "    'data': [{'name': '1',\n",
       "              'type': 'histogram',\n",
       "              'uid': '9c279cdf-0a…"
      ]
     },
     "metadata": {},
     "output_type": "display_data"
    }
   ],
   "source": [
    "def path_distance(d, i): #sum(|| s_t - s_t+j ||) for all j in {t,...,t+i}\n",
    "    d = distance(z[:-1], z[1:])\n",
    "    shape = (d.size - i + 1, i)\n",
    "    strides = (d.itemsize, d.itemsize)\n",
    "    return np.lib.stride_tricks.as_strided(d, shape=shape, strides=strides).sum(1)\n",
    "\n",
    "\n",
    "# PATH HISTOGRAMS\n",
    "ds = [1, 2, 5, 10, 50, 100]\n",
    "#ds = [2**i for i in range(8)]\n",
    "#ds = [i for i in range(1,100)]\n",
    "\n",
    "for env in envs:\n",
    "    dryruns = sorted([r for r in wbu.dryruns() if env in r])\n",
    "    run = dryruns[-1]\n",
    "    plot_path = \"wandb/{0}/media/path-hist-{1}.png\".format(run, env)\n",
    "    model, config = load_model(run)\n",
    "    episodes = load_data(num_episodes)\n",
    "    \n",
    "    episode = episodes[0]\n",
    "    print(episode.shape)\n",
    "    \n",
    "    z = tu.to_numpy(sssn.encode(model, episode))\n",
    "    distances = [np.log(1+ path_distance(z,i)) for i in ds]\n",
    "    #distances = [path_distance(z,i) for i in ds]\n",
    "    fig = J.histogram(distances, bins=30, log_scale=True, legend=[str(i) for i in ds])\n",
    "    fig.update_layout(margin=dict(t=10,l=10,r=10,b=10), autosize=False, height=200, width=800, showlegend=False)\n",
    "    fig.write_image(plot_path)\n",
    "    "
   ]
  },
  {
   "cell_type": "markdown",
   "metadata": {},
   "source": [
    "--------------------------------\n",
    "--------------------------------\n",
    "--------------------------------\n",
    "--------------------------------\n",
    "--------------------------------\n",
    "--------------------------------\n",
    "--------------------------------\n",
    "--------------------------------\n",
    "--------------------------------"
   ]
  },
  {
   "cell_type": "code",
   "execution_count": null,
   "metadata": {},
   "outputs": [],
   "source": [
    "def distance(model, episode):\n",
    "    z, d = sssn.distance(model, episode)\n",
    "    return tu.to_numpy(z), tu.to_numpy(d)\n",
    "\n",
    "envs = ['BeamRider','Breakout','Enduro','Pong','Qbert','Seaquest','SpaceInvaders']\n",
    "env = envs[2]\n"
   ]
  },
  {
   "cell_type": "markdown",
   "metadata": {},
   "source": [
    "# Load Model"
   ]
  },
  {
   "cell_type": "code",
   "execution_count": 10,
   "metadata": {},
   "outputs": [
    {
     "name": "stdout",
     "output_type": "stream",
     "text": [
      " -- found local run at /home/ben/Documents/repos/anomaly-detection/wandb/dryrun-20200501_093836-sssn-SpaceInvaders-20200501103833\n",
      " -- found config file: \n",
      " -- found 1 model(s): \n",
      " ---- model.pt\n"
     ]
    },
    {
     "ename": "RuntimeError",
     "evalue": "CUDA error: unspecified launch failure",
     "output_type": "error",
     "traceback": [
      "\u001b[0;31m---------------------------------------------------------------------------\u001b[0m",
      "\u001b[0;31mRuntimeError\u001b[0m                              Traceback (most recent call last)",
      "\u001b[0;32m<ipython-input-10-00b06fd08d5b>\u001b[0m in \u001b[0;36m<module>\u001b[0;34m\u001b[0m\n\u001b[1;32m      9\u001b[0m \u001b[0mdryruns\u001b[0m \u001b[0;34m=\u001b[0m \u001b[0msorted\u001b[0m\u001b[0;34m(\u001b[0m\u001b[0;34m[\u001b[0m\u001b[0mr\u001b[0m \u001b[0;32mfor\u001b[0m \u001b[0mr\u001b[0m \u001b[0;32min\u001b[0m \u001b[0mwbu\u001b[0m\u001b[0;34m.\u001b[0m\u001b[0mdryruns\u001b[0m\u001b[0;34m(\u001b[0m\u001b[0;34m)\u001b[0m \u001b[0;32mif\u001b[0m \u001b[0menv\u001b[0m \u001b[0;32min\u001b[0m \u001b[0mr\u001b[0m\u001b[0;34m]\u001b[0m\u001b[0;34m)\u001b[0m\u001b[0;34m\u001b[0m\u001b[0;34m\u001b[0m\u001b[0m\n\u001b[1;32m     10\u001b[0m \u001b[0mmodels\u001b[0m\u001b[0;34m,\u001b[0m \u001b[0mconfig\u001b[0m \u001b[0;34m=\u001b[0m \u001b[0mwbu\u001b[0m\u001b[0;34m.\u001b[0m\u001b[0mload\u001b[0m\u001b[0;34m(\u001b[0m\u001b[0mdryruns\u001b[0m\u001b[0;34m[\u001b[0m\u001b[0mrun\u001b[0m\u001b[0;34m]\u001b[0m\u001b[0;34m)\u001b[0m \u001b[0;31m#load the most recently trained model\u001b[0m\u001b[0;34m\u001b[0m\u001b[0;34m\u001b[0m\u001b[0m\n\u001b[0;32m---> 11\u001b[0;31m \u001b[0mmodel\u001b[0m \u001b[0;34m=\u001b[0m \u001b[0mmodels\u001b[0m\u001b[0;34m[\u001b[0m\u001b[0;34m'model.pt'\u001b[0m\u001b[0;34m]\u001b[0m\u001b[0;34m.\u001b[0m\u001b[0mload\u001b[0m\u001b[0;34m(\u001b[0m\u001b[0msssn\u001b[0m\u001b[0;34m.\u001b[0m\u001b[0mmodel\u001b[0m\u001b[0;34m(\u001b[0m\u001b[0;34m**\u001b[0m\u001b[0mconfig\u001b[0m\u001b[0;34m)\u001b[0m\u001b[0;34m)\u001b[0m\u001b[0;34m\u001b[0m\u001b[0;34m\u001b[0m\u001b[0m\n\u001b[0m\u001b[1;32m     12\u001b[0m \u001b[0mconfig\u001b[0m \u001b[0;34m=\u001b[0m \u001b[0mSimpleNamespace\u001b[0m\u001b[0;34m(\u001b[0m\u001b[0;34m**\u001b[0m\u001b[0mconfig\u001b[0m\u001b[0;34m)\u001b[0m\u001b[0;34m\u001b[0m\u001b[0;34m\u001b[0m\u001b[0m\n\u001b[1;32m     13\u001b[0m \u001b[0mplot_path\u001b[0m \u001b[0;34m=\u001b[0m \u001b[0;34m\"wandb/{0}/media/normal_hist.png\"\u001b[0m\u001b[0;34m.\u001b[0m\u001b[0mformat\u001b[0m\u001b[0;34m(\u001b[0m\u001b[0mdryruns\u001b[0m\u001b[0;34m[\u001b[0m\u001b[0mrun\u001b[0m\u001b[0;34m]\u001b[0m\u001b[0;34m)\u001b[0m\u001b[0;34m\u001b[0m\u001b[0;34m\u001b[0m\u001b[0m\n",
      "\u001b[0;32m~/Documents/repos/anomapy/anomapy/train/sssn.py\u001b[0m in \u001b[0;36mmodel\u001b[0;34m(**config)\u001b[0m\n\u001b[1;32m     53\u001b[0m \u001b[0;34m\u001b[0m\u001b[0m\n\u001b[1;32m     54\u001b[0m \u001b[0;32mdef\u001b[0m \u001b[0mmodel\u001b[0m\u001b[0;34m(\u001b[0m\u001b[0;34m**\u001b[0m\u001b[0mconfig\u001b[0m\u001b[0;34m)\u001b[0m\u001b[0;34m:\u001b[0m\u001b[0;34m\u001b[0m\u001b[0;34m\u001b[0m\u001b[0m\n\u001b[0;32m---> 55\u001b[0;31m     \u001b[0;32mreturn\u001b[0m \u001b[0mCNet2\u001b[0m\u001b[0;34m(\u001b[0m\u001b[0mconfig\u001b[0m\u001b[0;34m[\u001b[0m\u001b[0;34m'state'\u001b[0m\u001b[0;34m]\u001b[0m\u001b[0;34m[\u001b[0m\u001b[0;34m'shape'\u001b[0m\u001b[0;34m]\u001b[0m\u001b[0;34m,\u001b[0m \u001b[0mconfig\u001b[0m\u001b[0;34m[\u001b[0m\u001b[0;34m'latent_shape'\u001b[0m\u001b[0;34m]\u001b[0m\u001b[0;34m)\u001b[0m\u001b[0;34m.\u001b[0m\u001b[0mto\u001b[0m\u001b[0;34m(\u001b[0m\u001b[0mconfig\u001b[0m\u001b[0;34m[\u001b[0m\u001b[0;34m'device'\u001b[0m\u001b[0;34m]\u001b[0m\u001b[0;34m)\u001b[0m\u001b[0;34m\u001b[0m\u001b[0;34m\u001b[0m\u001b[0m\n\u001b[0m\u001b[1;32m     56\u001b[0m \u001b[0;34m\u001b[0m\u001b[0m\n\u001b[1;32m     57\u001b[0m \u001b[0;32mdef\u001b[0m \u001b[0moptimiser\u001b[0m\u001b[0;34m(\u001b[0m\u001b[0;34m**\u001b[0m\u001b[0mconfig\u001b[0m\u001b[0;34m)\u001b[0m\u001b[0;34m:\u001b[0m\u001b[0;34m\u001b[0m\u001b[0;34m\u001b[0m\u001b[0m\n",
      "\u001b[0;32m~/Documents/repos/pyworld-rl/pyworld/toolkit/nn/CNet.py\u001b[0m in \u001b[0;36mto\u001b[0;34m(self, device)\u001b[0m\n\u001b[1;32m     37\u001b[0m     \u001b[0;32mdef\u001b[0m \u001b[0mto\u001b[0m\u001b[0;34m(\u001b[0m\u001b[0mself\u001b[0m\u001b[0;34m,\u001b[0m \u001b[0mdevice\u001b[0m\u001b[0;34m)\u001b[0m\u001b[0;34m:\u001b[0m\u001b[0;34m\u001b[0m\u001b[0;34m\u001b[0m\u001b[0m\n\u001b[1;32m     38\u001b[0m         \u001b[0mself\u001b[0m\u001b[0;34m.\u001b[0m\u001b[0mdevice\u001b[0m \u001b[0;34m=\u001b[0m \u001b[0mdevice\u001b[0m\u001b[0;34m\u001b[0m\u001b[0;34m\u001b[0m\u001b[0m\n\u001b[0;32m---> 39\u001b[0;31m         \u001b[0;32mreturn\u001b[0m \u001b[0msuper\u001b[0m\u001b[0;34m(\u001b[0m\u001b[0mCNet\u001b[0m\u001b[0;34m,\u001b[0m \u001b[0mself\u001b[0m\u001b[0;34m)\u001b[0m\u001b[0;34m.\u001b[0m\u001b[0mto\u001b[0m\u001b[0;34m(\u001b[0m\u001b[0mdevice\u001b[0m\u001b[0;34m)\u001b[0m\u001b[0;34m\u001b[0m\u001b[0;34m\u001b[0m\u001b[0m\n\u001b[0m\u001b[1;32m     40\u001b[0m \u001b[0;34m\u001b[0m\u001b[0m\n\u001b[1;32m     41\u001b[0m     \u001b[0;32mdef\u001b[0m \u001b[0mforward\u001b[0m\u001b[0;34m(\u001b[0m\u001b[0mself\u001b[0m\u001b[0;34m,\u001b[0m \u001b[0mx_\u001b[0m\u001b[0;34m)\u001b[0m\u001b[0;34m:\u001b[0m\u001b[0;34m\u001b[0m\u001b[0;34m\u001b[0m\u001b[0m\n",
      "\u001b[0;32m~/anaconda3/envs/PhD/lib/python3.8/site-packages/torch/nn/modules/module.py\u001b[0m in \u001b[0;36mto\u001b[0;34m(self, *args, **kwargs)\u001b[0m\n\u001b[1;32m    423\u001b[0m             \u001b[0;32mreturn\u001b[0m \u001b[0mt\u001b[0m\u001b[0;34m.\u001b[0m\u001b[0mto\u001b[0m\u001b[0;34m(\u001b[0m\u001b[0mdevice\u001b[0m\u001b[0;34m,\u001b[0m \u001b[0mdtype\u001b[0m \u001b[0;32mif\u001b[0m \u001b[0mt\u001b[0m\u001b[0;34m.\u001b[0m\u001b[0mis_floating_point\u001b[0m\u001b[0;34m(\u001b[0m\u001b[0;34m)\u001b[0m \u001b[0;32melse\u001b[0m \u001b[0;32mNone\u001b[0m\u001b[0;34m,\u001b[0m \u001b[0mnon_blocking\u001b[0m\u001b[0;34m)\u001b[0m\u001b[0;34m\u001b[0m\u001b[0;34m\u001b[0m\u001b[0m\n\u001b[1;32m    424\u001b[0m \u001b[0;34m\u001b[0m\u001b[0m\n\u001b[0;32m--> 425\u001b[0;31m         \u001b[0;32mreturn\u001b[0m \u001b[0mself\u001b[0m\u001b[0;34m.\u001b[0m\u001b[0m_apply\u001b[0m\u001b[0;34m(\u001b[0m\u001b[0mconvert\u001b[0m\u001b[0;34m)\u001b[0m\u001b[0;34m\u001b[0m\u001b[0;34m\u001b[0m\u001b[0m\n\u001b[0m\u001b[1;32m    426\u001b[0m \u001b[0;34m\u001b[0m\u001b[0m\n\u001b[1;32m    427\u001b[0m     \u001b[0;32mdef\u001b[0m \u001b[0mregister_backward_hook\u001b[0m\u001b[0;34m(\u001b[0m\u001b[0mself\u001b[0m\u001b[0;34m,\u001b[0m \u001b[0mhook\u001b[0m\u001b[0;34m)\u001b[0m\u001b[0;34m:\u001b[0m\u001b[0;34m\u001b[0m\u001b[0;34m\u001b[0m\u001b[0m\n",
      "\u001b[0;32m~/anaconda3/envs/PhD/lib/python3.8/site-packages/torch/nn/modules/module.py\u001b[0m in \u001b[0;36m_apply\u001b[0;34m(self, fn)\u001b[0m\n\u001b[1;32m    199\u001b[0m     \u001b[0;32mdef\u001b[0m \u001b[0m_apply\u001b[0m\u001b[0;34m(\u001b[0m\u001b[0mself\u001b[0m\u001b[0;34m,\u001b[0m \u001b[0mfn\u001b[0m\u001b[0;34m)\u001b[0m\u001b[0;34m:\u001b[0m\u001b[0;34m\u001b[0m\u001b[0;34m\u001b[0m\u001b[0m\n\u001b[1;32m    200\u001b[0m         \u001b[0;32mfor\u001b[0m \u001b[0mmodule\u001b[0m \u001b[0;32min\u001b[0m \u001b[0mself\u001b[0m\u001b[0;34m.\u001b[0m\u001b[0mchildren\u001b[0m\u001b[0;34m(\u001b[0m\u001b[0;34m)\u001b[0m\u001b[0;34m:\u001b[0m\u001b[0;34m\u001b[0m\u001b[0;34m\u001b[0m\u001b[0m\n\u001b[0;32m--> 201\u001b[0;31m             \u001b[0mmodule\u001b[0m\u001b[0;34m.\u001b[0m\u001b[0m_apply\u001b[0m\u001b[0;34m(\u001b[0m\u001b[0mfn\u001b[0m\u001b[0;34m)\u001b[0m\u001b[0;34m\u001b[0m\u001b[0;34m\u001b[0m\u001b[0m\n\u001b[0m\u001b[1;32m    202\u001b[0m \u001b[0;34m\u001b[0m\u001b[0m\n\u001b[1;32m    203\u001b[0m         \u001b[0;32mdef\u001b[0m \u001b[0mcompute_should_use_set_data\u001b[0m\u001b[0;34m(\u001b[0m\u001b[0mtensor\u001b[0m\u001b[0;34m,\u001b[0m \u001b[0mtensor_applied\u001b[0m\u001b[0;34m)\u001b[0m\u001b[0;34m:\u001b[0m\u001b[0;34m\u001b[0m\u001b[0;34m\u001b[0m\u001b[0m\n",
      "\u001b[0;32m~/anaconda3/envs/PhD/lib/python3.8/site-packages/torch/nn/modules/module.py\u001b[0m in \u001b[0;36m_apply\u001b[0;34m(self, fn)\u001b[0m\n\u001b[1;32m    221\u001b[0m                 \u001b[0;31m# `with torch.no_grad():`\u001b[0m\u001b[0;34m\u001b[0m\u001b[0;34m\u001b[0m\u001b[0;34m\u001b[0m\u001b[0m\n\u001b[1;32m    222\u001b[0m                 \u001b[0;32mwith\u001b[0m \u001b[0mtorch\u001b[0m\u001b[0;34m.\u001b[0m\u001b[0mno_grad\u001b[0m\u001b[0;34m(\u001b[0m\u001b[0;34m)\u001b[0m\u001b[0;34m:\u001b[0m\u001b[0;34m\u001b[0m\u001b[0;34m\u001b[0m\u001b[0m\n\u001b[0;32m--> 223\u001b[0;31m                     \u001b[0mparam_applied\u001b[0m \u001b[0;34m=\u001b[0m \u001b[0mfn\u001b[0m\u001b[0;34m(\u001b[0m\u001b[0mparam\u001b[0m\u001b[0;34m)\u001b[0m\u001b[0;34m\u001b[0m\u001b[0;34m\u001b[0m\u001b[0m\n\u001b[0m\u001b[1;32m    224\u001b[0m                 \u001b[0mshould_use_set_data\u001b[0m \u001b[0;34m=\u001b[0m \u001b[0mcompute_should_use_set_data\u001b[0m\u001b[0;34m(\u001b[0m\u001b[0mparam\u001b[0m\u001b[0;34m,\u001b[0m \u001b[0mparam_applied\u001b[0m\u001b[0;34m)\u001b[0m\u001b[0;34m\u001b[0m\u001b[0;34m\u001b[0m\u001b[0m\n\u001b[1;32m    225\u001b[0m                 \u001b[0;32mif\u001b[0m \u001b[0mshould_use_set_data\u001b[0m\u001b[0;34m:\u001b[0m\u001b[0;34m\u001b[0m\u001b[0;34m\u001b[0m\u001b[0m\n",
      "\u001b[0;32m~/anaconda3/envs/PhD/lib/python3.8/site-packages/torch/nn/modules/module.py\u001b[0m in \u001b[0;36mconvert\u001b[0;34m(t)\u001b[0m\n\u001b[1;32m    421\u001b[0m \u001b[0;34m\u001b[0m\u001b[0m\n\u001b[1;32m    422\u001b[0m         \u001b[0;32mdef\u001b[0m \u001b[0mconvert\u001b[0m\u001b[0;34m(\u001b[0m\u001b[0mt\u001b[0m\u001b[0;34m)\u001b[0m\u001b[0;34m:\u001b[0m\u001b[0;34m\u001b[0m\u001b[0;34m\u001b[0m\u001b[0m\n\u001b[0;32m--> 423\u001b[0;31m             \u001b[0;32mreturn\u001b[0m \u001b[0mt\u001b[0m\u001b[0;34m.\u001b[0m\u001b[0mto\u001b[0m\u001b[0;34m(\u001b[0m\u001b[0mdevice\u001b[0m\u001b[0;34m,\u001b[0m \u001b[0mdtype\u001b[0m \u001b[0;32mif\u001b[0m \u001b[0mt\u001b[0m\u001b[0;34m.\u001b[0m\u001b[0mis_floating_point\u001b[0m\u001b[0;34m(\u001b[0m\u001b[0;34m)\u001b[0m \u001b[0;32melse\u001b[0m \u001b[0;32mNone\u001b[0m\u001b[0;34m,\u001b[0m \u001b[0mnon_blocking\u001b[0m\u001b[0;34m)\u001b[0m\u001b[0;34m\u001b[0m\u001b[0;34m\u001b[0m\u001b[0m\n\u001b[0m\u001b[1;32m    424\u001b[0m \u001b[0;34m\u001b[0m\u001b[0m\n\u001b[1;32m    425\u001b[0m         \u001b[0;32mreturn\u001b[0m \u001b[0mself\u001b[0m\u001b[0;34m.\u001b[0m\u001b[0m_apply\u001b[0m\u001b[0;34m(\u001b[0m\u001b[0mconvert\u001b[0m\u001b[0;34m)\u001b[0m\u001b[0;34m\u001b[0m\u001b[0;34m\u001b[0m\u001b[0m\n",
      "\u001b[0;31mRuntimeError\u001b[0m: CUDA error: unspecified launch failure"
     ]
    }
   ],
   "source": [
    "from types import SimpleNamespace\n",
    "from pprint import pprint\n",
    "\n",
    "import anomapy.train.sssn as sssn\n",
    "import pyworld.toolkit.tools.wbutils as wbu\n",
    "\n",
    "run = 0 #-1\n",
    "\n",
    "dryruns = sorted([r for r in wbu.dryruns() if env in r])\n",
    "models, config = wbu.load(dryruns[run]) #load the most recently trained model\n",
    "model = models['model.pt'].load(sssn.model(**config))\n",
    "config = SimpleNamespace(**config)\n",
    "plot_path = \"wandb/{0}/media/normal_hist.png\".format(dryruns[run])"
   ]
  },
  {
   "cell_type": "markdown",
   "metadata": {},
   "source": [
    "# Load Data"
   ]
  },
  {
   "cell_type": "code",
   "execution_count": null,
   "metadata": {},
   "outputs": [],
   "source": [
    "import datasets\n",
    "\n",
    "num_episodes = 1\n",
    "dataset = datasets.dataset('aad.clean.{0}'.format(env))\n",
    "dataset.state.transform.to_float().CHW().torch()\n",
    "episodes = [d for d in dataset.state.load(num_episodes)]\n"
   ]
  },
  {
   "cell_type": "markdown",
   "metadata": {},
   "source": [
    "# Histograms"
   ]
  },
  {
   "cell_type": "code",
   "execution_count": null,
   "metadata": {
    "scrolled": false
   },
   "outputs": [],
   "source": [
    "import pyworld.toolkit.tools.torchutils as tu\n",
    "import pyworld.toolkit.tools.visutils.jupyter as J\n",
    "import pyworld.toolkit.tools.visutils.plot as vplot\n",
    "import anomapy.train.sssn as sssn\n",
    "import numpy as np\n",
    "\n",
    "episode = episodes[0]\n",
    "\n",
    "def distance(z1, z2):\n",
    "    return ((z1 - z2) ** 2).sum(1)\n",
    "\n",
    "\n",
    "z = tu.to_numpy(sssn.encode(model, episode))\n",
    "ds = [1, 2, 5, 10, 50, 100]\n",
    "\n",
    "print(z.shape)\n",
    "distances = [distance(z[:-i], z[i:]) for i in ds]\n",
    "\n",
    "fig = J.histogram(distances, bins=40, log_scale=False, legend=[str(i) for i in ds])"
   ]
  },
  {
   "cell_type": "code",
   "execution_count": 9,
   "metadata": {},
   "outputs": [
    {
     "ename": "RuntimeError",
     "evalue": "CUDA error: unspecified launch failure",
     "output_type": "error",
     "traceback": [
      "\u001b[0;31m---------------------------------------------------------------------------\u001b[0m",
      "\u001b[0;31mRuntimeError\u001b[0m                              Traceback (most recent call last)",
      "\u001b[0;32m<ipython-input-9-350d5e104866>\u001b[0m in \u001b[0;36m<module>\u001b[0;34m\u001b[0m\n\u001b[1;32m     36\u001b[0m \u001b[0;34m\u001b[0m\u001b[0m\n\u001b[1;32m     37\u001b[0m \u001b[0;34m\u001b[0m\u001b[0m\n\u001b[0;32m---> 38\u001b[0;31m \u001b[0mplot_distance\u001b[0m\u001b[0;34m(\u001b[0m\u001b[0mmodel\u001b[0m\u001b[0;34m,\u001b[0m \u001b[0mepisodes\u001b[0m\u001b[0;34m[\u001b[0m\u001b[0;36m0\u001b[0m\u001b[0;34m]\u001b[0m\u001b[0;34m)\u001b[0m\u001b[0;34m\u001b[0m\u001b[0;34m\u001b[0m\u001b[0m\n\u001b[0m\u001b[1;32m     39\u001b[0m \u001b[0;34m\u001b[0m\u001b[0m\n",
      "\u001b[0;32m<ipython-input-9-350d5e104866>\u001b[0m in \u001b[0;36mplot_distance\u001b[0;34m(model, episode)\u001b[0m\n\u001b[1;32m      8\u001b[0m \u001b[0;34m\u001b[0m\u001b[0m\n\u001b[1;32m      9\u001b[0m \u001b[0;32mdef\u001b[0m \u001b[0mplot_distance\u001b[0m\u001b[0;34m(\u001b[0m\u001b[0mmodel\u001b[0m\u001b[0;34m,\u001b[0m \u001b[0mepisode\u001b[0m\u001b[0;34m)\u001b[0m\u001b[0;34m:\u001b[0m\u001b[0;34m\u001b[0m\u001b[0;34m\u001b[0m\u001b[0m\n\u001b[0;32m---> 10\u001b[0;31m     \u001b[0mz\u001b[0m\u001b[0;34m,\u001b[0m \u001b[0md\u001b[0m \u001b[0;34m=\u001b[0m \u001b[0msssn\u001b[0m\u001b[0;34m.\u001b[0m\u001b[0mdistance\u001b[0m\u001b[0;34m(\u001b[0m\u001b[0mmodel\u001b[0m\u001b[0;34m,\u001b[0m \u001b[0mepisode\u001b[0m\u001b[0;34m)\u001b[0m\u001b[0;34m\u001b[0m\u001b[0;34m\u001b[0m\u001b[0m\n\u001b[0m\u001b[1;32m     11\u001b[0m \u001b[0;34m\u001b[0m\u001b[0m\n\u001b[1;32m     12\u001b[0m \u001b[0;34m\u001b[0m\u001b[0m\n",
      "\u001b[0;32m~/Documents/repos/anomapy/anomapy/train/sssn.py\u001b[0m in \u001b[0;36mdistance\u001b[0;34m(model, episode, batch_size)\u001b[0m\n\u001b[1;32m     60\u001b[0m \u001b[0;32mdef\u001b[0m \u001b[0mdistance\u001b[0m\u001b[0;34m(\u001b[0m\u001b[0mmodel\u001b[0m\u001b[0;34m,\u001b[0m \u001b[0mepisode\u001b[0m\u001b[0;34m,\u001b[0m \u001b[0mbatch_size\u001b[0m\u001b[0;34m=\u001b[0m\u001b[0;36m256\u001b[0m\u001b[0;34m)\u001b[0m\u001b[0;34m:\u001b[0m\u001b[0;34m\u001b[0m\u001b[0;34m\u001b[0m\u001b[0m\n\u001b[1;32m     61\u001b[0m     \u001b[0mmodel\u001b[0m\u001b[0;34m.\u001b[0m\u001b[0meval\u001b[0m\u001b[0;34m(\u001b[0m\u001b[0;34m)\u001b[0m\u001b[0;34m\u001b[0m\u001b[0;34m\u001b[0m\u001b[0m\n\u001b[0;32m---> 62\u001b[0;31m     \u001b[0mz\u001b[0m \u001b[0;34m=\u001b[0m \u001b[0mtu\u001b[0m\u001b[0;34m.\u001b[0m\u001b[0mcollect\u001b[0m\u001b[0;34m(\u001b[0m\u001b[0mmodel\u001b[0m\u001b[0;34m,\u001b[0m \u001b[0mepisode\u001b[0m\u001b[0;34m,\u001b[0m \u001b[0mbatch_size\u001b[0m\u001b[0;34m=\u001b[0m\u001b[0mbatch_size\u001b[0m\u001b[0;34m)\u001b[0m \u001b[0;31m#how much memory has the gpu got?!\u001b[0m\u001b[0;34m\u001b[0m\u001b[0;34m\u001b[0m\u001b[0m\n\u001b[0m\u001b[1;32m     63\u001b[0m     \u001b[0mmodel\u001b[0m\u001b[0;34m.\u001b[0m\u001b[0mtrain\u001b[0m\u001b[0;34m(\u001b[0m\u001b[0;34m)\u001b[0m\u001b[0;34m\u001b[0m\u001b[0;34m\u001b[0m\u001b[0m\n\u001b[1;32m     64\u001b[0m     \u001b[0;31m#L22 distance by default? TODO give some other options for this\u001b[0m\u001b[0;34m\u001b[0m\u001b[0;34m\u001b[0m\u001b[0;34m\u001b[0m\u001b[0m\n",
      "\u001b[0;32m~/Documents/repos/pyworld-rl/pyworld/toolkit/tools/torchutils.py\u001b[0m in \u001b[0;36mcollect\u001b[0;34m(model, batch_size, *data)\u001b[0m\n\u001b[1;32m     30\u001b[0m     \u001b[0;32mwith\u001b[0m \u001b[0mtorch\u001b[0m\u001b[0;34m.\u001b[0m\u001b[0mno_grad\u001b[0m\u001b[0;34m(\u001b[0m\u001b[0;34m)\u001b[0m\u001b[0;34m:\u001b[0m\u001b[0;34m\u001b[0m\u001b[0;34m\u001b[0m\u001b[0m\n\u001b[1;32m     31\u001b[0m         \u001b[0miterator\u001b[0m \u001b[0;34m=\u001b[0m \u001b[0mdu\u001b[0m\u001b[0;34m.\u001b[0m\u001b[0mbatch_iterator\u001b[0m\u001b[0;34m(\u001b[0m\u001b[0;34m*\u001b[0m\u001b[0mdata\u001b[0m\u001b[0;34m,\u001b[0m \u001b[0mbatch_size\u001b[0m\u001b[0;34m=\u001b[0m\u001b[0mbatch_size\u001b[0m\u001b[0;34m)\u001b[0m\u001b[0;34m\u001b[0m\u001b[0;34m\u001b[0m\u001b[0m\n\u001b[0;32m---> 32\u001b[0;31m         \u001b[0mresult\u001b[0m \u001b[0;34m=\u001b[0m \u001b[0mtorch\u001b[0m\u001b[0;34m.\u001b[0m\u001b[0mcat\u001b[0m\u001b[0;34m(\u001b[0m\u001b[0;34m[\u001b[0m\u001b[0mmodel\u001b[0m\u001b[0;34m(\u001b[0m\u001b[0mx\u001b[0m\u001b[0;34m)\u001b[0m\u001b[0;34m.\u001b[0m\u001b[0mcpu\u001b[0m\u001b[0;34m(\u001b[0m\u001b[0;34m)\u001b[0m \u001b[0;32mfor\u001b[0m \u001b[0mx\u001b[0m \u001b[0;32min\u001b[0m \u001b[0miterator\u001b[0m\u001b[0;34m]\u001b[0m\u001b[0;34m,\u001b[0m \u001b[0maxis\u001b[0m\u001b[0;34m=\u001b[0m\u001b[0;36m0\u001b[0m\u001b[0;34m)\u001b[0m\u001b[0;34m\u001b[0m\u001b[0;34m\u001b[0m\u001b[0m\n\u001b[0m\u001b[1;32m     33\u001b[0m     \u001b[0;32mreturn\u001b[0m \u001b[0mresult\u001b[0m\u001b[0;34m\u001b[0m\u001b[0;34m\u001b[0m\u001b[0m\n\u001b[1;32m     34\u001b[0m \u001b[0;34m\u001b[0m\u001b[0m\n",
      "\u001b[0;32m~/Documents/repos/pyworld-rl/pyworld/toolkit/tools/torchutils.py\u001b[0m in \u001b[0;36m<listcomp>\u001b[0;34m(.0)\u001b[0m\n\u001b[1;32m     30\u001b[0m     \u001b[0;32mwith\u001b[0m \u001b[0mtorch\u001b[0m\u001b[0;34m.\u001b[0m\u001b[0mno_grad\u001b[0m\u001b[0;34m(\u001b[0m\u001b[0;34m)\u001b[0m\u001b[0;34m:\u001b[0m\u001b[0;34m\u001b[0m\u001b[0;34m\u001b[0m\u001b[0m\n\u001b[1;32m     31\u001b[0m         \u001b[0miterator\u001b[0m \u001b[0;34m=\u001b[0m \u001b[0mdu\u001b[0m\u001b[0;34m.\u001b[0m\u001b[0mbatch_iterator\u001b[0m\u001b[0;34m(\u001b[0m\u001b[0;34m*\u001b[0m\u001b[0mdata\u001b[0m\u001b[0;34m,\u001b[0m \u001b[0mbatch_size\u001b[0m\u001b[0;34m=\u001b[0m\u001b[0mbatch_size\u001b[0m\u001b[0;34m)\u001b[0m\u001b[0;34m\u001b[0m\u001b[0;34m\u001b[0m\u001b[0m\n\u001b[0;32m---> 32\u001b[0;31m         \u001b[0mresult\u001b[0m \u001b[0;34m=\u001b[0m \u001b[0mtorch\u001b[0m\u001b[0;34m.\u001b[0m\u001b[0mcat\u001b[0m\u001b[0;34m(\u001b[0m\u001b[0;34m[\u001b[0m\u001b[0mmodel\u001b[0m\u001b[0;34m(\u001b[0m\u001b[0mx\u001b[0m\u001b[0;34m)\u001b[0m\u001b[0;34m.\u001b[0m\u001b[0mcpu\u001b[0m\u001b[0;34m(\u001b[0m\u001b[0;34m)\u001b[0m \u001b[0;32mfor\u001b[0m \u001b[0mx\u001b[0m \u001b[0;32min\u001b[0m \u001b[0miterator\u001b[0m\u001b[0;34m]\u001b[0m\u001b[0;34m,\u001b[0m \u001b[0maxis\u001b[0m\u001b[0;34m=\u001b[0m\u001b[0;36m0\u001b[0m\u001b[0;34m)\u001b[0m\u001b[0;34m\u001b[0m\u001b[0;34m\u001b[0m\u001b[0m\n\u001b[0m\u001b[1;32m     33\u001b[0m     \u001b[0;32mreturn\u001b[0m \u001b[0mresult\u001b[0m\u001b[0;34m\u001b[0m\u001b[0;34m\u001b[0m\u001b[0m\n\u001b[1;32m     34\u001b[0m \u001b[0;34m\u001b[0m\u001b[0m\n",
      "\u001b[0;32m~/anaconda3/envs/PhD/lib/python3.8/site-packages/torch/nn/modules/module.py\u001b[0m in \u001b[0;36m__call__\u001b[0;34m(self, *input, **kwargs)\u001b[0m\n\u001b[1;32m    530\u001b[0m             \u001b[0mresult\u001b[0m \u001b[0;34m=\u001b[0m \u001b[0mself\u001b[0m\u001b[0;34m.\u001b[0m\u001b[0m_slow_forward\u001b[0m\u001b[0;34m(\u001b[0m\u001b[0;34m*\u001b[0m\u001b[0minput\u001b[0m\u001b[0;34m,\u001b[0m \u001b[0;34m**\u001b[0m\u001b[0mkwargs\u001b[0m\u001b[0;34m)\u001b[0m\u001b[0;34m\u001b[0m\u001b[0;34m\u001b[0m\u001b[0m\n\u001b[1;32m    531\u001b[0m         \u001b[0;32melse\u001b[0m\u001b[0;34m:\u001b[0m\u001b[0;34m\u001b[0m\u001b[0;34m\u001b[0m\u001b[0m\n\u001b[0;32m--> 532\u001b[0;31m             \u001b[0mresult\u001b[0m \u001b[0;34m=\u001b[0m \u001b[0mself\u001b[0m\u001b[0;34m.\u001b[0m\u001b[0mforward\u001b[0m\u001b[0;34m(\u001b[0m\u001b[0;34m*\u001b[0m\u001b[0minput\u001b[0m\u001b[0;34m,\u001b[0m \u001b[0;34m**\u001b[0m\u001b[0mkwargs\u001b[0m\u001b[0;34m)\u001b[0m\u001b[0;34m\u001b[0m\u001b[0;34m\u001b[0m\u001b[0m\n\u001b[0m\u001b[1;32m    533\u001b[0m         \u001b[0;32mfor\u001b[0m \u001b[0mhook\u001b[0m \u001b[0;32min\u001b[0m \u001b[0mself\u001b[0m\u001b[0;34m.\u001b[0m\u001b[0m_forward_hooks\u001b[0m\u001b[0;34m.\u001b[0m\u001b[0mvalues\u001b[0m\u001b[0;34m(\u001b[0m\u001b[0;34m)\u001b[0m\u001b[0;34m:\u001b[0m\u001b[0;34m\u001b[0m\u001b[0;34m\u001b[0m\u001b[0m\n\u001b[1;32m    534\u001b[0m             \u001b[0mhook_result\u001b[0m \u001b[0;34m=\u001b[0m \u001b[0mhook\u001b[0m\u001b[0;34m(\u001b[0m\u001b[0mself\u001b[0m\u001b[0;34m,\u001b[0m \u001b[0minput\u001b[0m\u001b[0;34m,\u001b[0m \u001b[0mresult\u001b[0m\u001b[0;34m)\u001b[0m\u001b[0;34m\u001b[0m\u001b[0;34m\u001b[0m\u001b[0m\n",
      "\u001b[0;32m~/Documents/repos/pyworld-rl/pyworld/toolkit/nn/CNet.py\u001b[0m in \u001b[0;36mforward\u001b[0;34m(self, x_)\u001b[0m\n\u001b[1;32m     61\u001b[0m \u001b[0;34m\u001b[0m\u001b[0m\n\u001b[1;32m     62\u001b[0m     \u001b[0;32mdef\u001b[0m \u001b[0mforward\u001b[0m\u001b[0;34m(\u001b[0m\u001b[0mself\u001b[0m\u001b[0;34m,\u001b[0m \u001b[0mx_\u001b[0m\u001b[0;34m)\u001b[0m\u001b[0;34m:\u001b[0m\u001b[0;34m\u001b[0m\u001b[0;34m\u001b[0m\u001b[0m\n\u001b[0;32m---> 63\u001b[0;31m         \u001b[0mx_\u001b[0m \u001b[0;34m=\u001b[0m \u001b[0msuper\u001b[0m\u001b[0;34m(\u001b[0m\u001b[0mCNet2\u001b[0m\u001b[0;34m,\u001b[0m \u001b[0mself\u001b[0m\u001b[0;34m)\u001b[0m\u001b[0;34m.\u001b[0m\u001b[0mforward\u001b[0m\u001b[0;34m(\u001b[0m\u001b[0mx_\u001b[0m\u001b[0;34m)\u001b[0m\u001b[0;34m\u001b[0m\u001b[0;34m\u001b[0m\u001b[0m\n\u001b[0m\u001b[1;32m     64\u001b[0m         \u001b[0my_\u001b[0m \u001b[0;34m=\u001b[0m \u001b[0mself\u001b[0m\u001b[0;34m.\u001b[0m\u001b[0moutput_activation\u001b[0m\u001b[0;34m(\u001b[0m\u001b[0mself\u001b[0m\u001b[0;34m.\u001b[0m\u001b[0mout_layer\u001b[0m\u001b[0;34m(\u001b[0m\u001b[0mx_\u001b[0m\u001b[0;34m)\u001b[0m\u001b[0;34m)\u001b[0m\u001b[0;34m\u001b[0m\u001b[0;34m\u001b[0m\u001b[0m\n\u001b[1;32m     65\u001b[0m         \u001b[0;32mreturn\u001b[0m \u001b[0my_\u001b[0m\u001b[0;34m\u001b[0m\u001b[0;34m\u001b[0m\u001b[0m\n",
      "\u001b[0;32m~/Documents/repos/pyworld-rl/pyworld/toolkit/nn/CNet.py\u001b[0m in \u001b[0;36mforward\u001b[0;34m(self, x_)\u001b[0m\n\u001b[1;32m     40\u001b[0m \u001b[0;34m\u001b[0m\u001b[0m\n\u001b[1;32m     41\u001b[0m     \u001b[0;32mdef\u001b[0m \u001b[0mforward\u001b[0m\u001b[0;34m(\u001b[0m\u001b[0mself\u001b[0m\u001b[0;34m,\u001b[0m \u001b[0mx_\u001b[0m\u001b[0;34m)\u001b[0m\u001b[0;34m:\u001b[0m\u001b[0;34m\u001b[0m\u001b[0;34m\u001b[0m\u001b[0m\n\u001b[0;32m---> 42\u001b[0;31m         \u001b[0mx_\u001b[0m \u001b[0;34m=\u001b[0m \u001b[0mx_\u001b[0m\u001b[0;34m.\u001b[0m\u001b[0mto\u001b[0m\u001b[0;34m(\u001b[0m\u001b[0mself\u001b[0m\u001b[0;34m.\u001b[0m\u001b[0mdevice\u001b[0m\u001b[0;34m)\u001b[0m\u001b[0;34m\u001b[0m\u001b[0;34m\u001b[0m\u001b[0m\n\u001b[0m\u001b[1;32m     43\u001b[0m         \u001b[0my_\u001b[0m \u001b[0;34m=\u001b[0m \u001b[0mF\u001b[0m\u001b[0;34m.\u001b[0m\u001b[0mleaky_relu\u001b[0m\u001b[0;34m(\u001b[0m\u001b[0mself\u001b[0m\u001b[0;34m.\u001b[0m\u001b[0mconv1\u001b[0m\u001b[0;34m(\u001b[0m\u001b[0mx_\u001b[0m\u001b[0;34m)\u001b[0m\u001b[0;34m)\u001b[0m\u001b[0;34m\u001b[0m\u001b[0;34m\u001b[0m\u001b[0m\n\u001b[1;32m     44\u001b[0m         \u001b[0my_\u001b[0m \u001b[0;34m=\u001b[0m \u001b[0mF\u001b[0m\u001b[0;34m.\u001b[0m\u001b[0mleaky_relu\u001b[0m\u001b[0;34m(\u001b[0m\u001b[0mself\u001b[0m\u001b[0;34m.\u001b[0m\u001b[0mconv2\u001b[0m\u001b[0;34m(\u001b[0m\u001b[0my_\u001b[0m\u001b[0;34m)\u001b[0m\u001b[0;34m)\u001b[0m\u001b[0;34m\u001b[0m\u001b[0;34m\u001b[0m\u001b[0m\n",
      "\u001b[0;31mRuntimeError\u001b[0m: CUDA error: unspecified launch failure"
     ]
    }
   ],
   "source": [
    "import pyworld.toolkit.tools.visutils.transform as T\n",
    "import pyworld.toolkit.tools.visutils.jupyter as J\n",
    "import pyworld.toolkit.tools.torchutils as tu\n",
    "import numpy as np\n",
    "\n",
    "from ipywidgets import Image, Layout, VBox, HBox\n",
    "import ipywidgets as widgets\n",
    "\n",
    "def plot_distance(model, episode):\n",
    "    z, d = sssn.distance(model, episode)\n",
    "    \n",
    "    \n",
    "    d = tu.to_numpy(d)\n",
    "    images = T.HWC(tu.to_numpy(episode))\n",
    "\n",
    "    plot = J.SimplePlot(np.arange(len(d)), d)\n",
    "    image1 = J.SimpleImage(images[0])\n",
    "    image2 = J.SimpleImage(images[1])\n",
    "\n",
    "    def on_hover(trace, points, state):\n",
    "        i = points.point_inds[0]\n",
    "        image1.set_image(images[i])\n",
    "        image2.set_image(images[i+1])\n",
    "\n",
    "    plot.on_hover(on_hover)\n",
    "\n",
    "    plot.fig.update_layout(autosize=False, width=900, margin=dict(l=20, r=20, t=20, b=20))\n",
    "    \n",
    "    d_images = J.layout_horizontal(image1.fig, image2.fig)\n",
    "\n",
    "    box_layout = widgets.Layout(overflow='scroll hidden', display='flex', flex_flow='row', width=\"900px\", align_items='center')\n",
    "    display(HBox([plot.fig], layout=box_layout))\n",
    "    \n",
    "    display(d_images)\n",
    " \n",
    "    \n",
    "\n",
    "plot_distance(model, episodes[0])\n",
    "    "
   ]
  },
  {
   "cell_type": "markdown",
   "metadata": {},
   "source": [
    "# Fast Fourier Transform Example"
   ]
  },
  {
   "cell_type": "code",
   "execution_count": null,
   "metadata": {},
   "outputs": [],
   "source": [
    "#Import the necessary packages\n",
    "from scipy import fftpack\n",
    "import matplotlib.pyplot as plt\n",
    "import numpy as np\n",
    "\n",
    "def spectrum(x, y):\n",
    "    yf = fftpack.fft(y, x.size)\n",
    "    amp = np.abs(yf) # get amplitude spectrum \n",
    "    freq = fftpack.fftfreq(x.size, max(x)/x.size)\n",
    "    return freq[0:freq.size//2], (2/amp.size)*amp[0:amp.size//2]\n",
    "    \n",
    "    \n",
    "# sampling freq in herts 20Hz, and 40Hz\n",
    "freq_sampling1 = 10\n",
    "freq_sampling2 = 20\n",
    "amplitude1 = 2 # amplitude of first sine wave\n",
    "amplitude2 = 4 # amplitude of second sine wave\n",
    "time = np.linspace(0, 6, 500, endpoint=True) # time range with total samples of 500 from 0 to 6 with time interval equals 6/500\n",
    "y = amplitude1*np.sin(2*np.pi*freq_sampling1*time) + amplitude2*np.sin(2*np.pi*freq_sampling2*time)\n",
    "y += np.log(np.linspace(0.1,10,y.size))\n",
    "\n",
    "y = y[1:] - y[:-1]\n",
    "time = time[1:]\n",
    "\n",
    "\n",
    "plt.figure(figsize=(10, 4))\n",
    "plt.plot(time,y, 'k', lw=0.8)\n",
    "plt.xlim(0,6)\n",
    "plt.show()\n",
    "\n",
    "freq, amp = spectrum(time, y)\n",
    "\n",
    "\n",
    "plt.figure(figsize=(10,6))\n",
    "plt.plot(freq, amp)\n",
    "plt.show()\n",
    "\n",
    "#https://stackoverflow.com/questions/52730753/how-to-get-frequency-axis-from-an-fft-function\n"
   ]
  },
  {
   "cell_type": "markdown",
   "metadata": {},
   "source": [
    "# Skip Distance Sinusoid Example"
   ]
  },
  {
   "cell_type": "code",
   "execution_count": null,
   "metadata": {},
   "outputs": [],
   "source": [
    "import numpy as np\n",
    "\n",
    "x = np.linspace(0,10*np.pi,10000)\n",
    "\n",
    "y1 = np.sin(x**1.15)\n",
    "y2 = np.sin(x)\n",
    "y = y1 + y2\n",
    "\n",
    "\n",
    "def plot_skip_distance(z):\n",
    "    max_skip = int(z.shape[0]*.8)\n",
    "    def stat(i):\n",
    "        d = distance(z[:-i], z[i:])\n",
    "        return np.mean(d), np.min(d), np.max(d), np.var(d), i\n",
    "    mu, _min, _max, sig, x = zip(*[stat(i) for i in range(1,max_skip)])\n",
    "    mu, _min, _max, sig, x = np.array(mu), np.array(_min), np.array(_max), np.array(sig), np.array(x)\n",
    "    J.plot([x,x,x], [mu,_min,_max], legend=['mean','min','max'])\n",
    "    \n",
    "#J.plot([x,x,x],[y1,y2,y])\n",
    "#J.plot(x,y)\n",
    "#plot_skip_distance(y[:,np.newaxis])\n",
    "\n",
    "\n",
    "\n",
    "\n"
   ]
  },
  {
   "cell_type": "code",
   "execution_count": null,
   "metadata": {},
   "outputs": [],
   "source": [
    "import numpy as np\n",
    "\n",
    "def rolling(a, window):\n",
    "    shape = (a.size - window + 1, window)\n",
    "    strides = (a.itemsize, a.itemsize)\n",
    "    return np.lib.stride_tricks.as_strided(a, shape=shape, strides=strides)\n",
    "\n",
    "def path_distance(z, i):\n",
    "    shape = (z.size - i + 1, i)\n",
    "    strides = (z.itemsize, z.itemsize)\n",
    "    return np.lib.stride_tricks.as_strided(z, shape=shape, strides=strides).sum(1)\n",
    "\n",
    "a = np.arange(10)\n",
    "print(len(path_distance(a, 1)))\n",
    "print(len(path_distance(a, 2)))"
   ]
  },
  {
   "cell_type": "code",
   "execution_count": null,
   "metadata": {},
   "outputs": [],
   "source": []
  }
 ],
 "metadata": {
  "kernelspec": {
   "display_name": "PhD",
   "language": "python",
   "name": "phd"
  },
  "language_info": {
   "codemirror_mode": {
    "name": "ipython",
    "version": 3
   },
   "file_extension": ".py",
   "mimetype": "text/x-python",
   "name": "python",
   "nbconvert_exporter": "python",
   "pygments_lexer": "ipython3",
   "version": "3.8.2"
  }
 },
 "nbformat": 4,
 "nbformat_minor": 4
}
