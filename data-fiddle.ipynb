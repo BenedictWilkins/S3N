{
 "cells": [
  {
   "cell_type": "code",
   "execution_count": null,
   "metadata": {
    "scrolled": true
   },
   "outputs": [],
   "source": [
    "import datasets\n",
    "from pprint import pprint\n",
    "\n",
    "path = \"/home/ben/Documents/repos/datasets/atari\"\n",
    "datasets.build(path, whitelist=['*.hdf5'])\n"
   ]
  },
  {
   "cell_type": "code",
   "execution_count": null,
   "metadata": {
    "scrolled": true
   },
   "outputs": [],
   "source": [
    "import datasets\n",
    "import pyworld.toolkit.tools.visutils.jupyter as J\n",
    "\n",
    "\n",
    "dataset = datasets.dataset('mnist.train')\n",
    "print(dataset.name, dataset.path)\n",
    "\n",
    "print(dir(dataset.transform))\n",
    "\n",
    "dataset.image.transform.CropTransform((10,20), (10,20))\n",
    "\n",
    "print(dataset.meta)\n",
    "\n",
    "#x = [x for x in dataset.load()]\n",
    "\n",
    "\n",
    "#dataset = datasets.dataset('mnist.train')\n",
    "#print(dataset.name, dataset.path)\n",
    "#x = [i for i in dataset.image.load()][0]\n",
    "#J.images(x)\n"
   ]
  },
  {
   "cell_type": "code",
   "execution_count": null,
   "metadata": {
    "scrolled": true
   },
   "outputs": [],
   "source": [
    "import datasets\n",
    "import pyworld.toolkit.tools.visutils.jupyter as J\n",
    "\n",
    "\n",
    "#print(datasets.datasets())\n",
    "dataset = datasets.dataset('aad.raw.Breakout')\n",
    "\n",
    "x = [x for x in dataset.load(count=1)]\n",
    "print(x)\n",
    "\n",
    "\n",
    "\n",
    "\n",
    "\n"
   ]
  },
  {
   "cell_type": "code",
   "execution_count": null,
   "metadata": {},
   "outputs": [],
   "source": [
    "class Test:\n",
    "    \n",
    "    def __init__(self, **kwargs):\n",
    "        self.__dict__.update(**kwargs)\n",
    "        \n",
    "        \n",
    "class T1(Test):\n",
    "    \n",
    "    def __init__(self):\n",
    "        super(T1, self).__init__(**dict(a=1, b=2))\n",
    "        \n",
    "t = T1()\n",
    "print(dir(t))\n",
    "\n",
    "a = Test(a=1)\n",
    "b = Test(b=1)\n",
    "\n",
    "print(dir(a))\n",
    "print(dir(b))"
   ]
  },
  {
   "cell_type": "code",
   "execution_count": null,
   "metadata": {},
   "outputs": [],
   "source": []
  },
  {
   "cell_type": "code",
   "execution_count": null,
   "metadata": {},
   "outputs": [],
   "source": [
    "import datasets\n",
    "\n",
    "#mnist = datasets.dataset('mnist')\n",
    "\n",
    "mnist_train = datasets.dataset('mnist.train')\n",
    "mnist_test = datasets.dataset('mnist.test')\n",
    "\n",
    "def write_meta(dataset):\n",
    "    image = [x for x in dataset.image.load()][0]\n",
    "    image_meta = dict(shape=image.shape, dtype='uint8', format=('NHW', 'G'))\n",
    "    \n",
    "    label = [x for x in dataset.label.load()][0]\n",
    "    label_meta = dict(shape=label.shape, dtype='uint8')\n",
    "    \n",
    "    datasets.data.write_meta(dataset, dict(image=image_meta, label=label_meta), overwrite=True)\n",
    "    \n",
    "write_meta(mnist_train)\n",
    "write_meta(mnist_test)\n",
    "    \n",
    "\n",
    "    \n"
   ]
  },
  {
   "cell_type": "markdown",
   "metadata": {},
   "source": [
    "### Write the meta.json files for the Atari Anomaly Dataset"
   ]
  },
  {
   "cell_type": "code",
   "execution_count": null,
   "metadata": {},
   "outputs": [],
   "source": [
    "import os\n",
    "import datasets\n",
    "from pprint import pprint\n",
    "\n",
    "action_shape = {\"BeamRider\":[9], \"Breakout\":[4],\"Enduro\":[9], \n",
    "                \"Pong\":[6], \"Qbert\":[6], \"Seaquest\":[18], \n",
    "                \"SpaceInvaders\":[6]}\n",
    "\n",
    "raw = datasets.dataset('aad.anomaly')\n",
    "\n",
    "for child in raw.children:\n",
    "    print(child.name)\n",
    "    \n",
    "    name = child.name.split(\".\")[-1]\n",
    "    state  = [x for x in child.state.load(1)][0]\n",
    "    action = [x for x in child.action.load(1)][0]\n",
    "    #reward = [x for x in child.reward.load(1)][0]\n",
    "    label = [x for x in child.label.load(1)][0]\n",
    "    \n",
    "    state_meta = dict(shape=state.shape[1:], dtype=str(state.dtype), format=(\"HWC\", \"RGB\"))\n",
    "    action_meta = dict(shape=tuple(action_shape[name]), dtype=str(action.dtype))\n",
    "    #reward_meta = dict(shape=(1,), dtype=str(reward.dtype))\n",
    "    label_meta = dict(shape=(1,), dtype=str(label.dtype))\n",
    "    \n",
    "    meta = dict(name=name, state=state_meta, action=action_meta, label=label_meta)\n",
    "    \n",
    "    pprint(meta)\n",
    "    \n",
    "    datasets.data.write_meta(child, meta, overwrite=False)\n",
    "    \n",
    "    \n",
    "\n",
    "#datasets.data.write_meta(raw, meta) "
   ]
  },
  {
   "cell_type": "code",
   "execution_count": null,
   "metadata": {},
   "outputs": [],
   "source": [
    "''' #update anomaly config to include .hdf5 after episode(i), single use!\n",
    "dataset = datasets.dataset('aad.anomaly')\n",
    "\n",
    "for child in dataset.children:\n",
    "    anom_meta = {}\n",
    "    for a, eps in child.meta.anomaly.items():\n",
    "        anom_meta[a] = [e + \".hdf5\" for e in eps]\n",
    "    meta = dict(anomaly=anom_meta)\n",
    "    datasets.data.write_meta(child, meta, overwrite=False)\n",
    "'''  \n",
    "    "
   ]
  },
  {
   "cell_type": "markdown",
   "metadata": {},
   "source": [
    "### Test Atari Anomaly Dataset\n",
    "* load\n",
    "* meta\n",
    "* transformations"
   ]
  },
  {
   "cell_type": "code",
   "execution_count": 1,
   "metadata": {
    "scrolled": true
   },
   "outputs": [
    {
     "name": "stdout",
     "output_type": "stream",
     "text": [
      "{'action': {'dtype': 'uint8', 'shape': [4]},\n",
      " 'name': 'Breakout',\n",
      " 'reward': {'dtype': 'float64', 'shape': [1]},\n",
      " 'state': {'dtype': 'uint8', 'format': ['HWC', 'RGB'], 'shape': [210, 160, 3]}}\n",
      "{'dtype': 'uint8', 'format': ['HWC', 'RGB'], 'shape': (50, 50, 3)}\n",
      "{'action': {'dtype': 'uint8', 'shape': [4]},\n",
      " 'name': 'Breakout',\n",
      " 'reward': {'dtype': 'float64', 'shape': [1]},\n",
      " 'state': {'dtype': 'uint8', 'format': ['HWC', 'RGB'], 'shape': (50, 50, 3)}}\n",
      "loading dataset aad.raw.Breakout.state...\n"
     ]
    },
    {
     "data": {
      "application/vnd.jupyter.widget-view+json": {
       "model_id": "aada2547d6594c1fb3606f36e71935cd",
       "version_major": 2,
       "version_minor": 0
      },
      "text/plain": [
       "IntProgress(value=0, max=1)"
      ]
     },
     "metadata": {},
     "output_type": "display_data"
    },
    {
     "name": "stdout",
     "output_type": "stream",
     "text": [
      "(50, 50, 3)\n"
     ]
    },
    {
     "data": {
      "application/vnd.jupyter.widget-view+json": {
       "model_id": "50771ab507ec4bd6867f321e9c365935",
       "version_major": 2,
       "version_minor": 0
      },
      "text/plain": [
       "interactive(children=(IntSlider(value=0, description='x', layout=Layout(width='100%'), max=2866), Output()), _…"
      ]
     },
     "metadata": {},
     "output_type": "display_data"
    },
    {
     "data": {
      "application/vnd.jupyter.widget-view+json": {
       "model_id": "4532069f1e9b4a5bbca9e8207e0647b7",
       "version_major": 2,
       "version_minor": 0
      },
      "text/plain": [
       "Canvas(height=50, width=50)"
      ]
     },
     "metadata": {},
     "output_type": "display_data"
    },
    {
     "data": {
      "text/plain": [
       "<pyworld.toolkit.tools.visutils.jupyter.SimpleImage at 0x7f2bc5bc6ac0>"
      ]
     },
     "execution_count": 1,
     "metadata": {},
     "output_type": "execute_result"
    }
   ],
   "source": [
    "from pprint import pprint\n",
    "import datasets\n",
    "import pyworld.toolkit.tools.visutils.jupyter as J\n",
    "\n",
    "dataset = datasets.dataset('aad.raw.Breakout')\n",
    "pprint(dataset.meta.__dict__)\n",
    "\n",
    "dataset.state.transform.crop((50,100), (50,100))\n",
    "\n",
    "pprint(dataset.state.meta)\n",
    "pprint(dataset.meta.__dict__)\n",
    "\n",
    "state = [x for x in dataset.state.load(1)][0]\n",
    "\n",
    "J.images(state)\n",
    "\n",
    "\n",
    "\n",
    "\n",
    "\n"
   ]
  },
  {
   "cell_type": "code",
   "execution_count": 2,
   "metadata": {
    "scrolled": true
   },
   "outputs": [
    {
     "name": "stdout",
     "output_type": "stream",
     "text": [
      "fill ['episode.hdf5', 'episode(1).hdf5', 'episode(2).hdf5', 'episode(3).hdf5']\n",
      "block ['episode(4).hdf5', 'episode(5).hdf5', 'episode(6).hdf5', 'episode(7).hdf5']\n",
      "freeze ['episode(8).hdf5', 'episode(9).hdf5', 'episode(10).hdf5', 'episode(11).hdf5']\n",
      "freeze_skip ['episode(12).hdf5', 'episode(13).hdf5', 'episode(14).hdf5', 'episode(15).hdf5']\n",
      "split_horizontal ['episode(16).hdf5', 'episode(17).hdf5', 'episode(18).hdf5', 'episode(19).hdf5']\n",
      "split_vertical ['episode(20).hdf5', 'episode(21).hdf5', 'episode(22).hdf5', 'episode(23).hdf5']\n",
      "action ['episode(24).hdf5', 'episode(25).hdf5', 'episode(26).hdf5', 'episode(27).hdf5']\n",
      "loading dataset aad.anomaly.Breakout.state...\n"
     ]
    },
    {
     "data": {
      "application/vnd.jupyter.widget-view+json": {
       "model_id": "05d2b5c965bb41d3a193f40487e0a80e",
       "version_major": 2,
       "version_minor": 0
      },
      "text/plain": [
       "IntProgress(value=0, max=4)"
      ]
     },
     "metadata": {},
     "output_type": "display_data"
    },
    {
     "name": "stdout",
     "output_type": "stream",
     "text": [
      "(3010, 210, 160, 3)\n",
      "(210, 160, 3)\n"
     ]
    },
    {
     "data": {
      "application/vnd.jupyter.widget-view+json": {
       "model_id": "88da293dffef41bcb4d17ad5e3faf1f3",
       "version_major": 2,
       "version_minor": 0
      },
      "text/plain": [
       "interactive(children=(IntSlider(value=0, description='x', layout=Layout(width='100%'), max=3009), Output()), _…"
      ]
     },
     "metadata": {},
     "output_type": "display_data"
    },
    {
     "data": {
      "application/vnd.jupyter.widget-view+json": {
       "model_id": "8653ef6dd7cb498bb2c38c6d89e9fbd4",
       "version_major": 2,
       "version_minor": 0
      },
      "text/plain": [
       "Canvas(height=210, width=160)"
      ]
     },
     "metadata": {},
     "output_type": "display_data"
    },
    {
     "name": "stdout",
     "output_type": "stream",
     "text": [
      "(2769, 210, 160, 3)\n",
      "(210, 160, 3)\n"
     ]
    },
    {
     "data": {
      "application/vnd.jupyter.widget-view+json": {
       "model_id": "3f7b3cf67e6d40f4b906817eb29cebf6",
       "version_major": 2,
       "version_minor": 0
      },
      "text/plain": [
       "interactive(children=(IntSlider(value=0, description='x', layout=Layout(width='100%'), max=2768), Output()), _…"
      ]
     },
     "metadata": {},
     "output_type": "display_data"
    },
    {
     "data": {
      "application/vnd.jupyter.widget-view+json": {
       "model_id": "9bdf2628e6f24ea791fd08fcdf356605",
       "version_major": 2,
       "version_minor": 0
      },
      "text/plain": [
       "Canvas(height=210, width=160)"
      ]
     },
     "metadata": {},
     "output_type": "display_data"
    },
    {
     "name": "stdout",
     "output_type": "stream",
     "text": [
      "(2321, 210, 160, 3)\n",
      "(210, 160, 3)\n"
     ]
    },
    {
     "data": {
      "application/vnd.jupyter.widget-view+json": {
       "model_id": "4929a2d5abe3413a9946e4f2e21ca415",
       "version_major": 2,
       "version_minor": 0
      },
      "text/plain": [
       "interactive(children=(IntSlider(value=0, description='x', layout=Layout(width='100%'), max=2320), Output()), _…"
      ]
     },
     "metadata": {},
     "output_type": "display_data"
    },
    {
     "data": {
      "application/vnd.jupyter.widget-view+json": {
       "model_id": "201fb36575dc4b8c86a74aeedaf5e73d",
       "version_major": 2,
       "version_minor": 0
      },
      "text/plain": [
       "Canvas(height=210, width=160)"
      ]
     },
     "metadata": {},
     "output_type": "display_data"
    },
    {
     "name": "stdout",
     "output_type": "stream",
     "text": [
      "(3532, 210, 160, 3)\n",
      "(210, 160, 3)\n"
     ]
    },
    {
     "data": {
      "application/vnd.jupyter.widget-view+json": {
       "model_id": "ed7bdef15dcf47eea361d781f85c1537",
       "version_major": 2,
       "version_minor": 0
      },
      "text/plain": [
       "interactive(children=(IntSlider(value=0, description='x', layout=Layout(width='100%'), max=3531), Output()), _…"
      ]
     },
     "metadata": {},
     "output_type": "display_data"
    },
    {
     "data": {
      "application/vnd.jupyter.widget-view+json": {
       "model_id": "e72668b83fc34a7680ffb2b4a81db842",
       "version_major": 2,
       "version_minor": 0
      },
      "text/plain": [
       "Canvas(height=210, width=160)"
      ]
     },
     "metadata": {},
     "output_type": "display_data"
    }
   ],
   "source": [
    "from pprint import pprint\n",
    "import datasets\n",
    "import pyworld.toolkit.tools.visutils.jupyter as J\n",
    "\n",
    "dataset = datasets.dataset('aad.anomaly.Breakout')\n",
    "\n",
    "for anomaly, eps in dataset.meta.anomaly.items():\n",
    "    print(anomaly, eps)\n",
    "\n",
    "x = [x for x in dataset.state.load(files=dataset.meta.anomaly['block'])]\n",
    "J.images(x[0])\n"
   ]
  },
  {
   "cell_type": "code",
   "execution_count": null,
   "metadata": {},
   "outputs": [],
   "source": []
  },
  {
   "cell_type": "code",
   "execution_count": null,
   "metadata": {},
   "outputs": [],
   "source": []
  }
 ],
 "metadata": {
  "kernelspec": {
   "display_name": "PhD",
   "language": "python",
   "name": "phd"
  },
  "language_info": {
   "codemirror_mode": {
    "name": "ipython",
    "version": 3
   },
   "file_extension": ".py",
   "mimetype": "text/x-python",
   "name": "python",
   "nbconvert_exporter": "python",
   "pygments_lexer": "ipython3",
   "version": "3.8.2"
  }
 },
 "nbformat": 4,
 "nbformat_minor": 4
}
